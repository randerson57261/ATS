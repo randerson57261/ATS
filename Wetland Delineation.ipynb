{
 "cells": [
  {
   "cell_type": "code",
   "execution_count": 1,
   "metadata": {
    "collapsed": false
   },
   "outputs": [
   ],
   "source": [
    "#Adds higher directory to path to access /ATS\n",
    "import sys\n",
    "sys.path.append(\"../\")\n",
    "\n",
    "from ATS.general import *\n",
    "from ATS.QAQC import *\n",
    "\n",
    "import pandas as pd\n",
    "\n",
    "# Set the DataFram in pandas to show all columns and 1000 rows. Display plots inline\n",
    "pd.options.display.max_columns = None\n",
    "pd.set_option('display.max_rows', 1000)"
   ]
  },
  {
   "cell_type": "markdown",
   "metadata": {
    "collapsed": false
   },
   "source": [
    "# Load and Subset Data"
   ]
  },
  {
   "cell_type": "code",
   "execution_count": 2,
   "metadata": {
    "collapsed": false
   },
   "outputs": [
    {
     "data": {
      "text/html": [
       "<div class=\"item_container\" style=\"height: auto; overflow: hidden; border: 1px solid #cfcfcf; border-radius: 2px; background: #f6fafa; line-height: 1.21429em; padding: 10px;\">\n",
       "                    <div class=\"item_left\" style=\"width: 210px; float: left;\">\n",
       "                       <a href='https://A-T-S.maps.arcgis.com/home/item.html?id=d479de4cd76547c1ab355faaef5808de' target='_blank'>\n",
       "                        <img src='data:image/png;base64,iVBORw0KGgoAAAANSUhEUgAAAMgAAACFCAIAAACR/CB7AAAACXBIWXMAAAAnAAAAJwEqCZFPAAABbElEQVR4nO3SwQ3AIBDAsNL9dz6WIEJC9gR5ZM3MB6f9twN4k7FIGIuEsUgYi4SxSBiLhLFIGIuEsUgYi4SxSBiLhLFIGIuEsUgYi4SxSBiLhLFIGIuEsUgYi4SxSBiLhLFIGIuEsUgYi4SxSBiLhLFIGIuEsUgYi4SxSBiLhLFIGIuEsUgYi4SxSBiLhLFIGIuEsUgYi4SxSBiLhLFIGIuEsUgYi4SxSBiLhLFIGIuEsUgYi4SxSBiLhLFIGIuEsUgYi4SxSBiLhLFIGIuEsUgYi4SxSBiLhLFIGIuEsUgYi4SxSBiLhLFIGIuEsUgYi4SxSBiLhLFIGIuEsUgYi4SxSBiLhLFIGIuEsUgYi4SxSBiLhLFIGIuEsUgYi4SxSBiLhLFIGIuEsUgYi4SxSBiLhLFIGIuEsUgYi4SxSBiLhLFIGIuEsUgYi4SxSBiLhLFIGIuEsUgYi4SxSBiLhLFIGIuEsUgYi4SxSGy4dQQHgizXSQAAAABJRU5ErkJggg==' width='200' height='133' class=\"itemThumbnail\">\n",
       "                       </a>\n",
       "                    </div>\n",
       "\n",
       "                    <div class=\"item_right\"     style=\"float: none; width: auto; overflow: hidden;\">\n",
       "                        <a href='https://A-T-S.maps.arcgis.com/home/item.html?id=d479de4cd76547c1ab355faaef5808de' target='_blank'><b>Wetland_Delineation_v2</b>\n",
       "                        </a>\n",
       "                        <br/>Wetland Delineation v2<img src='https://A-T-S.maps.arcgis.com/home/js/jsapi/esri/css/images/item_type_icons/featureshosted16.png' style=\"vertical-align:middle;\">Feature Layer Collection by Anooshi\n",
       "                        <br/>Last Modified: December 03, 2019\n",
       "                        <br/>0 comments, 150 views\n",
       "                    </div>\n",
       "                </div>\n",
       "                "
      ],
      "text/plain": [
       "<Item title:\"Wetland_Delineation_v2\" type:Feature Layer Collection owner:Anooshi>"
      ]
     },
     "execution_count": 2,
     "metadata": {
     },
     "output_type": "execute_result"
    }
   ],
   "source": [
    "output = arcGIS_data_load('d479de4cd76547c1ab355faaef5808de')\n",
    "pts = output['data0'] #point data\n",
    "poly = output['data1'] #Polygon data\n",
    "feature_service = output['feature_service']"
   ]
  },
  {
   "cell_type": "code",
   "execution_count": 4,
   "metadata": {
    "collapsed": false
   },
   "outputs": [
    {
     "data": {
      "text/plain": [
       "Index(['BHR_Site', 'Comments', 'Date', 'GlobalID', 'OBJECTID', 'Observer',\n",
       "       'SHAPE', 'Shape__Area', 'Shape__Length', 'Wetland_ID'],\n",
       "      dtype='object')"
      ]
     },
     "execution_count": 4,
     "metadata": {
     },
     "output_type": "execute_result"
    }
   ],
   "source": [
    "poly.columns"
   ]
  },
  {
   "cell_type": "code",
   "execution_count": 5,
   "metadata": {
    "collapsed": false
   },
   "outputs": [
    {
     "name": "stdout",
     "output_type": "stream",
     "text": [
      "Start Year? (YYYY)2018\n",
      "Analysis for 2018-10-01 07:00 UTC to 2019-10-01 07:00 UTC\n",
      "Entries in Subset: 14\n",
      "Analysis for 2018-10-01 07:00 UTC to 2019-10-01 07:00 UTC\n",
      "Entries in Subset: 5\n"
     ]
    }
   ],
   "source": [
    "# Subset by year\n",
    "pts.rename(columns={\"Final_Date\": \"Observation_Date\"}, inplace=True)\n",
    "poly.rename(columns={'Date':'Observation_Date'},inplace=True)\n",
    "\n",
    "sYear = input(\"Start Year? (YYYY)\")\n",
    "ptsSub = year_subset(pts, sYear)\n",
    "polySub = year_subset(poly, sYear)"
   ]
  },
  {
   "cell_type": "markdown",
   "metadata": {
    "collapsed": false
   },
   "source": [
    "# QAQC - Points"
   ]
  },
  {
   "cell_type": "code",
   "execution_count": 6,
   "metadata": {
    "collapsed": false
   },
   "outputs": [
    {
     "name": "stdout",
     "output_type": "stream",
     "text": [
      "Name of Object ID Column:  ['OBJECTID']\n",
      "\n",
      "\n",
      "Analysis for: BHR_Site\n",
      "No \\xa0 characters found\n",
      "No double spaces found\n",
      "No triple spaces found\n",
      "No trailing white space found\n",
      "\n",
      "\n",
      "Analysis for: GlobalID\n",
      "No \\xa0 characters found\n",
      "No double spaces found\n",
      "No triple spaces found\n",
      "No trailing white space found\n",
      "\n",
      "\n",
      "Analysis for: Hydric_Soil_Present\n",
      "No \\xa0 characters found\n",
      "No double spaces found\n",
      "No triple spaces found\n",
      "No trailing white space found\n",
      "\n",
      "\n",
      "Analysis for: Hydrophytic_Vegetation_Present\n",
      "No \\xa0 characters found\n",
      "No double spaces found\n",
      "No triple spaces found\n",
      "No trailing white space found\n",
      "\n",
      "\n",
      "Analysis for: Sampled_Area_Within_Wetland\n",
      "No \\xa0 characters found\n",
      "No double spaces found\n",
      "No triple spaces found\n",
      "No trailing white space found\n",
      "\n",
      "\n",
      "Analysis for: Sampling_Point\n",
      "No \\xa0 characters found\n",
      "No double spaces found\n",
      "No triple spaces found\n",
      "No trailing white space found\n",
      "\n",
      "\n",
      "Analysis for: Surveyor1\n",
      "No \\xa0 characters found\n",
      "No double spaces found\n",
      "No triple spaces found\n",
      "No trailing white space found\n",
      "\n",
      "\n",
      "Analysis for: Surveyor2\n",
      "No \\xa0 characters found\n",
      "No double spaces found\n",
      "No triple spaces found\n",
      "No trailing white space found\n",
      "\n",
      "\n",
      "Analysis for: Wetland_Hydrology_Present\n",
      "No \\xa0 characters found\n",
      "No double spaces found\n",
      "No triple spaces found\n",
      "No trailing white space found\n",
      "\n",
      "\n",
      "Analysis for: Wetland_ID\n",
      "No \\xa0 characters found\n",
      "No double spaces found\n",
      "No triple spaces found\n",
      "No trailing white space found\n"
     ]
    }
   ],
   "source": [
    "#QAQC Whitespaces\n",
    "QAQC_whitespace(pts)"
   ]
  },
  {
   "cell_type": "code",
   "execution_count": 7,
   "metadata": {
    "collapsed": false
   },
   "outputs": [
    {
     "name": "stdout",
     "output_type": "stream",
     "text": [
      "No blank BHR_Site\n",
      "No blank Observation_Date\n",
      "No blank GlobalID\n",
      "No blank Hydric_Soil_Present\n",
      "No blank Hydrophytic_Vegetation_Present\n",
      "No blank OBJECTID\n",
      "No blank SHAPE\n",
      "No blank Sampled_Area_Within_Wetland\n",
      "Blank Sampling_Point entrie(s) exist!\n"
     ]
    },
    {
     "data": {
      "text/html": [
       "<div>\n",
       "<style scoped>\n",
       "    .dataframe tbody tr th:only-of-type {\n",
       "        vertical-align: middle;\n",
       "    }\n",
       "\n",
       "    .dataframe tbody tr th {\n",
       "        vertical-align: top;\n",
       "    }\n",
       "\n",
       "    .dataframe thead th {\n",
       "        text-align: right;\n",
       "    }\n",
       "</style>\n",
       "<table border=\"1\" class=\"dataframe\">\n",
       "  <thead>\n",
       "    <tr style=\"text-align: right;\">\n",
       "      <th></th>\n",
       "      <th>BHR_Site</th>\n",
       "      <th>Observation_Date</th>\n",
       "      <th>GlobalID</th>\n",
       "      <th>Hydric_Soil_Present</th>\n",
       "      <th>Hydrophytic_Vegetation_Present</th>\n",
       "      <th>OBJECTID</th>\n",
       "      <th>SHAPE</th>\n",
       "      <th>Sampled_Area_Within_Wetland</th>\n",
       "      <th>Sampling_Point</th>\n",
       "      <th>Surveyor1</th>\n",
       "      <th>Surveyor2</th>\n",
       "      <th>Wetland_Hydrology_Present</th>\n",
       "      <th>Wetland_ID</th>\n",
       "    </tr>\n",
       "  </thead>\n",
       "  <tbody>\n",
       "    <tr>\n",
       "      <th>5</th>\n",
       "      <td>SAC</td>\n",
       "      <td>2019-05-06 20:03:31</td>\n",
       "      <td>13e27f64-040e-46ac-8127-17960bf80aef</td>\n",
       "      <td>No</td>\n",
       "      <td>No</td>\n",
       "      <td>7</td>\n",
       "      <td>{\"x\": 6188073.414705391, \"y\": 2038065.55053599...</td>\n",
       "      <td>No</td>\n",
       "      <td>None</td>\n",
       "      <td>Russell Huddleston</td>\n",
       "      <td>Kevin Sherrill</td>\n",
       "      <td>Yes</td>\n",
       "      <td>SW7.2a</td>\n",
       "    </tr>\n",
       "  </tbody>\n",
       "</table>\n",
       "</div>"
      ],
      "text/plain": [
       "  BHR_Site    Observation_Date                              GlobalID  \\\n",
       "5      SAC 2019-05-06 20:03:31  13e27f64-040e-46ac-8127-17960bf80aef   \n",
       "\n",
       "  Hydric_Soil_Present Hydrophytic_Vegetation_Present  OBJECTID  \\\n",
       "5                  No                             No         7   \n",
       "\n",
       "                                               SHAPE  \\\n",
       "5  {\"x\": 6188073.414705391, \"y\": 2038065.55053599...   \n",
       "\n",
       "  Sampled_Area_Within_Wetland Sampling_Point           Surveyor1  \\\n",
       "5                          No           None  Russell Huddleston   \n",
       "\n",
       "        Surveyor2 Wetland_Hydrology_Present Wetland_ID  \n",
       "5  Kevin Sherrill                       Yes     SW7.2a  "
      ]
     },
     "execution_count": 7,
     "metadata": {
     },
     "output_type": "execute_result"
    },
    {
     "name": "stdout",
     "output_type": "stream",
     "text": [
      "No blank Surveyor1\n",
      "No blank Surveyor2\n",
      "No blank Wetland_Hydrology_Present\n",
      "No blank Wetland_ID\n"
     ]
    }
   ],
   "source": [
    "find_blank_entries(pts)"
   ]
  },
  {
   "cell_type": "code",
   "execution_count": 9,
   "metadata": {
    "collapsed": false
   },
   "outputs": [
    {
     "data": {
      "image/png": "[encoded data removed]",
      "text/plain": "<Figure size 1008x2520 with 10 Axes>"
     },
     "output_type": "display_data"
    }
   ],
   "source": [
    "QAQC_plot(pts,['BHR_Site', 'Observation_Date', 'Hydric_Soil_Present',\n",
    "       'Hydrophytic_Vegetation_Present',\n",
    "       'Sampled_Area_Within_Wetland', 'Sampling_Point', 'Surveyor1',\n",
    "       'Surveyor2', 'Wetland_Hydrology_Present', 'Wetland_ID'])"
   ]
  },
  {
   "cell_type": "markdown",
   "metadata": {
    "collapsed": false
   },
   "source": [
    "# QAQC - Polygons"
   ]
  },
  {
   "cell_type": "code",
   "execution_count": 10,
   "metadata": {
    "collapsed": false
   },
   "outputs": [
    {
     "name": "stdout",
     "output_type": "stream",
     "text": [
      "Name of Object ID Column:  ['OBJECTID']\n",
      "\n",
      "\n",
      "Analysis for: BHR_Site\n",
      "No \\xa0 characters found\n",
      "No double spaces found\n",
      "No triple spaces found\n",
      "No trailing white space found\n",
      "\n",
      "\n",
      "Analysis for: Comments\n",
      "No \\xa0 characters found\n",
      "No double spaces found\n",
      "No triple spaces found\n",
      "No trailing white space found\n",
      "\n",
      "\n",
      "Analysis for: GlobalID\n",
      "No \\xa0 characters found\n",
      "No double spaces found\n",
      "No triple spaces found\n",
      "No trailing white space found\n",
      "\n",
      "\n",
      "Analysis for: Observer\n",
      "No \\xa0 characters found\n",
      "No double spaces found\n",
      "No triple spaces found\n",
      "No trailing white space found\n",
      "\n",
      "\n",
      "Analysis for: Wetland_ID\n",
      "No \\xa0 characters found\n",
      "No double spaces found\n",
      "No triple spaces found\n",
      "No trailing white space found\n"
     ]
    }
   ],
   "source": [
    "#QAQC Whitespaces\n",
    "QAQC_whitespace(poly)"
   ]
  },
  {
   "cell_type": "code",
   "execution_count": 11,
   "metadata": {
    "collapsed": false
   },
   "outputs": [
    {
     "name": "stdout",
     "output_type": "stream",
     "text": [
      "No blank BHR_Site\n",
      "No blank Comments\n",
      "No blank Observation_Date\n",
      "No blank GlobalID\n",
      "No blank OBJECTID\n",
      "No blank Observer\n",
      "No blank SHAPE\n",
      "No blank Shape__Area\n",
      "No blank Shape__Length\n",
      "No blank Wetland_ID\n"
     ]
    }
   ],
   "source": [
    "find_blank_entries(poly)"
   ]
  },
  {
   "cell_type": "code",
   "execution_count": 13,
   "metadata": {
    "collapsed": false
   },
   "outputs": [
    {
     "data": {
      "image/png": "[encoded data removed]",
      "text/plain": "<Figure size 1008x1008 with 4 Axes>"
     },
     "output_type": "display_data"
    }
   ],
   "source": [
    "QAQC_plot(poly, ['BHR_Site', 'Observation_Date', 'Observer', 'Wetland_ID'])"
   ]
  },
  {
   "cell_type": "markdown",
   "metadata": {
    "collapsed": false
   },
   "source": [
    "# Export Data Deliverable"
   ]
  },
  {
   "cell_type": "code",
   "execution_count": 14,
   "metadata": {
    "collapsed": false
   },
   "outputs": [
   ],
   "source": [
    "field_order = [\n",
    "'BHR_Site', \n",
    "'Observation_Date', \n",
    "'Surveyor1',\n",
    "'Surveyor2',\n",
    "'Wetland_ID',\n",
    "'Sampling_Point',\n",
    "'Hydrophytic_Vegetation_Present', \n",
    "'Wetland_Hydrology_Present',\n",
    "'Hydric_Soil_Present',\n",
    "'Sampled_Area_Within_Wetland', \n",
    "\n",
    "'OBJECTID', \n",
    "'GlobalID', \n",
    "'SHAPE',\n",
    "]"
   ]
  },
  {
   "cell_type": "code",
   "execution_count": 15,
   "metadata": {
    "collapsed": false
   },
   "outputs": [
    {
     "name": "stdout",
     "output_type": "stream",
     "text": [
      "No Related Table Found\n",
      "Exported to G:/Scripts_Toolboxes/Annual_Report/Outputs/SAC_Wetland_Delineation_Points_Data_20191206.xlsx\n"
     ]
    }
   ],
   "source": [
    "export_data_deliverable(pts, feature_service, field_order, layer_num=0, file_name='SAC_Wetland_Delineation_Points')"
   ]
  },
  {
   "cell_type": "code",
   "execution_count": 16,
   "metadata": {
    "collapsed": false
   },
   "outputs": [
   ],
   "source": [
    "field_order = [\n",
    "'BHR_Site',\n",
    "'Observation_Date',\n",
    "'Observer',\n",
    "'Wetland_ID',\n",
    "'Comments', \n",
    "'OBJECTID',\n",
    "'GlobalID',  \n",
    "'SHAPE', \n",
    "'Shape__Area', \n",
    "'Shape__Length', \n",
    "]"
   ]
  },
  {
   "cell_type": "code",
   "execution_count": 17,
   "metadata": {
    "collapsed": false
   },
   "outputs": [
    {
     "name": "stdout",
     "output_type": "stream",
     "text": [
      "No Related Table Found\n",
      "Exported to G:/Scripts_Toolboxes/Annual_Report/Outputs/SAC_Wetland_Delineation_Polygons_Data_20191206.xlsx\n"
     ]
    }
   ],
   "source": [
    "export_data_deliverable(poly, feature_service, field_order, layer_num=1, file_name='SAC_Wetland_Delineation_Polygons')"
   ]
  },
  {
   "cell_type": "code",
   "execution_count": 0,
   "metadata": {
    "collapsed": false
   },
   "outputs": [
   ],
   "source": [
   ]
  }
 ],
 "metadata": {
  "kernelspec": {
   "display_name": "Python 3 (system-wide)",
   "language": "python",
   "metadata": {
    "cocalc": {
     "description": "Python 3 programming language",
     "priority": 100,
     "url": "https://www.python.org/"
    }
   },
   "name": "python3",
   "resource_dir": "/ext/jupyter/kernels/python3"
  },
  "language_info": {
   "codemirror_mode": {
    "name": "ipython",
    "version": 3
   },
   "file_extension": ".py",
   "mimetype": "text/x-python",
   "name": "python",
   "nbconvert_exporter": "python",
   "pygments_lexer": "ipython3",
   "version": "3.6.6"
  }
 },
 "nbformat": 4,
 "nbformat_minor": 4
}