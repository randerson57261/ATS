{
 "cells": [
  {
   "cell_type": "code",
   "execution_count": 1,
   "metadata": {
    "collapsed": false
   },
   "outputs": [
    {
     "name": "stderr",
     "output_type": "stream",
     "text": [
      "2021-12-22 00:29:27.432323: W tensorflow/stream_executor/platform/default/dso_loader.cc:64] Could not load dynamic library 'libcudart.so.11.0'; dlerror: libcudart.so.11.0: cannot open shared object file: No such file or directory\n",
      "2021-12-22 00:29:27.432376: I tensorflow/stream_executor/cuda/cudart_stub.cc:29] Ignore above cudart dlerror if you do not have a GPU set up on your machine.\n"
     ]
    }
   ],
   "source": [
    "#Adds higher directory to path, so we can access /ATS\n",
    "import sys\n",
    "sys.path.append(\"../\")\n",
    "\n",
    "from ATS.general import *\n",
    "from ATS.QAQC import *\n",
    "\n",
    "import pandas as pd\n",
    "\n",
    "# Set the DataFram in pandas to show all columns and 1000 rows. Display plots inline\n",
    "pd.options.display.max_columns = None\n",
    "pd.set_option('display.max_rows', 1000)"
   ]
  },
  {
   "cell_type": "code",
   "execution_count": 2,
   "metadata": {
    "collapsed": false
   },
   "outputs": [
    {
     "data": {
      "text/html": [
       "<div class=\"item_container\" style=\"height: auto; overflow: hidden; border: 1px solid #cfcfcf; border-radius: 2px; background: #f6fafa; line-height: 1.21429em; padding: 10px;\">\n",
       "                    <div class=\"item_left\" style=\"width: 210px; float: left;\">\n",
       "                       <a href='https://A-T-S.maps.arcgis.com/home/item.html?id=9bea1417c37946dfb2c662bd3d8a6d7f' target='_blank'>\n",
       "                        <img src='data:image/png;base64,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' width='200' height='133' class=\"itemThumbnail\">\n",
       "                       </a>\n",
       "                    </div>\n",
       "\n",
       "                    <div class=\"item_right\"     style=\"float: none; width: auto; overflow: hidden;\">\n",
       "                        <a href='https://A-T-S.maps.arcgis.com/home/item.html?id=9bea1417c37946dfb2c662bd3d8a6d7f' target='_blank'><b>SAC_DIGR_Photo_Monitoring_RT</b>\n",
       "                        </a>\n",
       "                        <br/>SAC DIGR Photo Monitoring - Related Table<img src='https://A-T-S.maps.arcgis.com/home/js/jsapi/esri/css/images/item_type_icons/featureshosted16.png' style=\"vertical-align:middle;\">Feature Layer Collection by Anooshi\n",
       "                        <br/>Last Modified: December 05, 2019\n",
       "                        <br/>0 comments, 241 views\n",
       "                    </div>\n",
       "                </div>\n",
       "                "
      ],
      "text/plain": [
       "<Item title:\"SAC_DIGR_Photo_Monitoring_RT\" type:Feature Layer Collection owner:Anooshi>"
      ]
     },
     "execution_count": 2,
     "metadata": {
     },
     "output_type": "execute_result"
    }
   ],
   "source": [
    "# Load data from arcGIS online\n",
    "output = arcGIS_data_load('9bea1417c37946dfb2c662bd3d8a6d7f')\n",
    "\n",
    "stations = output['data0']\n",
    "observations = output['table0']\n",
    "feature_service = output['feature_service']"
   ]
  },
  {
   "cell_type": "code",
   "execution_count": 3,
   "metadata": {
    "collapsed": false
   },
   "outputs": [
    {
     "data": {
      "text/html": [
       "<div>\n",
       "<style scoped>\n",
       "    .dataframe tbody tr th:only-of-type {\n",
       "        vertical-align: middle;\n",
       "    }\n",
       "\n",
       "    .dataframe tbody tr th {\n",
       "        vertical-align: top;\n",
       "    }\n",
       "\n",
       "    .dataframe thead th {\n",
       "        text-align: right;\n",
       "    }\n",
       "</style>\n",
       "<table border=\"1\" class=\"dataframe\">\n",
       "  <thead>\n",
       "    <tr style=\"text-align: right;\">\n",
       "      <th></th>\n",
       "      <th>OBJECTID</th>\n",
       "      <th>Surveyor_1</th>\n",
       "      <th>Surveyor_2</th>\n",
       "      <th>Phenology</th>\n",
       "      <th>Observation_Date</th>\n",
       "      <th>Treat_Type</th>\n",
       "      <th>Treat_Notes</th>\n",
       "      <th>Herbicide</th>\n",
       "      <th>Contractor</th>\n",
       "      <th>Pct_Cover</th>\n",
       "      <th>GlobalID_2</th>\n",
       "      <th>Ref_to_Stations</th>\n",
       "      <th>Patch_Size_ft</th>\n",
       "    </tr>\n",
       "  </thead>\n",
       "  <tbody>\n",
       "    <tr>\n",
       "      <th>0</th>\n",
       "      <td>1</td>\n",
       "      <td>Mizael Seminatore</td>\n",
       "      <td>None</td>\n",
       "      <td>Adult</td>\n",
       "      <td>2018-08-28 00:54:19</td>\n",
       "      <td>HandPulling</td>\n",
       "      <td>Plants growing near the pond.</td>\n",
       "      <td>None</td>\n",
       "      <td>Hanford</td>\n",
       "      <td>40.0</td>\n",
       "      <td>49657f5b-d64c-4623-a22c-0f5ba163ec09</td>\n",
       "      <td>b423c3aa-70cb-495f-92c7-fe1212502cc3</td>\n",
       "      <td>9687.5100</td>\n",
       "    </tr>\n",
       "    <tr>\n",
       "      <th>1</th>\n",
       "      <td>2</td>\n",
       "      <td>Mizael Seminatore</td>\n",
       "      <td>None</td>\n",
       "      <td>Adult</td>\n",
       "      <td>2018-08-28 23:51:19</td>\n",
       "      <td>Herbicide</td>\n",
       "      <td>Plants growing next to tributary.</td>\n",
       "      <td>Milestone</td>\n",
       "      <td>Hanford</td>\n",
       "      <td>5.0</td>\n",
       "      <td>bce63861-1986-4d34-a772-cbdb55d3d900</td>\n",
       "      <td>c04c5b09-ef7f-4187-9c7d-8bbed6ad9820</td>\n",
       "      <td>161.4585</td>\n",
       "    </tr>\n",
       "    <tr>\n",
       "      <th>2</th>\n",
       "      <td>3</td>\n",
       "      <td>Mizael Seminatore</td>\n",
       "      <td>None</td>\n",
       "      <td>Adult</td>\n",
       "      <td>2018-08-24 00:08:40</td>\n",
       "      <td>Herbicide</td>\n",
       "      <td>Plants growing nex to the tributary.</td>\n",
       "      <td>Milestone</td>\n",
       "      <td>Hanford</td>\n",
       "      <td>20.0</td>\n",
       "      <td>b50c166a-b840-4c43-bc19-cb820d7f5ab6</td>\n",
       "      <td>dd938c69-71c5-4293-89eb-143d810d12b5</td>\n",
       "      <td>484.3755</td>\n",
       "    </tr>\n",
       "    <tr>\n",
       "      <th>3</th>\n",
       "      <td>4</td>\n",
       "      <td>Mizael Seminatore</td>\n",
       "      <td>None</td>\n",
       "      <td>Adult</td>\n",
       "      <td>2018-08-24 00:14:14</td>\n",
       "      <td>Herbicide</td>\n",
       "      <td>Plants growing nex to the tributary.</td>\n",
       "      <td>Milestone</td>\n",
       "      <td>Hanford</td>\n",
       "      <td>10.0</td>\n",
       "      <td>3e751451-a5cd-4416-bb05-69542498741b</td>\n",
       "      <td>783f5cd9-82c3-4c30-ae34-3b4358b0db81</td>\n",
       "      <td>710.4174</td>\n",
       "    </tr>\n",
       "    <tr>\n",
       "      <th>4</th>\n",
       "      <td>5</td>\n",
       "      <td>Mizael Seminatore</td>\n",
       "      <td>None</td>\n",
       "      <td>Adult</td>\n",
       "      <td>2018-08-24 00:16:55</td>\n",
       "      <td>Herbicide</td>\n",
       "      <td>Plants growing nex to the tributary.</td>\n",
       "      <td>Milestone</td>\n",
       "      <td>Hanford</td>\n",
       "      <td>30.0</td>\n",
       "      <td>acfd11ae-8679-4037-91b5-310b26f2c525</td>\n",
       "      <td>7d6815fa-0ca9-4a2b-9b23-0d64d43ee5c2</td>\n",
       "      <td>32.2917</td>\n",
       "    </tr>\n",
       "  </tbody>\n",
       "</table>\n",
       "</div>"
      ],
      "text/plain": [
       "   OBJECTID         Surveyor_1 Surveyor_2 Phenology    Observation_Date  \\\n",
       "0         1  Mizael Seminatore       None     Adult 2018-08-28 00:54:19   \n",
       "1         2  Mizael Seminatore       None     Adult 2018-08-28 23:51:19   \n",
       "2         3  Mizael Seminatore       None     Adult 2018-08-24 00:08:40   \n",
       "3         4  Mizael Seminatore       None     Adult 2018-08-24 00:14:14   \n",
       "4         5  Mizael Seminatore       None     Adult 2018-08-24 00:16:55   \n",
       "\n",
       "    Treat_Type                           Treat_Notes  Herbicide Contractor  \\\n",
       "0  HandPulling         Plants growing near the pond.       None    Hanford   \n",
       "1    Herbicide     Plants growing next to tributary.  Milestone    Hanford   \n",
       "2    Herbicide  Plants growing nex to the tributary.  Milestone    Hanford   \n",
       "3    Herbicide  Plants growing nex to the tributary.  Milestone    Hanford   \n",
       "4    Herbicide  Plants growing nex to the tributary.  Milestone    Hanford   \n",
       "\n",
       "   Pct_Cover                            GlobalID_2  \\\n",
       "0       40.0  49657f5b-d64c-4623-a22c-0f5ba163ec09   \n",
       "1        5.0  bce63861-1986-4d34-a772-cbdb55d3d900   \n",
       "2       20.0  b50c166a-b840-4c43-bc19-cb820d7f5ab6   \n",
       "3       10.0  3e751451-a5cd-4416-bb05-69542498741b   \n",
       "4       30.0  acfd11ae-8679-4037-91b5-310b26f2c525   \n",
       "\n",
       "                        Ref_to_Stations  Patch_Size_ft  \n",
       "0  b423c3aa-70cb-495f-92c7-fe1212502cc3      9687.5100  \n",
       "1  c04c5b09-ef7f-4187-9c7d-8bbed6ad9820       161.4585  \n",
       "2  dd938c69-71c5-4293-89eb-143d810d12b5       484.3755  \n",
       "3  783f5cd9-82c3-4c30-ae34-3b4358b0db81       710.4174  \n",
       "4  7d6815fa-0ca9-4a2b-9b23-0d64d43ee5c2        32.2917  "
      ]
     },
     "execution_count": 3,
     "metadata": {
     },
     "output_type": "execute_result"
    }
   ],
   "source": [
    "stations.head()\n",
    "observations.head()"
   ]
  },
  {
   "cell_type": "code",
   "execution_count": 4,
   "metadata": {
    "collapsed": false
   },
   "outputs": [
    {
     "data": {
      "text/html": [
       "<div>\n",
       "<style scoped>\n",
       "    .dataframe tbody tr th:only-of-type {\n",
       "        vertical-align: middle;\n",
       "    }\n",
       "\n",
       "    .dataframe tbody tr th {\n",
       "        vertical-align: top;\n",
       "    }\n",
       "\n",
       "    .dataframe thead th {\n",
       "        text-align: right;\n",
       "    }\n",
       "</style>\n",
       "<table border=\"1\" class=\"dataframe\">\n",
       "  <thead>\n",
       "    <tr style=\"text-align: right;\">\n",
       "      <th></th>\n",
       "      <th>Point_ID</th>\n",
       "      <th>BHR_Site</th>\n",
       "      <th>Plnt_Spc</th>\n",
       "      <th>Azimuth</th>\n",
       "      <th>SHAPE</th>\n",
       "      <th>Record_ID</th>\n",
       "      <th>Surveyor_1</th>\n",
       "      <th>Surveyor_2</th>\n",
       "      <th>Phenology</th>\n",
       "      <th>Observation_Date</th>\n",
       "      <th>Treat_Type</th>\n",
       "      <th>Treat_Notes</th>\n",
       "      <th>Herbicide</th>\n",
       "      <th>Contractor</th>\n",
       "      <th>Pct_Cover</th>\n",
       "      <th>Record_GlobalID</th>\n",
       "      <th>Patch_Size_ft</th>\n",
       "    </tr>\n",
       "  </thead>\n",
       "  <tbody>\n",
       "    <tr>\n",
       "      <th>0</th>\n",
       "      <td>1</td>\n",
       "      <td>SAC</td>\n",
       "      <td>DIGR</td>\n",
       "      <td>90</td>\n",
       "      <td>{'x': 6185395.54473357, 'y': 2035877.857551558...</td>\n",
       "      <td>1</td>\n",
       "      <td>Mizael Seminatore</td>\n",
       "      <td>None</td>\n",
       "      <td>Adult</td>\n",
       "      <td>2018-08-28 00:54:19</td>\n",
       "      <td>HandPulling</td>\n",
       "      <td>Plants growing near the pond.</td>\n",
       "      <td>None</td>\n",
       "      <td>Hanford</td>\n",
       "      <td>40.0</td>\n",
       "      <td>49657f5b-d64c-4623-a22c-0f5ba163ec09</td>\n",
       "      <td>9687.5100</td>\n",
       "    </tr>\n",
       "    <tr>\n",
       "      <th>1</th>\n",
       "      <td>1</td>\n",
       "      <td>SAC</td>\n",
       "      <td>DIGR</td>\n",
       "      <td>90</td>\n",
       "      <td>{'x': 6185395.54473357, 'y': 2035877.857551558...</td>\n",
       "      <td>44</td>\n",
       "      <td>Mizael Seminatore</td>\n",
       "      <td>None</td>\n",
       "      <td>Adult</td>\n",
       "      <td>2019-08-22 00:54:00</td>\n",
       "      <td>HandPulling</td>\n",
       "      <td>Plants growing near the pond.</td>\n",
       "      <td>None</td>\n",
       "      <td>Hanford</td>\n",
       "      <td>5.0</td>\n",
       "      <td>7653fd97-c34c-4ba7-902f-766d7cf97e1f</td>\n",
       "      <td>6996.5350</td>\n",
       "    </tr>\n",
       "    <tr>\n",
       "      <th>2</th>\n",
       "      <td>1</td>\n",
       "      <td>SAC</td>\n",
       "      <td>DIGR</td>\n",
       "      <td>90</td>\n",
       "      <td>{'x': 6185395.54473357, 'y': 2035877.857551558...</td>\n",
       "      <td>74</td>\n",
       "      <td>Kevin Sherrill</td>\n",
       "      <td>Other</td>\n",
       "      <td>Adult</td>\n",
       "      <td>2020-09-10 20:19:59</td>\n",
       "      <td>None</td>\n",
       "      <td>Not yet treated. Herbivory seen throughout tri...</td>\n",
       "      <td>None</td>\n",
       "      <td>Hanford</td>\n",
       "      <td>2.0</td>\n",
       "      <td>75ec5391-c488-46db-8174-fae845e450ff</td>\n",
       "      <td>6623.0000</td>\n",
       "    </tr>\n",
       "    <tr>\n",
       "      <th>3</th>\n",
       "      <td>1</td>\n",
       "      <td>SAC</td>\n",
       "      <td>DIGR</td>\n",
       "      <td>90</td>\n",
       "      <td>{'x': 6185395.54473357, 'y': 2035877.857551558...</td>\n",
       "      <td>76</td>\n",
       "      <td>Kurt Lutz</td>\n",
       "      <td>Other</td>\n",
       "      <td>Vegetative</td>\n",
       "      <td>2021-09-16 16:44:41</td>\n",
       "      <td>Herbicide</td>\n",
       "      <td>Treated twice with clear cast, most recently o...</td>\n",
       "      <td>Other</td>\n",
       "      <td>Hanford</td>\n",
       "      <td>2.0</td>\n",
       "      <td>1cd83a04-469c-4677-a7a7-c082540bf1ab</td>\n",
       "      <td>6623.0000</td>\n",
       "    </tr>\n",
       "    <tr>\n",
       "      <th>4</th>\n",
       "      <td>2</td>\n",
       "      <td>SAC</td>\n",
       "      <td>DIGR</td>\n",
       "      <td>230</td>\n",
       "      <td>{'x': 6185980.41105465, 'y': 2035538.425187033...</td>\n",
       "      <td>2</td>\n",
       "      <td>Mizael Seminatore</td>\n",
       "      <td>None</td>\n",
       "      <td>Adult</td>\n",
       "      <td>2018-08-28 23:51:19</td>\n",
       "      <td>Herbicide</td>\n",
       "      <td>Plants growing next to tributary.</td>\n",
       "      <td>Milestone</td>\n",
       "      <td>Hanford</td>\n",
       "      <td>5.0</td>\n",
       "      <td>bce63861-1986-4d34-a772-cbdb55d3d900</td>\n",
       "      <td>161.4585</td>\n",
       "    </tr>\n",
       "  </tbody>\n",
       "</table>\n",
       "</div>"
      ],
      "text/plain": [
       "   Point_ID BHR_Site Plnt_Spc  Azimuth  \\\n",
       "0         1      SAC     DIGR       90   \n",
       "1         1      SAC     DIGR       90   \n",
       "2         1      SAC     DIGR       90   \n",
       "3         1      SAC     DIGR       90   \n",
       "4         2      SAC     DIGR      230   \n",
       "\n",
       "                                               SHAPE  Record_ID  \\\n",
       "0  {'x': 6185395.54473357, 'y': 2035877.857551558...          1   \n",
       "1  {'x': 6185395.54473357, 'y': 2035877.857551558...         44   \n",
       "2  {'x': 6185395.54473357, 'y': 2035877.857551558...         74   \n",
       "3  {'x': 6185395.54473357, 'y': 2035877.857551558...         76   \n",
       "4  {'x': 6185980.41105465, 'y': 2035538.425187033...          2   \n",
       "\n",
       "          Surveyor_1 Surveyor_2   Phenology    Observation_Date   Treat_Type  \\\n",
       "0  Mizael Seminatore       None       Adult 2018-08-28 00:54:19  HandPulling   \n",
       "1  Mizael Seminatore       None       Adult 2019-08-22 00:54:00  HandPulling   \n",
       "2     Kevin Sherrill      Other       Adult 2020-09-10 20:19:59         None   \n",
       "3          Kurt Lutz      Other  Vegetative 2021-09-16 16:44:41    Herbicide   \n",
       "4  Mizael Seminatore       None       Adult 2018-08-28 23:51:19    Herbicide   \n",
       "\n",
       "                                         Treat_Notes  Herbicide Contractor  \\\n",
       "0                      Plants growing near the pond.       None    Hanford   \n",
       "1                      Plants growing near the pond.       None    Hanford   \n",
       "2  Not yet treated. Herbivory seen throughout tri...       None    Hanford   \n",
       "3  Treated twice with clear cast, most recently o...      Other    Hanford   \n",
       "4                  Plants growing next to tributary.  Milestone    Hanford   \n",
       "\n",
       "   Pct_Cover                       Record_GlobalID  Patch_Size_ft  \n",
       "0       40.0  49657f5b-d64c-4623-a22c-0f5ba163ec09      9687.5100  \n",
       "1        5.0  7653fd97-c34c-4ba7-902f-766d7cf97e1f      6996.5350  \n",
       "2        2.0  75ec5391-c488-46db-8174-fae845e450ff      6623.0000  \n",
       "3        2.0  1cd83a04-469c-4677-a7a7-c082540bf1ab      6623.0000  \n",
       "4        5.0  bce63861-1986-4d34-a772-cbdb55d3d900       161.4585  "
      ]
     },
     "execution_count": 4,
     "metadata": {
     },
     "output_type": "execute_result"
    }
   ],
   "source": [
    "# Merge related table and feature layer\n",
    "data = stations.merge(observations, left_on='GlobalID_2', right_on='Ref_to_Stations', how='inner')\n",
    "data = data.drop(columns=['GlobalID_2_x','Ref_to_Stations'])\n",
    "data = data.rename(columns={'OBJECTID_x':'Point_ID','GlobalID_2_y':'Record_GlobalID', 'OBJECTID_y':'Record_ID'})\n",
    "data.head()"
   ]
  },
  {
   "cell_type": "code",
   "execution_count": 5,
   "metadata": {
    "cocalc": {
     "outputs": {
      "0": {
       "name": "input",
       "opts": {
        "password": false,
        "prompt": "Start Year? (YYYY)"
       },
       "output_type": "stream"
      }
     }
    },
    "collapsed": false
   },
   "outputs": [
    {
     "name": "stdout",
     "output_type": "stream",
     "text": "Start Year? (YYYY) "
    }
   ],
   "source": [
    "# Subset data for desired year.\n",
    "sYear = input(\"Start Year? (YYYY)\")\n",
    "sub = year_subset(data,sYear)"
   ]
  },
  {
   "cell_type": "markdown",
   "metadata": {
    "collapsed": false
   },
   "source": [
    "# QAQC"
   ]
  },
  {
   "cell_type": "code",
   "execution_count": 0,
   "metadata": {
    "collapsed": false,
    "scrolled": true
   },
   "outputs": [
   ],
   "source": [
    "validate_domains(feature_service)"
   ]
  },
  {
   "cell_type": "code",
   "execution_count": 0,
   "metadata": {
    "collapsed": false,
    "scrolled": true
   },
   "outputs": [
   ],
   "source": [
    "# QAQC Find blank entries\n",
    "find_blank_entries(data, exclude_cols=['Date_Treated','Herbicide','Surveyor_2','Contractor','Vegetation_Cover_Notes','Treatment_Notes', 'Dominant_NNIP_Species', 'Codominant_NNIP_Species'])\n",
    "#Blank Dominant NNIP(old), Codominant NNIP, BHR Site, Treatment. definition of codominant"
   ]
  },
  {
   "cell_type": "code",
   "execution_count": 0,
   "metadata": {
    "collapsed": false
   },
   "outputs": [
   ],
   "source": [
    "# QAQC Look for blank dominant NNIP Species for baseline monitoring observation type only\n",
    "\n",
    "#### Not relevant for this task ####\n",
    "\n",
    "# subBASE = data.loc[data.Observation_Type=='Baseline',:]\n",
    "# find_blank_entries(subBASE, exclude_cols=['Date_Treated','Herbicide','Surveyor_2','Contractor','Vegetation_Cover_Notes','Treatment_Notes', 'Codominant_NNIP_Species'])"
   ]
  },
  {
   "cell_type": "code",
   "execution_count": 0,
   "metadata": {
    "collapsed": false
   },
   "outputs": [
   ],
   "source": [
    "QAQC_whitespace(sub, exclude_cols=['Comments', 'Vegetation_Cover_Notes','Treatment_Notes', 'Treat_Notes'],objectID = ['Record_ID'])"
   ]
  },
  {
   "cell_type": "code",
   "execution_count": 0,
   "metadata": {
    "collapsed": false
   },
   "outputs": [
   ],
   "source": [
    "data.head()"
   ]
  },
  {
   "cell_type": "code",
   "execution_count": 0,
   "metadata": {
    "collapsed": false,
    "scrolled": true
   },
   "outputs": [
   ],
   "source": [
    "# histogram and pie charts for select columns\n",
    "\n",
    "QAQC_plot(data, ['Plnt_Spc','BHR_Site', 'Treat_Type', 'Contractor',\n",
    "       'Pct_Cover', 'Herbicide', 'Observation_Date',\n",
    "       'Phenology', 'Surveyor_1',\n",
    "       'Surveyor_2', 'Patch_Size_ft'])\n"
   ]
  },
  {
   "cell_type": "code",
   "execution_count": 0,
   "metadata": {
    "collapsed": false,
    "scrolled": true
   },
   "outputs": [
   ],
   "source": [
    "foo = find_outlier(sub, check_cols=['Patch_Size_ft'], boxplot=True)"
   ]
  },
  {
   "cell_type": "code",
   "execution_count": 0,
   "metadata": {
    "collapsed": false
   },
   "outputs": [
   ],
   "source": [
    "compare_years_continuous(data, 'Patch_Size_ft', '2019','2020',50)"
   ]
  },
  {
   "cell_type": "code",
   "execution_count": 0,
   "metadata": {
    "collapsed": false,
    "scrolled": true
   },
   "outputs": [
   ],
   "source": [
    "compare_years_catagorical(data, ['Plnt_Spc','BHR_Site', 'Treat_Type', 'Contractor',\n",
    "       'Pct_Cover', 'Herbicide',\n",
    "       'Phenology', 'Surveyor_1',\n",
    "       'Surveyor_2', 'Patch_Size_ft'], '2019','2020')"
   ]
  },
  {
   "cell_type": "code",
   "execution_count": 0,
   "metadata": {
    "collapsed": false
   },
   "outputs": [
   ],
   "source": [
    "plt.clf()\n",
    "compare_surveyors(sub, 'Pct_Cover',obs_var='Surveyor_1', drop= 3)"
   ]
  },
  {
   "cell_type": "code",
   "execution_count": 21,
   "metadata": {
    "collapsed": false
   },
   "outputs": [
    {
     "name": "stdout",
     "output_type": "stream",
     "text": [
      "Dropping surveyors with less than 5.0 observations\n",
      "They did not make over 5% of total observation\n",
      "Dropping Surveyors: []\n"
     ]
    },
    {
     "name": "stderr",
     "output_type": "stream",
     "text": [
      "/tmp/ipykernel_28811/2819515436.py:1: RankWarning: Polyfit may be poorly conditioned\n",
      "  compare_surveyors(data, 'Pct_Cover',obs_var='Surveyor_1', drop= 5)\n"
     ]
    },
    {
     "data": {
      "image/png": "[encoded data removed]",
      "text/plain": [
       "<Figure size 1080x720 with 1 Axes>"
      ]
     },
     "execution_count": 21,
     "metadata": {
      "image/png": {
       "height": 590,
       "width": 898
      }
     },
     "output_type": "execute_result"
    }
   ],
   "source": [
    "compare_surveyors(data, 'Pct_Cover',obs_var='Surveyor_1', drop= 5)"
   ]
  },
  {
   "cell_type": "code",
   "execution_count": 22,
   "metadata": {
    "collapsed": false
   },
   "outputs": [
    {
     "name": "stdout",
     "output_type": "stream",
     "text": [
      "\n",
      "No attachments for layer/table Stations\n"
     ]
    },
    {
     "name": "stdout",
     "output_type": "stream",
     "text": [
      "Found mislabeled photo attachement(s):\n",
      "Observations\n",
      "Object ID: 1  Current Name:  attachment1.jpg\n",
      "Object ID: 1  Current Name:  SAC_NNIPPhotoMonitoring_20180827_DIGR.jpg\n",
      "Object ID: 2  Current Name:  attachment1.jpg\n",
      "Object ID: 2  Current Name:  SAC_NNIPPhotoMonitoring_20180828_DIGR.jpg\n"
     ]
    },
    {
     "name": "stdout",
     "output_type": "stream",
     "text": [
      "Object ID: 3  Current Name:  attachment1.jpg\n",
      "Object ID: 3  Current Name:  SAC_NNIPPhotoMonitoring_20180823_DIGR.jpg\n",
      "Object ID: 4  Current Name:  attachment1.jpg\n",
      "Object ID: 4  Current Name:  SAC_NNIPPhotoMonitoring_20180823_DIGR.jpg\n"
     ]
    },
    {
     "name": "stdout",
     "output_type": "stream",
     "text": [
      "Object ID: 5  Current Name:  attachment1.jpg\n",
      "Object ID: 5  Current Name:  SAC_NNIPPhotoMonitoring_20180823_DIGR.jpg\n",
      "Object ID: 6  Current Name:  attachment1.jpg\n",
      "Object ID: 6  Current Name:  SAC_NNIPPhotoMonitoring_20180823_DIGR.jpg\n"
     ]
    },
    {
     "name": "stdout",
     "output_type": "stream",
     "text": [
      "Object ID: 7  Current Name:  attachment1.jpg\n",
      "Object ID: 7  Current Name:  SAC_NNIPPhotoMonitoring_20180823_DIGR.jpg\n",
      "Object ID: 8  Current Name:  attachment1.jpg\n",
      "Object ID: 8  Current Name:  SAC_NNIPPhotoMonitoring_20180823_DIGR.jpg\n"
     ]
    },
    {
     "name": "stdout",
     "output_type": "stream",
     "text": [
      "Object ID: 9  Current Name:  attachment1.jpg\n",
      "Object ID: 9  Current Name:  SAC_NNIPPhotoMonitoring_20180823_DIGR.jpg\n",
      "Object ID: 10  Current Name:  attachment1.jpg\n",
      "Object ID: 10  Current Name:  SAC_NNIPPhotoMonitoring_20180823_DIGR.jpg\n"
     ]
    },
    {
     "name": "stdout",
     "output_type": "stream",
     "text": [
      "Object ID: 11  Current Name:  attachment1.jpg\n",
      "Object ID: 11  Current Name:  SAC_NNIPPhotoMonitoring_20180823_DIGR.jpg\n",
      "Object ID: 12  Current Name:  attachment1.jpg\n",
      "Object ID: 12  Current Name:  SAC_NNIPPhotoMonitoring_20180823_DIGR.jpg\n"
     ]
    },
    {
     "name": "stdout",
     "output_type": "stream",
     "text": [
      "Object ID: 13  Current Name:  attachment1.jpg\n",
      "Object ID: 13  Current Name:  SAC_NNIPPhotoMonitoring_20180823_DIGR.jpg\n",
      "Object ID: 14  Current Name:  attachment1.jpg\n",
      "Object ID: 14  Current Name:  SAC_NNIPPhotoMonitoring_20180823_DIGR.jpg\n"
     ]
    },
    {
     "name": "stdout",
     "output_type": "stream",
     "text": [
      "Object ID: 15  Current Name:  attachment1.jpg\n",
      "Object ID: 15  Current Name:  SAC_NNIPPhotoMonitoring_20180823_DIGR.jpg\n",
      "Object ID: 16  Current Name:  attachment1.jpg\n",
      "Object ID: 16  Current Name:  SAC_NNIPPhotoMonitoring_20180823_DIGR.jpg\n"
     ]
    },
    {
     "name": "stdout",
     "output_type": "stream",
     "text": [
      "Object ID: 17  Current Name:  attachment1.jpg\n",
      "Object ID: 17  Current Name:  SAC_NNIPPhotoMonitoring_20180823_DIGR.jpg\n",
      "Object ID: 18  Current Name:  attachment1.jpg\n",
      "Object ID: 18  Current Name:  SAC_NNIPPhotoMonitoring_20180823_DIGR.jpg\n"
     ]
    },
    {
     "name": "stdout",
     "output_type": "stream",
     "text": [
      "Object ID: 19  Current Name:  attachment1.jpg\n",
      "Object ID: 19  Current Name:  SAC_NNIPPhotoMonitoring_20180823_DIGR.jpg\n",
      "Object ID: 20  Current Name:  attachment1.jpg\n",
      "Object ID: 20  Current Name:  SAC_NNIPPhotoMonitoring_20180823_DIGR.jpg\n"
     ]
    },
    {
     "name": "stdout",
     "output_type": "stream",
     "text": [
      "Object ID: 21  Current Name:  attachment1.jpg\n",
      "Object ID: 21  Current Name:  SAC_NNIPPhotoMonitoring_20180823_DIGR.jpg\n",
      "Object ID: 22  Current Name:  attachment1.jpg\n",
      "Object ID: 22  Current Name:  SAC_NNIPPhotoMonitoring_20180823_DIGR.jpg\n",
      "Object ID: 23  Current Name:  attachment1.jpg\n",
      "Object ID: 23  Current Name:  SAC_NNIPPhotoMonitoring_20180823_DIGR.jpg\n"
     ]
    },
    {
     "name": "stdout",
     "output_type": "stream",
     "text": [
      "Object ID: 24  Current Name:  attachment1.jpg\n",
      "Object ID: 24  Current Name:  SAC_NNIPPhotoMonitoring_20180827_DIGR.jpg\n",
      "Object ID: 25  Current Name:  attachment1.jpg\n",
      "Object ID: 25  Current Name:  SAC_NNIPPhotoMonitoring_20180828_DIGR.jpg\n"
     ]
    },
    {
     "name": "stdout",
     "output_type": "stream",
     "text": [
      "Object ID: 26  Current Name:  attachment1.jpg\n",
      "Object ID: 26  Current Name:  SAC_NNIPPhotoMonitoring_20180828_DIGR.jpg\n",
      "Object ID: 27  Current Name:  attachment1.jpg\n",
      "Object ID: 27  Current Name:  SAC_NNIPPhotoMonitoring_20180828_DIGR.jpg\n"
     ]
    },
    {
     "name": "stdout",
     "output_type": "stream",
     "text": [
      "Object ID: 28  Current Name:  attachment1.jpg\n",
      "Object ID: 28  Current Name:  SAC_NNIPPhotoMonitoring_20180828_DIGR.jpg\n",
      "Object ID: 29  Current Name:  SAC_NNIPPhotoMonitoring_20180828_DIGR.jpg\n"
     ]
    },
    {
     "name": "stdout",
     "output_type": "stream",
     "text": [
      "Object ID: 30  Current Name:  attachment1.jpg\n",
      "Object ID: 30  Current Name:  SAC_NNIPPhotoMonitoring_20180828_DIGR.jpg\n",
      "Object ID: 31  Current Name:  attachment1.jpg\n",
      "Object ID: 31  Current Name:  SAC_NNIPPhotoMonitoring_20180828_DIGR.jpg\n",
      "Object ID: "
     ]
    },
    {
     "name": "stdout",
     "output_type": "stream",
     "text": [
      "32  Current Name:  attachment1.jpg\n",
      "Object ID: 32  Current Name:  SAC_NNIPPhotoMonitoring_20180828_DIGR.jpg\n",
      "Object ID: 33  Current Name:  SAC_DIGRPhotoMonitoring_20190821.jpg\n",
      "Object ID: 34  Current Name:  SAC_DIGRPhotoMonitoring_20190821.jpg\n"
     ]
    },
    {
     "name": "stdout",
     "output_type": "stream",
     "text": [
      "Object ID: 35  Current Name:  SAC_DIGRPhotoMonitoring_20190821.jpg\n",
      "Object ID: 36  Current Name:  SAC_DIGRPhotoMonitoring_20190821.jpg\n"
     ]
    },
    {
     "name": "stdout",
     "output_type": "stream",
     "text": [
      "Object ID: 37  Current Name:  SAC_DIGRPhotoMonitoring_20190821.jpg\n",
      "Object ID: 38  Current Name:  SAC_DIGRPhotoMonitoring_20190821.jpg\n",
      "Object ID: 39  Current Name:  SAC_DIGRPhotoMonitoring_20190821.jpg\n"
     ]
    },
    {
     "name": "stdout",
     "output_type": "stream",
     "text": [
      "Object ID: 40  Current Name:  SAC_DIGRPhotoMonitoring_20190821.jpg\n",
      "Object ID: 41  Current Name:  SAC_DIGRPhotoMonitoring_20190821.jpg\n",
      "Object ID: 42  Current Name:  SAC_DIGRPhotoMonitoring_20190821.jpg\n"
     ]
    },
    {
     "name": "stdout",
     "output_type": "stream",
     "text": [
      "Object ID: 43  Current Name:  SAC_DIGRPhotoMonitoring_20190821.jpg\n",
      "Object ID: 44  Current Name:  SAC_DIGRPhotoMonitoring_20190821.jpg\n"
     ]
    },
    {
     "name": "stdout",
     "output_type": "stream",
     "text": [
      "Object ID: 45  Current Name:  SAC_DIGRPhotoMonitoring_20190821.jpg\n",
      "Object ID: 46  Current Name:  SAC_DIGRPhotoMonitoring_20190821.jpg\n"
     ]
    },
    {
     "name": "stdout",
     "output_type": "stream",
     "text": [
      "Object ID: 47  Current Name:  Photo1.jpg\n",
      "Object ID: 47  Current Name:  SAC_NNIPPhotoMonitoring_20190821_DIGR.jpg\n",
      "Object ID: 48  Current Name:  SAC_DIGRPhotoMonitoring_20190821.jpg\n"
     ]
    },
    {
     "name": "stdout",
     "output_type": "stream",
     "text": [
      "Object ID: 49  Current Name:  SAC_DIGRPhotoMonitoring_20190821.jpg\n",
      "Object ID: 50  Current Name:  SAC_NNIPPhotoMonitoring_20190821_DIGR.jpg\n"
     ]
    },
    {
     "name": "stdout",
     "output_type": "stream",
     "text": [
      "Object ID: 51  Current Name:  SAC_NNIPPhotoMonitoring_20190821_DIGR.jpg\n",
      "Object ID: 52  Current Name:  SAC_NNIPPhotoMonitoring_20190821_DIGR.jpg\n"
     ]
    },
    {
     "name": "stdout",
     "output_type": "stream",
     "text": [
      "Object ID: 53  Current Name:  SAC_NNIPPhotoMonitoring_20190821_DIGR.jpg\n",
      "Object ID: 54  Current Name:  SAC_NNIPPhotoMonitoring_20190821_DIGR.jpg\n",
      "Object ID: 55  Current Name:  SAC_NNIPPhotoMonitoring_20190821_DIGR.jpg\n"
     ]
    },
    {
     "name": "stdout",
     "output_type": "stream",
     "text": [
      "Object ID: 56  Current Name:  SAC_NNIPPhotoMonitoring_20190821_DIGR.jpg\n",
      "Object ID: 57  Current Name:  SAC_NNIPPhotoMonitoring_20190821_DIGR.jpg\n",
      "Object ID: 58  Current Name:  SAC_NNIPPhotoMonitoring_20190821_DIGR.jpg\n"
     ]
    },
    {
     "name": "stdout",
     "output_type": "stream",
     "text": [
      "Object ID: 59  Current Name:  SAC_NNIPPhotoMonitoring_20190821_DIGR.jpg\n",
      "Object ID: 60  Current Name:  SAC_NNIPPhotoMonitoring_20190821_DIGR.jpg\n",
      "Object ID: 61  Current Name:  SAC_NNIPPhotoMonitoring_20190821_DIGR.jpg\n"
     ]
    },
    {
     "name": "stdout",
     "output_type": "stream",
     "text": [
      "Object ID: 62  Current Name:  SAC_NNIPPhotoMonitoring_20190821_DIGR.jpg\n",
      "Object ID: 63  Current Name:  attachment1.jpg\n",
      "Object ID: 63  Current Name:  SAC_NNIPPhotoMonitoring_20190821_DIGR.jpg\n",
      "Object ID: 64  Current Name:  SAC_NNIPPhotoMonitoring_20190821_DIGR.jpg\n"
     ]
    },
    {
     "name": "stdout",
     "output_type": "stream",
     "text": [
      "Object ID: 65  Current Name:  SAC_NNIPPhotoMonitoring_20200910_DIGR.jpg\n",
      "Object ID: 66  Current Name:  SAC_NNIPPhotoMonitoring_20200910_DIGR.jpg\n"
     ]
    },
    {
     "name": "stdout",
     "output_type": "stream",
     "text": [
      "Object ID: 67  Current Name:  SAC_NNIPPhotoMonitoring_20200910_DIGR.jpg\n",
      "Object ID: 68  Current Name:  SAC_NNIPPhotoMonitoring_20200910_DIGR.jpg\n",
      "Object ID: 69  Current Name:  SAC_NNIPPhotoMonitoring_20200910_DIGR.jpg\n"
     ]
    },
    {
     "name": "stdout",
     "output_type": "stream",
     "text": [
      "Object ID: 70  Current Name:  SAC_NNIPPhotoMonitoring_20200910_DIGR.jpg\n",
      "Object ID: 71  Current Name:  SAC_NNIPPhotoMonitoring_20200910_DIGR.jpg\n",
      "Object ID: 72  Current Name:  SAC_NNIPPhotoMonitoring_20200910_DIGR.jpg\n"
     ]
    },
    {
     "name": "stdout",
     "output_type": "stream",
     "text": [
      "Object ID: 73  Current Name:  SAC_NNIPPhotoMonitoring_20200910_DIGR.jpg\n",
      "Object ID: 74  Current Name:  SAC_NNIPPhotoMonitoring_20200910_DIGR.jpg\n"
     ]
    },
    {
     "name": "stdout",
     "output_type": "stream",
     "text": [
      "Object ID: 75  Current Name:  SAC_NNIPPhotoMonitoring_20210916_DIGR_24.jpg\n",
      "Object ID: 76  Current Name:  SAC_NNIPPhotoMonitoring_20210916_DIGR_1.jpg\n",
      "Object ID: 77  Current Name:  SAC_NNIPPhotoMonitoring_20210916_DIGR_2.jpg\n"
     ]
    },
    {
     "name": "stdout",
     "output_type": "stream",
     "text": [
      "Object ID: 78  Current Name:  SAC_NNIPPhotoMonitoring_20210916_DIGR_30.jpg\n",
      "Object ID: 79  Current Name:  SAC_NNIPPhotoMonitoring_20210916_DIGR_29.jpg\n",
      "Object ID: 80  Current Name:  SAC_NNIPPhotoMonitoring_20210916_DIGR_28.jpg\n"
     ]
    },
    {
     "name": "stdout",
     "output_type": "stream",
     "text": [
      "Object ID: 81  Current Name:  SAC_NNIPPhotoMonitoring_20210916_DIGR_27.jpg\n",
      "Object ID: 82  Current Name:  SAC_NNIPPhotoMonitoring_20210916_DIGR_26.jpg\n"
     ]
    },
    {
     "name": "stdout",
     "output_type": "stream",
     "text": [
      "Object ID: 83  Current Name:  SAC_NNIPPhotoMonitoring_20210916_DIGR_25.jpg\n",
      "Object ID: 84  Current Name:  SAC_NNIPPhotoMonitoring_20210916_DIGR_31.jpg\n",
      "Object ID: 85  Current Name:  SAC_NNIPPhotoMonitoring_20210916_DIGR_32.jpg\n"
     ]
    },
    {
     "name": "stdout",
     "output_type": "stream",
     "text": [
      "Object ID: 86  Current Name:  SAC_NNIPPhotoMonitoring_20210916_DIGR_3.jpg\n",
      "Object ID: 87  Current Name:  SAC_NNIPPhotoMonitoring_20210916_DIGR_4.jpg\n"
     ]
    },
    {
     "name": "stdout",
     "output_type": "stream",
     "text": [
      "Object ID: 88  Current Name:  SAC_NNIPPhotoMonitoring_20210916_DIGR_5.jpg\n",
      "Object ID: 89  Current Name:  SAC_NNIPPhotoMonitoring_20210916_DIGR_6.jpg\n"
     ]
    },
    {
     "name": "stdout",
     "output_type": "stream",
     "text": [
      "Object ID: 90  Current Name:  SAC_NNIPPhotoMonitoring_20210916_DIGR_7.jpg\n",
      "Object ID: 91  Current Name:  SAC_NNIPPhotoMonitoring_20210916_DIGR_8.jpg\n",
      "Object ID: 92  Current Name:  SAC_NNIPPhotoMonitoring_20210916_DIGR_9.jpg\n"
     ]
    },
    {
     "name": "stdout",
     "output_type": "stream",
     "text": [
      "Object ID: 93  Current Name:  SAC_NNIPPhotoMonitoring_20210916_DIGR_10.jpg\n",
      "Object ID: 94  Current Name:  SAC_NNIPPhotoMonitoring_20210916_DIGR_11.jpg\n"
     ]
    },
    {
     "name": "stdout",
     "output_type": "stream",
     "text": [
      "Object ID: 95  Current Name:  SAC_NNIPPhotoMonitoring_20210916_DIGR_12.jpg\n",
      "Object ID: 96  Current Name:  SAC_NNIPPhotoMonitoring_20210916_DIGR_13.jpg\n",
      "Object ID: 97  Current Name:  SAC_NNIPPhotoMonitoring_20210916_DIGR_14.jpg\n"
     ]
    },
    {
     "name": "stdout",
     "output_type": "stream",
     "text": [
      "Object ID: 98  Current Name:  SAC_NNIPPhotoMonitoring_20210916_DIGR_15.jpg\n",
      "Object ID: 99  Current Name:  SAC_NNIPPhotoMonitoring_20210916_DIGR_16.jpg\n"
     ]
    },
    {
     "name": "stdout",
     "output_type": "stream",
     "text": [
      "Object ID: 100  Current Name:  SAC_NNIPPhotoMonitoring_20210916_DIGR_17.jpg\n",
      "Object ID: 101  Current Name:  SAC_NNIPPhotoMonitoring_20210916_DIGR_18.jpg\n"
     ]
    },
    {
     "name": "stdout",
     "output_type": "stream",
     "text": [
      "Object ID: 102  Current Name:  SAC_NNIPPhotoMonitoring_20210916_DIGR_19.jpg\n",
      "Object ID: 103  Current Name:  SAC_NNIPPhotoMonitoring_20210916_DIGR_20.jpg\n"
     ]
    },
    {
     "name": "stdout",
     "output_type": "stream",
     "text": [
      "Object ID: 104  Current Name:  SAC_NNIPPhotoMonitoring_20210916_DIGR_21.jpg\n",
      "Object ID: 105  Current Name:  SAC_NNIPPhotoMonitoring_20210916_DIGR_22.jpg\n",
      "Object ID: 106  Current Name:  SAC_NNIPPhotoMonitoring_20210916_DIGR_23.jpg\n"
     ]
    }
   ],
   "source": [
    "QAQC_attachment_filenames(feature_service)"
   ]
  },
  {
   "cell_type": "markdown",
   "metadata": {
    "collapsed": false
   },
   "source": [
    "# Export Data Deliverable"
   ]
  },
  {
   "cell_type": "code",
   "execution_count": 7,
   "metadata": {
    "collapsed": false
   },
   "outputs": [
    {
     "data": {
      "text/plain": [
       "Index(['Point_ID', 'BHR_Site', 'Plnt_Spc', 'Azimuth', 'SHAPE', 'Record_ID',\n",
       "       'Surveyor_1', 'Surveyor_2', 'Phenology', 'Observation_Date',\n",
       "       'Treat_Type', 'Treat_Notes', 'Herbicide', 'Contractor', 'Pct_Cover',\n",
       "       'Record_GlobalID', 'Patch_Size_ft'],\n",
       "      dtype='object')"
      ]
     },
     "execution_count": 7,
     "metadata": {
     },
     "output_type": "execute_result"
    }
   ],
   "source": [
    "data.columns"
   ]
  },
  {
   "cell_type": "code",
   "execution_count": 33,
   "metadata": {
    "collapsed": false
   },
   "outputs": [
   ],
   "source": [
    "data = data.rename(columns={'PointID':'Point ID','RecordID':'Record ID','RecordGlobalID':'Record Global ID'})"
   ]
  },
  {
   "cell_type": "code",
   "execution_count": 8,
   "metadata": {
    "collapsed": false
   },
   "outputs": [
   ],
   "source": [
    "field_order = [\n",
    "    'BHR_Site',\n",
    "    'Observation_Date',\n",
    "    'Surveyor_1',\n",
    "    'Surveyor_2',\n",
    "    'Plnt_Spc',\n",
    "    'Phenology',\n",
    "    'Pct_Cover',\n",
    "    'Patch_Size_ft',\n",
    "    'Azimuth',\n",
    "    'Treat_Type',\n",
    "    'Herbicide',\n",
    "    'Contractor',\n",
    "    'Treat_Notes',\n",
    "    'Point_ID',\n",
    "    'Record_ID',\n",
    "    'Record_GlobalID',\n",
    "    'SHAPE'\n",
    "]"
   ]
  },
  {
   "cell_type": "code",
   "execution_count": 11,
   "metadata": {
    "collapsed": false,
    "scrolled": true
   },
   "outputs": [
    {
     "name": "stdout",
     "output_type": "stream",
     "text": [
      "Exported to Outputs/NNIP_Photo_Monitoring_Data_20211026.xlsx\n"
     ]
    }
   ],
   "source": [
    "export_data_deliverable(data, feature_service, field_order, file_name='NNIP_Photo_Monitoring')"
   ]
  },
  {
   "cell_type": "code",
   "execution_count": 0,
   "metadata": {
    "collapsed": false
   },
   "outputs": [
   ],
   "source": [
   ]
  },
  {
   "cell_type": "code",
   "execution_count": 0,
   "metadata": {
    "collapsed": false
   },
   "outputs": [
   ],
   "source": [
   ]
  }
 ],
 "metadata": {
  "kernelspec": {
   "display_name": "Python 3 (system-wide)",
   "language": "python",
   "metadata": {
    "cocalc": {
     "description": "Python 3 programming language",
     "priority": 100,
     "url": "https://www.python.org/"
    }
   },
   "name": "python3",
   "resource_dir": "/ext/jupyter/kernels/python3"
  },
  "language_info": {
   "codemirror_mode": {
    "name": "ipython",
    "version": 3
   },
   "file_extension": ".py",
   "mimetype": "text/x-python",
   "name": "python",
   "nbconvert_exporter": "python",
   "pygments_lexer": "ipython3",
   "version": "3.8.10"
  }
 },
 "nbformat": 4,
 "nbformat_minor": 4
}