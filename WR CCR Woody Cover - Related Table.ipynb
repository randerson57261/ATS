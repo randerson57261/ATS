{
 "cells": [
  {
   "cell_type": "code",
   "execution_count": 1,
   "metadata": {
    "collapsed": false
   },
   "outputs": [
    {
     "name": "stderr",
     "output_type": "stream",
     "text": [
      "2021-10-08 21:30:45.494255: W tensorflow/stream_executor/platform/default/dso_loader.cc:64] Could not load dynamic library 'libcudart.so.11.0'; dlerror: libcudart.so.11.0: cannot open shared object file: No such file or directory\n",
      "2021-10-08 21:30:45.494299: I tensorflow/stream_executor/cuda/cudart_stub.cc:29] Ignore above cudart dlerror if you do not have a GPU set up on your machine.\n"
     ]
    }
   ],
   "source": [
    "#Adds higher directory to path to access /ATS\n",
    "import sys\n",
    "sys.path.append(\"../\")\n",
    "\n",
    "from ATS.general import *\n",
    "from ATS.QAQC import *\n",
    "\n",
    "import pandas as pd\n",
    "import matplotlib.pyplot as plt\n",
    "\n",
    "# Set the DataFram in pandas to show all columns and 1000 rows. Display plots inline\n",
    "pd.options.display.max_columns = None\n",
    "pd.set_option('display.max_rows', 1000)"
   ]
  },
  {
   "cell_type": "markdown",
   "metadata": {
    "collapsed": false
   },
   "source": [
    "# Load and Subset Data"
   ]
  },
  {
   "cell_type": "code",
   "execution_count": 3,
   "metadata": {
    "collapsed": false
   },
   "outputs": [
    {
     "data": {
      "text/html": [
       "<div class=\"item_container\" style=\"height: auto; overflow: hidden; border: 1px solid #cfcfcf; border-radius: 2px; background: #f6fafa; line-height: 1.21429em; padding: 10px;\">\n",
       "                    <div class=\"item_left\" style=\"width: 210px; float: left;\">\n",
       "                       <a href='https://A-T-S.maps.arcgis.com/home/item.html?id=d2a03b3d9a97426fbecbda42b45ec1de' target='_blank'>\n",
       "                        <img src='data:image/png;base64,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' width='200' height='133' class=\"itemThumbnail\">\n",
       "                       </a>\n",
       "                    </div>\n",
       "\n",
       "                    <div class=\"item_right\"     style=\"float: none; width: auto; overflow: hidden;\">\n",
       "                        <a href='https://A-T-S.maps.arcgis.com/home/item.html?id=d2a03b3d9a97426fbecbda42b45ec1de' target='_blank'><b>SAC_WR_CCRS_Woody_Cover_RT</b>\n",
       "                        </a>\n",
       "                        <br/>SAC WR CCRS Woody Cover - Related Table<img src='https://A-T-S.maps.arcgis.com/home/js/jsapi/esri/css/images/item_type_icons/featureshosted16.png' style=\"vertical-align:middle;\">Feature Layer Collection by Anooshi\n",
       "                        <br/>Last Modified: November 20, 2019\n",
       "                        <br/>0 comments, 0 views\n",
       "                    </div>\n",
       "                </div>\n",
       "                "
      ],
      "text/plain": [
       "<Item title:\"SAC_WR_CCRS_Woody_Cover_RT\" type:Feature Layer Collection owner:Anooshi>"
      ]
     },
     "execution_count": 3,
     "metadata": {
     },
     "output_type": "execute_result"
    }
   ],
   "source": [
    "# Load data from arcGIS online\n",
    "output = arcGIS_data_load('d2a03b3d9a97426fbecbda42b45ec1de')\n",
    "\n",
    "layer = output['data0']\n",
    "records = output['table0']\n",
    "feature_service = output['feature_service']"
   ]
  },
  {
   "cell_type": "code",
   "execution_count": 4,
   "metadata": {
    "collapsed": false,
    "scrolled": true
   },
   "outputs": [
   ],
   "source": [
    "#Match record GUID string format to layer GLOBALID\n",
    "records['Feature_ID'] = records['Feature_ID'].str.strip('{}')\n",
    "records['Feature_ID'] = records['Feature_ID'].str.lower()"
   ]
  },
  {
   "cell_type": "code",
   "execution_count": 5,
   "metadata": {
    "collapsed": false,
    "scrolled": true
   },
   "outputs": [
    {
     "data": {
      "text/html": [
       "<div>\n",
       "<style scoped>\n",
       "    .dataframe tbody tr th:only-of-type {\n",
       "        vertical-align: middle;\n",
       "    }\n",
       "\n",
       "    .dataframe tbody tr th {\n",
       "        vertical-align: top;\n",
       "    }\n",
       "\n",
       "    .dataframe thead th {\n",
       "        text-align: right;\n",
       "    }\n",
       "</style>\n",
       "<table border=\"1\" class=\"dataframe\">\n",
       "  <thead>\n",
       "    <tr style=\"text-align: right;\">\n",
       "      <th></th>\n",
       "      <th>Point_ID</th>\n",
       "      <th>Habitat</th>\n",
       "      <th>BHR_Site</th>\n",
       "      <th>Observer_1</th>\n",
       "      <th>Observer_2</th>\n",
       "      <th>Observation_Date</th>\n",
       "      <th>FldPntTyp</th>\n",
       "      <th>Comments</th>\n",
       "      <th>Plot_Code</th>\n",
       "      <th>Azimuth</th>\n",
       "      <th>SHAPE</th>\n",
       "      <th>Record_ID</th>\n",
       "      <th>Height_Cat</th>\n",
       "      <th>Species_Sci</th>\n",
       "      <th>Record_GlobalID</th>\n",
       "      <th>Woody</th>\n",
       "    </tr>\n",
       "  </thead>\n",
       "  <tbody>\n",
       "    <tr>\n",
       "      <th>0</th>\n",
       "      <td>1</td>\n",
       "      <td>Central Coast Riparian Scrub</td>\n",
       "      <td>SAC</td>\n",
       "      <td>Roger Stephens</td>\n",
       "      <td>Janel Mayo</td>\n",
       "      <td>2018-08-08 03:41:04</td>\n",
       "      <td>Intended Habitat</td>\n",
       "      <td>None</td>\n",
       "      <td>CCRS1</td>\n",
       "      <td>145</td>\n",
       "      <td>{'x': 6181457.768742725, 'y': 2037354.15887631...</td>\n",
       "      <td>1</td>\n",
       "      <td>1</td>\n",
       "      <td>Baccharis pilularis</td>\n",
       "      <td>f813a0bb-175e-4a4b-9b78-5e182a35cc4b</td>\n",
       "      <td>True</td>\n",
       "    </tr>\n",
       "    <tr>\n",
       "      <th>1</th>\n",
       "      <td>1</td>\n",
       "      <td>Central Coast Riparian Scrub</td>\n",
       "      <td>SAC</td>\n",
       "      <td>Roger Stephens</td>\n",
       "      <td>Janel Mayo</td>\n",
       "      <td>2018-08-08 03:41:04</td>\n",
       "      <td>Intended Habitat</td>\n",
       "      <td>None</td>\n",
       "      <td>CCRS1</td>\n",
       "      <td>145</td>\n",
       "      <td>{'x': 6181457.768742725, 'y': 2037354.15887631...</td>\n",
       "      <td>180</td>\n",
       "      <td>2</td>\n",
       "      <td>Baccharis pilularis</td>\n",
       "      <td>642793ce-469f-4d71-ad2d-291c12bbc048</td>\n",
       "      <td>True</td>\n",
       "    </tr>\n",
       "    <tr>\n",
       "      <th>2</th>\n",
       "      <td>2</td>\n",
       "      <td>Central Coast Riparian Scrub</td>\n",
       "      <td>SAC</td>\n",
       "      <td>Roger Stephens</td>\n",
       "      <td>Janel Mayo</td>\n",
       "      <td>2018-08-08 03:32:51</td>\n",
       "      <td>Intended Habitat</td>\n",
       "      <td>None</td>\n",
       "      <td>CCRS2</td>\n",
       "      <td>313</td>\n",
       "      <td>{'x': 6181462.124048978, 'y': 2037380.68277339...</td>\n",
       "      <td>2</td>\n",
       "      <td>1</td>\n",
       "      <td>Bare Ground (none)</td>\n",
       "      <td>05ff49c3-8164-48ad-bd6f-d35dc780f071</td>\n",
       "      <td>None</td>\n",
       "    </tr>\n",
       "    <tr>\n",
       "      <th>3</th>\n",
       "      <td>4</td>\n",
       "      <td>Central Coast Riparian Scrub</td>\n",
       "      <td>SAC</td>\n",
       "      <td>Janel Mayo</td>\n",
       "      <td>Roger Stephens</td>\n",
       "      <td>2018-08-09 00:43:51</td>\n",
       "      <td>Intended Habitat</td>\n",
       "      <td>None</td>\n",
       "      <td>CCRS4</td>\n",
       "      <td>192</td>\n",
       "      <td>{'x': 6181536.38046214, 'y': 2037269.683651566...</td>\n",
       "      <td>3</td>\n",
       "      <td>1</td>\n",
       "      <td>Bare Ground (none)</td>\n",
       "      <td>d86e8342-8adb-4a8f-9578-50825f4f4790</td>\n",
       "      <td>None</td>\n",
       "    </tr>\n",
       "    <tr>\n",
       "      <th>4</th>\n",
       "      <td>5</td>\n",
       "      <td>Central Coast Riparian Scrub</td>\n",
       "      <td>SAC</td>\n",
       "      <td>Roger Stephens</td>\n",
       "      <td>Janel Mayo</td>\n",
       "      <td>2018-08-09 00:12:35</td>\n",
       "      <td>Intended Habitat</td>\n",
       "      <td>None</td>\n",
       "      <td>CCRS5</td>\n",
       "      <td>132</td>\n",
       "      <td>{'x': 6181469.878298551, 'y': 2037365.10898564...</td>\n",
       "      <td>4</td>\n",
       "      <td>1</td>\n",
       "      <td>Bare Ground (none)</td>\n",
       "      <td>45dd5130-101b-422f-ae37-456dcfb89cea</td>\n",
       "      <td>None</td>\n",
       "    </tr>\n",
       "  </tbody>\n",
       "</table>\n",
       "</div>"
      ],
      "text/plain": [
       "   Point_ID                       Habitat BHR_Site      Observer_1  \\\n",
       "0         1  Central Coast Riparian Scrub      SAC  Roger Stephens   \n",
       "1         1  Central Coast Riparian Scrub      SAC  Roger Stephens   \n",
       "2         2  Central Coast Riparian Scrub      SAC  Roger Stephens   \n",
       "3         4  Central Coast Riparian Scrub      SAC      Janel Mayo   \n",
       "4         5  Central Coast Riparian Scrub      SAC  Roger Stephens   \n",
       "\n",
       "       Observer_2    Observation_Date         FldPntTyp Comments Plot_Code  \\\n",
       "0      Janel Mayo 2018-08-08 03:41:04  Intended Habitat     None     CCRS1   \n",
       "1      Janel Mayo 2018-08-08 03:41:04  Intended Habitat     None     CCRS1   \n",
       "2      Janel Mayo 2018-08-08 03:32:51  Intended Habitat     None     CCRS2   \n",
       "3  Roger Stephens 2018-08-09 00:43:51  Intended Habitat     None     CCRS4   \n",
       "4      Janel Mayo 2018-08-09 00:12:35  Intended Habitat     None     CCRS5   \n",
       "\n",
       "   Azimuth                                              SHAPE  Record_ID  \\\n",
       "0      145  {'x': 6181457.768742725, 'y': 2037354.15887631...          1   \n",
       "1      145  {'x': 6181457.768742725, 'y': 2037354.15887631...        180   \n",
       "2      313  {'x': 6181462.124048978, 'y': 2037380.68277339...          2   \n",
       "3      192  {'x': 6181536.38046214, 'y': 2037269.683651566...          3   \n",
       "4      132  {'x': 6181469.878298551, 'y': 2037365.10898564...          4   \n",
       "\n",
       "  Height_Cat          Species_Sci                       Record_GlobalID Woody  \n",
       "0          1  Baccharis pilularis  f813a0bb-175e-4a4b-9b78-5e182a35cc4b  True  \n",
       "1          2  Baccharis pilularis  642793ce-469f-4d71-ad2d-291c12bbc048  True  \n",
       "2          1   Bare Ground (none)  05ff49c3-8164-48ad-bd6f-d35dc780f071  None  \n",
       "3          1   Bare Ground (none)  d86e8342-8adb-4a8f-9578-50825f4f4790  None  \n",
       "4          1   Bare Ground (none)  45dd5130-101b-422f-ae37-456dcfb89cea  None  "
      ]
     },
     "execution_count": 5,
     "metadata": {
     },
     "output_type": "execute_result"
    }
   ],
   "source": [
    "# Merge related table and feature layer\n",
    "data = layer.merge(records, left_on='GlobalID', right_on='Feature_ID', how='inner')\n",
    "data = data.drop(columns=['GlobalID_x','Feature_ID'])\n",
    "data = data.rename(columns={'GlobalID_y':'Record_GlobalID' ,'OBJECTID_x':'Point_ID','OBJECTID_y':'Record_ID'})\n",
    "data.head()"
   ]
  },
  {
   "cell_type": "code",
   "execution_count": 6,
   "metadata": {
    "cocalc": {
     "outputs": {
      "0": {
       "name": "input",
       "opts": {
        "password": false,
        "prompt": "Start Year? (YYYY)"
       },
       "output_type": "stream",
       "value": "2020"
      }
     }
    },
    "collapsed": false,
    "scrolled": true
   },
   "outputs": [
    {
     "name": "stdout",
     "output_type": "stream",
     "text": "Start Year? (YYYY) 2020"
    },
    {
     "name": "stdout",
     "output_type": "stream",
     "text": [
      "Analysis for 2020-10-01 07:00 UTC to 2021-10-01 07:00 UTC\n",
      "ERROR: No Data in Subset\n"
     ]
    }
   ],
   "source": [
    "#Subset data by year\n",
    "sYear = input(\"Start Year? (YYYY)\")\n",
    "sub = year_subset(data, sYear)"
   ]
  },
  {
   "cell_type": "markdown",
   "metadata": {
    "collapsed": false
   },
   "source": [
    "# Update Woody Column through API"
   ]
  },
  {
   "cell_type": "code",
   "execution_count": 6,
   "metadata": {
    "cocalc": {
     "outputs": {
      "0": {
       "name": "input",
       "opts": {
        "password": false,
        "prompt": "Current Plant Species List file location:\nScript Support Files/SAC Master Plant Species List 20191114.xlsx\nCurrent Sheet Name:\nYear 5 Plant Species List\n\nIs this correct? (Y/N)"
       },
       "output_type": "stream",
       "value": "Y"
      }
     }
    },
    "collapsed": false
   },
   "outputs": [
    {
     "name": "stdout",
     "output_type": "stream",
     "text": "Current Plant Species List file location:\nScript Support Files/SAC Master Plant Species List 20191114.xlsx\nCurrent Sheet Name:\nYear 5 Plant Species List\n\nIs this correct? (Y/N) Y"
    },
    {
     "name": "stdout",
     "output_type": "stream",
     "text": [
      "Done\n"
     ]
    }
   ],
   "source": [
    "# Get Species List\n",
    "pltDir = r\"Script Support Files/SAC Master Plant Species List 20191114.xlsx\"\n",
    "pltSheet = \"Year 5 Plant Species List\"\n",
    "\n",
    "verif = input(\"Current Plant Species List file location:\\n\"+pltDir+\"\\nCurrent Sheet Name:\\n\"+pltSheet+\"\\n\\nIs this correct? (Y/N)\")\n",
    "\n",
    "\n",
    "if verif==\"Y\":\n",
    "    # Will need to update this file locally on the G drive and change the sheet name\n",
    "    pltLst = pd.read_excel(pltDir, pltSheet)\n",
    "    \n",
    "    #Clean lists\n",
    "    for col in ['Woody Native Plant','Species']:\n",
    "        pltLst[col] = text_cleaner(pltLst[col])\n",
    "    \n",
    "    #Get woody\n",
    "    Woody = pltLst.loc[pltLst['Woody Native Plant'] == \"x\", 'Species'].tolist()\n",
    "\n",
    "    \n",
    "    print(\"Done\")\n",
    "    \n",
    "else:\n",
    "    print(\"\\nChange directory and sheet in code\")"
   ]
  },
  {
   "cell_type": "code",
   "execution_count": 7,
   "metadata": {
    "collapsed": false
   },
   "outputs": [
    {
     "name": "stdout",
     "output_type": "stream",
     "text": [
      "Successfully updated features\n"
     ]
    }
   ],
   "source": [
    "#Update records through API\n",
    "# Get all records\n",
    "VC_records = feature_service.tables[0].query(return_all_records=True)\n",
    "\n",
    "edits = [] #Edits to be sent\n",
    "\n",
    "#loop through each feature\n",
    "for feature in VC_records.features:\n",
    "    \n",
    "    species = feature.attributes['Species_Sci']\n",
    "    update_flag = False\n",
    "\n",
    "    if species in Woody:\n",
    "        feature.attributes['Woody'] = 'True'\n",
    "        update_flag = True\n",
    "        \n",
    "    #append edits if one was made\n",
    "    if update_flag:\n",
    "        edits.append(feature)\n",
    "\n",
    "        \n",
    "#send updates if edit was made\n",
    "if edits:\n",
    "    result = feature_service.tables[0].edit_features(updates=edits)\n",
    "\n",
    "    #Check if update was successful\n",
    "    fail_flag = False\n",
    "    for item in result['updateResults']:\n",
    "        if not item['success']:\n",
    "            fail_flag = True\n",
    "            print('Could not update feature, Object ID: ',item['objectId'])\n",
    "\n",
    "    if not fail_flag:\n",
    "        print('Successfully updated features')\n",
    "        \n",
    "else:\n",
    "    print('No edits made')"
   ]
  },
  {
   "cell_type": "markdown",
   "metadata": {
    "collapsed": false
   },
   "source": [
    "# QAQC"
   ]
  },
  {
   "cell_type": "code",
   "execution_count": 8,
   "metadata": {
    "collapsed": false
   },
   "outputs": [
    {
     "name": "stdout",
     "output_type": "stream",
     "text": [
      "\n",
      "\n",
      "Table/Layer:  SAC_WR_CCRS_Woody_Cover_Obs\n"
     ]
    },
    {
     "name": "stdout",
     "output_type": "stream",
     "text": [
      "No Mismatches Found\n",
      "\n",
      "\n",
      "Table/Layer:  SAC_WR_CCRS_Woody_Cover\n"
     ]
    },
    {
     "name": "stdout",
     "output_type": "stream",
     "text": [
      "The following entries are not within the domain:\n"
     ]
    },
    {
     "data": {
      "text/html": [
       "<div>\n",
       "<style scoped>\n",
       "    .dataframe tbody tr th:only-of-type {\n",
       "        vertical-align: middle;\n",
       "    }\n",
       "\n",
       "    .dataframe tbody tr th {\n",
       "        vertical-align: top;\n",
       "    }\n",
       "\n",
       "    .dataframe thead th {\n",
       "        text-align: right;\n",
       "    }\n",
       "</style>\n",
       "<table border=\"1\" class=\"dataframe\">\n",
       "  <thead>\n",
       "    <tr style=\"text-align: right;\">\n",
       "      <th></th>\n",
       "      <th>Field</th>\n",
       "      <th>Data</th>\n",
       "    </tr>\n",
       "  </thead>\n",
       "  <tbody>\n",
       "    <tr>\n",
       "      <th>0</th>\n",
       "      <td>Observer_1</td>\n",
       "      <td>{Janel Mayo}</td>\n",
       "    </tr>\n",
       "    <tr>\n",
       "      <th>0</th>\n",
       "      <td>Observer_2</td>\n",
       "      <td>{Janel Mayo}</td>\n",
       "    </tr>\n",
       "  </tbody>\n",
       "</table>\n",
       "</div>"
      ],
      "text/plain": [
       "        Field          Data\n",
       "0  Observer_1  {Janel Mayo}\n",
       "0  Observer_2  {Janel Mayo}"
      ]
     },
     "execution_count": 8,
     "metadata": {
     },
     "output_type": "execute_result"
    }
   ],
   "source": [
    "validate_domains(feature_service)"
   ]
  },
  {
   "cell_type": "code",
   "execution_count": 9,
   "metadata": {
    "collapsed": false
   },
   "outputs": [
    {
     "name": "stdout",
     "output_type": "stream",
     "text": [
      "\n",
      "\n",
      "Analysis for: Habitat\n",
      "No \\xa0 characters found\n",
      "No double spaces found\n",
      "No triple spaces found\n",
      "No trailing white space found\n",
      "\n",
      "\n",
      "Analysis for: SHAPE\n",
      "No \\xa0 characters found\n",
      "No double spaces found\n",
      "No triple spaces found\n",
      "No trailing white space found\n",
      "\n",
      "\n",
      "Analysis for: Species_Sci\n",
      "No \\xa0 characters found\n",
      "No double spaces found\n",
      "No triple spaces found\n",
      "No trailing white space found\n",
      "\n",
      "\n",
      "Analysis for: Observer_1\n",
      "No \\xa0 characters found\n",
      "No double spaces found\n",
      "No triple spaces found\n",
      "No trailing white space found\n",
      "\n",
      "\n",
      "Analysis for: Plot_Code\n",
      "No \\xa0 characters found\n",
      "No double spaces found\n",
      "No triple spaces found\n",
      "No trailing white space found\n",
      "\n",
      "\n",
      "Analysis for: Woody\n",
      "No \\xa0 characters found\n",
      "No double spaces found\n",
      "No triple spaces found\n",
      "No trailing white space found\n",
      "\n",
      "\n",
      "Analysis for: BHR_Site\n",
      "No \\xa0 characters found\n",
      "No double spaces found\n",
      "No triple spaces found\n",
      "No trailing white space found\n",
      "\n",
      "\n",
      "Analysis for: FldPntTyp\n",
      "No \\xa0 characters found\n",
      "No double spaces found\n",
      "No triple spaces found\n",
      "No trailing white space found\n",
      "\n",
      "\n",
      "Analysis for: Observer_2\n",
      "No \\xa0 characters found\n",
      "No double spaces found\n",
      "No triple spaces found\n",
      "No trailing white space found\n",
      "\n",
      "\n",
      "Analysis for: Height_Cat\n",
      "No \\xa0 characters found\n",
      "No double spaces found\n",
      "No triple spaces found\n",
      "No trailing white space found\n",
      "\n",
      "\n",
      "Analysis for: Record_GlobalID\n",
      "No \\xa0 characters found\n",
      "No double spaces found\n",
      "No triple spaces found\n",
      "No trailing white space found\n"
     ]
    }
   ],
   "source": [
    "QAQC_whitespace(data, exclude_cols=['Comments'],objectID = ['Record_ID'])"
   ]
  },
  {
   "cell_type": "code",
   "execution_count": 11,
   "metadata": {
    "collapsed": false
   },
   "outputs": [
    {
     "name": "stdout",
     "output_type": "stream",
     "text": [
      "No blank BHR_Site\n",
      "No blank SHAPE\n",
      "No blank Observer_1\n",
      "No blank Record_GlobalID\n",
      "No blank FldPntTyp\n",
      "No blank Observation_Date\n",
      "No blank Plot_Code\n",
      "No blank Point_ID\n",
      "No blank Record_ID\n",
      "No blank Habitat\n",
      "No blank Azimuth\n",
      "No blank Species_Sci\n",
      "No blank Observer_2\n",
      "No blank Height_Cat\n"
     ]
    }
   ],
   "source": [
    "#Find blank entries for all years\n",
    "find_blank_entries(data, exclude_cols=['Comments','Woody'])"
   ]
  },
  {
   "cell_type": "code",
   "execution_count": 12,
   "metadata": {
    "collapsed": false
   },
   "outputs": [
    {
     "data": {
      "image/png": "[encoded data removed]",
      "text/plain": [
       "<Figure size 1008x2520 with 10 Axes>"
      ]
     },
     "execution_count": 12,
     "metadata": {
      "image/png": {
       "height": 1937,
       "width": 826
      }
     },
     "output_type": "execute_result"
    }
   ],
   "source": [
    "QAQC_plot(sub, ['Height_Cat', 'Species_Sci', 'Woody', 'Azimuth', 'BHR_Site',\n",
    "       'FldPntTyp', 'Habitat', 'Observation_Date', 'Observer_1', 'Observer_2'])"
   ]
  },
  {
   "cell_type": "code",
   "execution_count": 30,
   "metadata": {
    "collapsed": false
   },
   "outputs": [
    {
     "name": "stdout",
     "output_type": "stream",
     "text": [
      "\n",
      "No mislabeled photos found for layer/table SAC_WR_CCRS_Woody_Cover\n"
     ]
    },
    {
     "name": "stdout",
     "output_type": "stream",
     "text": [
      "\n",
      "No attachments for layer/table SAC_WR_CCRS_Woody_Cover_Obs\n"
     ]
    }
   ],
   "source": [
    "QAQC_attachment_filenames(feature_service)"
   ]
  },
  {
   "cell_type": "markdown",
   "metadata": {
    "collapsed": false
   },
   "source": [
    "# Analysis"
   ]
  },
  {
   "cell_type": "code",
   "execution_count": 41,
   "metadata": {
    "collapsed": false
   },
   "outputs": [
    {
     "name": "stderr",
     "output_type": "stream",
     "text": [
      "/usr/local/lib/python3.6/dist-packages/ipykernel/__main__.py:2: SettingWithCopyWarning: \n",
      "A value is trying to be set on a copy of a slice from a DataFrame.\n",
      "Try using .loc[row_indexer,col_indexer] = value instead\n",
      "\n",
      "See the caveats in the documentation: https://pandas.pydata.org/pandas-docs/stable/user_guide/indexing.html#returning-a-view-versus-a-copy\n",
      "  from ipykernel import kernelapp as app\n"
     ]
    }
   ],
   "source": [
    "#Convert string to boolean for presence/absence columns\n",
    "sub['Woody'] = (sub['Woody']=='True')"
   ]
  },
  {
   "cell_type": "code",
   "execution_count": 42,
   "metadata": {
    "collapsed": false
   },
   "outputs": [
   ],
   "source": [
    "#Remove unintended habitat points\n",
    "sub = sub.loc[sub[\"FldPntTyp\"]==\"Intended Habitat\",:]"
   ]
  },
  {
   "cell_type": "code",
   "execution_count": 43,
   "metadata": {
    "collapsed": false
   },
   "outputs": [
    {
     "name": "stdout",
     "output_type": "stream",
     "text": [
      "Count of Observed Points by Habitat:\n",
      "Habitat\n",
      "Central Coast Riparian Scrub    71\n",
      "Willow Riparian                 70 \n",
      "\n",
      "\n",
      "Total Count:\n",
      " 141\n"
     ]
    }
   ],
   "source": [
    "#Count of valid points collected\n",
    "pointCount = sub.groupby('Habitat').Plot_Code.nunique()\n",
    "print(\"Count of Observed Points by Habitat:\")\n",
    "print(pointCount.to_string(index=True), '\\n\\n')\n",
    "\n",
    "print(\"Total Count:\\n\", sub.Plot_Code.nunique())"
   ]
  },
  {
   "cell_type": "code",
   "execution_count": 44,
   "metadata": {
    "collapsed": false,
    "scrolled": true
   },
   "outputs": [
    {
     "name": "stdout",
     "output_type": "stream",
     "text": [
      "\n",
      "Count of plots with woody plants by habitat:\n",
      "Habitat\n",
      "Central Coast Riparian Scrub    34.0\n",
      "Willow Riparian                 30.0\n",
      "\n",
      "% of sampling sites that contained a woody plant :\n",
      "\n",
      "Habitat\n",
      "Central Coast Riparian Scrub    47.89\n",
      "Willow Riparian                 42.86\n"
     ]
    }
   ],
   "source": [
    "#Section A\n",
    "# Count of plots with native woody matches by habitat\n",
    "print(\"\\nCount of plots with woody plants by habitat:\")\n",
    "Count_by_ID_Hab = sub.groupby(['Plot_Code','Habitat']).Woody.any()\n",
    "nHits = Count_by_ID_Hab.groupby(['Habitat']).sum()\n",
    "print(nHits.to_string())\n",
    "\n",
    "# % of sampling sites that contained a woody plant (Max 1 hit per pole, N = count of  poles)\n",
    "print(\"\\n% of sampling sites that contained a woody plant :\\n\")\n",
    "print (round((nHits/pointCount)*100,2).to_string(index=True))"
   ]
  },
  {
   "cell_type": "code",
   "execution_count": 45,
   "metadata": {
    "collapsed": false
   },
   "outputs": [
    {
     "name": "stdout",
     "output_type": "stream",
     "text": [
      "\n",
      "Count of woody native plants by habitat, excluding duplicates and triplicates:\n",
      "Habitat\n",
      "Central Coast Riparian Scrub    39.0\n",
      "Willow Riparian                 40.0\n",
      "Name: Woody, dtype: float64\n",
      "\n",
      "\n",
      "% of height category observations that contain woody plants (Max 3 hits per pole, N = count of poles * 3) excluding repetative species observations at a given point \n",
      "Habitat\n",
      "Central Coast Riparian Scrub    18.31\n",
      "Willow Riparian                 19.05\n"
     ]
    }
   ],
   "source": [
    "#Section C\n",
    "# Count of woody native plants by habitat, excluding duplicate and triplicate observations of the same species within a plot.\n",
    "uniqueSpec = sub.groupby(['Habitat','Plot_Code','Species_Sci']).Woody.any()\n",
    "unique_hits = uniqueSpec.groupby(['Habitat']).sum()\n",
    "print(\"\\nCount of woody native plants by habitat, excluding duplicates and triplicates:\")\n",
    "print(unique_hits)\n",
    "\n",
    "# % of height category observations that contain woody plants (Max 3 hits per pole, N = count of poles * 3)\n",
    "print('\\n\\n% of height category observations that contain woody plants (Max 3 hits per pole, N = count of poles * 3) excluding repetative species observations at a given point ')\n",
    "print(round((unique_hits/(pointCount*3))*100,2).to_string(index=True))"
   ]
  },
  {
   "cell_type": "code",
   "execution_count": 46,
   "metadata": {
    "collapsed": false
   },
   "outputs": [
    {
     "name": "stdout",
     "output_type": "stream",
     "text": [
      "\n",
      "Count of woody native plants by habitat, excluding duplicates and triplicates:\n",
      "Habitat\n",
      "Central Coast Riparian Scrub    39.0\n",
      "Willow Riparian                 40.0\n",
      "Name: Woody, dtype: float64\n",
      "\n",
      "\n",
      "% of observations that contain a woody plant exluding repetative species (infinite hits per pole, N = count of poles) \n",
      "Habitat\n",
      "Central Coast Riparian Scrub    54.93\n",
      "Willow Riparian                 57.14\n"
     ]
    }
   ],
   "source": [
    "# Section D\n",
    "# Count of woody native plants by habitat, excluding duplicate and triplicate observations of the same species within a plot.\n",
    "uniqueSpec = sub.groupby(['Habitat','Plot_Code','Species_Sci']).Woody.any()\n",
    "unique_hits = uniqueSpec.groupby(['Habitat']).sum()\n",
    "print(\"\\nCount of woody native plants by habitat, excluding duplicates and triplicates:\")\n",
    "print(unique_hits)\n",
    "\n",
    "# % of observations that contain a woody plant exluding repetative species (infinite hits per pole, N = count of poles)\n",
    "print('\\n\\n% of observations that contain a woody plant exluding repetative species (infinite hits per pole, N = count of poles) ')\n",
    "print(round((unique_hits/(pointCount))*100,2).to_string(index=True))\n"
   ]
  },
  {
   "cell_type": "code",
   "execution_count": 47,
   "metadata": {
    "collapsed": false,
    "scrolled": true
   },
   "outputs": [
    {
     "name": "stdout",
     "output_type": "stream",
     "text": [
      "\n",
      "Count of woody plants habitat (no exclusions):\n",
      "Habitat\n",
      "Central Coast Riparian Scrub    64.0\n",
      "Willow Riparian                 56.0\n",
      "\n",
      "Sum of absolute Woody Vegetation Cover by Habitat:\n",
      "\n",
      "Habitat\n",
      "Central Coast Riparian Scrub    90.14\n",
      "Willow Riparian                 80.00\n"
     ]
    },
    {
     "data": {
      "text/plain": [
       "Plot_Code  Habitat                     \n",
       "CCRS1      Central Coast Riparian Scrub    1.0\n",
       "CCRS10     Central Coast Riparian Scrub    0.0\n",
       "CCRS11     Central Coast Riparian Scrub    0.0\n",
       "CCRS12     Central Coast Riparian Scrub    0.0\n",
       "CCRS13     Central Coast Riparian Scrub    0.0\n",
       "CCRS14     Central Coast Riparian Scrub    2.0\n",
       "CCRS15     Central Coast Riparian Scrub    0.0\n",
       "CCRS16     Central Coast Riparian Scrub    0.0\n",
       "CCRS17     Central Coast Riparian Scrub    0.0\n",
       "CCRS18     Central Coast Riparian Scrub    3.0\n",
       "CCRS19     Central Coast Riparian Scrub    2.0\n",
       "CCRS2      Central Coast Riparian Scrub    0.0\n",
       "CCRS20     Central Coast Riparian Scrub    2.0\n",
       "CCRS21     Central Coast Riparian Scrub    2.0\n",
       "CCRS22     Central Coast Riparian Scrub    1.0\n",
       "CCRS23     Central Coast Riparian Scrub    0.0\n",
       "CCRS24     Central Coast Riparian Scrub    2.0\n",
       "CCRS25     Central Coast Riparian Scrub    0.0\n",
       "CCRS26     Central Coast Riparian Scrub    2.0\n",
       "CCRS27     Central Coast Riparian Scrub    5.0\n",
       "CCRS28     Central Coast Riparian Scrub    1.0\n",
       "CCRS29     Central Coast Riparian Scrub    1.0\n",
       "CCRS3      Central Coast Riparian Scrub    0.0\n",
       "CCRS30     Central Coast Riparian Scrub    0.0\n",
       "CCRS31     Central Coast Riparian Scrub    0.0\n",
       "CCRS32     Central Coast Riparian Scrub    1.0\n",
       "CCRS33     Central Coast Riparian Scrub    0.0\n",
       "CCRS34     Central Coast Riparian Scrub    0.0\n",
       "CCRS35     Central Coast Riparian Scrub    2.0\n",
       "CCRS36     Central Coast Riparian Scrub    1.0\n",
       "CCRS37     Central Coast Riparian Scrub    0.0\n",
       "CCRS38     Central Coast Riparian Scrub    0.0\n",
       "CCRS39     Central Coast Riparian Scrub    0.0\n",
       "CCRS4      Central Coast Riparian Scrub    0.0\n",
       "CCRS40     Central Coast Riparian Scrub    0.0\n",
       "CCRS41     Central Coast Riparian Scrub    0.0\n",
       "CCRS42     Central Coast Riparian Scrub    0.0\n",
       "CCRS43     Central Coast Riparian Scrub    3.0\n",
       "CCRS44     Central Coast Riparian Scrub    0.0\n",
       "CCRS45     Central Coast Riparian Scrub    0.0\n",
       "CCRS46     Central Coast Riparian Scrub    3.0\n",
       "CCRS47     Central Coast Riparian Scrub    0.0\n",
       "CCRS48     Central Coast Riparian Scrub    1.0\n",
       "CCRS49     Central Coast Riparian Scrub    1.0\n",
       "CCRS5      Central Coast Riparian Scrub    0.0\n",
       "CCRS50     Central Coast Riparian Scrub    2.0\n",
       "CCRS51     Central Coast Riparian Scrub    0.0\n",
       "CCRS52     Central Coast Riparian Scrub    1.0\n",
       "CCRS53     Central Coast Riparian Scrub    2.0\n",
       "CCRS54     Central Coast Riparian Scrub    4.0\n",
       "CCRS55     Central Coast Riparian Scrub    0.0\n",
       "CCRS56     Central Coast Riparian Scrub    1.0\n",
       "CCRS57     Central Coast Riparian Scrub    2.0\n",
       "CCRS58     Central Coast Riparian Scrub    0.0\n",
       "CCRS59     Central Coast Riparian Scrub    0.0\n",
       "CCRS6      Central Coast Riparian Scrub    2.0\n",
       "CCRS60     Central Coast Riparian Scrub    3.0\n",
       "CCRS61     Central Coast Riparian Scrub    2.0\n",
       "CCRS62     Central Coast Riparian Scrub    0.0\n",
       "CCRS63     Central Coast Riparian Scrub    0.0\n",
       "CCRS64     Central Coast Riparian Scrub    1.0\n",
       "CCRS65     Central Coast Riparian Scrub    2.0\n",
       "CCRS66     Central Coast Riparian Scrub    0.0\n",
       "CCRS67     Central Coast Riparian Scrub    0.0\n",
       "CCRS68     Central Coast Riparian Scrub    0.0\n",
       "CCRS69     Central Coast Riparian Scrub    1.0\n",
       "CCRS7      Central Coast Riparian Scrub    0.0\n",
       "CCRS70     Central Coast Riparian Scrub    0.0\n",
       "CCRS74     Central Coast Riparian Scrub    2.0\n",
       "CCRS8      Central Coast Riparian Scrub    1.0\n",
       "CCRS9      Central Coast Riparian Scrub    2.0\n",
       "WR1        Willow Riparian                 1.0\n",
       "WR10       Willow Riparian                 0.0\n",
       "WR11       Willow Riparian                 2.0\n",
       "WR12       Willow Riparian                 1.0\n",
       "WR13       Willow Riparian                 1.0\n",
       "WR14       Willow Riparian                 0.0\n",
       "WR15       Willow Riparian                 2.0\n",
       "WR16       Willow Riparian                 3.0\n",
       "WR17       Willow Riparian                 2.0\n",
       "WR18       Willow Riparian                 0.0\n",
       "WR19       Willow Riparian                 3.0\n",
       "WR2        Willow Riparian                 2.0\n",
       "WR20       Willow Riparian                 2.0\n",
       "WR21       Willow Riparian                 0.0\n",
       "WR22       Willow Riparian                 0.0\n",
       "WR23       Willow Riparian                 1.0\n",
       "WR24       Willow Riparian                 0.0\n",
       "WR25       Willow Riparian                 0.0\n",
       "WR26       Willow Riparian                 3.0\n",
       "WR28       Willow Riparian                 0.0\n",
       "WR29       Willow Riparian                 0.0\n",
       "WR3        Willow Riparian                 1.0\n",
       "WR30       Willow Riparian                 1.0\n",
       "WR31       Willow Riparian                 0.0\n",
       "WR32       Willow Riparian                 0.0\n",
       "WR33       Willow Riparian                 0.0\n",
       "WR34       Willow Riparian                 4.0\n",
       "WR35       Willow Riparian                 2.0\n",
       "WR36       Willow Riparian                 0.0\n",
       "WR37       Willow Riparian                 0.0\n",
       "WR38       Willow Riparian                 0.0\n",
       "WR39       Willow Riparian                 0.0\n",
       "WR4        Willow Riparian                 0.0\n",
       "WR40       Willow Riparian                 0.0\n",
       "WR41       Willow Riparian                 0.0\n",
       "WR42       Willow Riparian                 0.0\n",
       "WR43       Willow Riparian                 0.0\n",
       "WR44       Willow Riparian                 0.0\n",
       "WR45       Willow Riparian                 0.0\n",
       "WR46       Willow Riparian                 0.0\n",
       "WR47       Willow Riparian                 1.0\n",
       "WR48       Willow Riparian                 0.0\n",
       "WR49       Willow Riparian                 1.0\n",
       "WR5        Willow Riparian                 0.0\n",
       "WR50       Willow Riparian                 1.0\n",
       "WR51       Willow Riparian                 0.0\n",
       "WR52       Willow Riparian                 0.0\n",
       "WR53       Willow Riparian                 0.0\n",
       "WR54       Willow Riparian                 0.0\n",
       "WR55       Willow Riparian                 0.0\n",
       "WR56       Willow Riparian                 2.0\n",
       "WR57       Willow Riparian                 2.0\n",
       "WR58       Willow Riparian                 0.0\n",
       "WR59       Willow Riparian                 0.0\n",
       "WR6        Willow Riparian                 3.0\n",
       "WR60       Willow Riparian                 0.0\n",
       "WR61       Willow Riparian                 3.0\n",
       "WR62       Willow Riparian                 0.0\n",
       "WR63       Willow Riparian                 1.0\n",
       "WR64       Willow Riparian                 2.0\n",
       "WR65       Willow Riparian                 1.0\n",
       "WR66       Willow Riparian                 0.0\n",
       "WR67       Willow Riparian                 1.0\n",
       "WR68       Willow Riparian                 0.0\n",
       "WR69       Willow Riparian                 0.0\n",
       "WR7        Willow Riparian                 0.0\n",
       "WR70       Willow Riparian                 2.0\n",
       "WR74       Willow Riparian                 0.0\n",
       "WR8        Willow Riparian                 3.0\n",
       "WR9        Willow Riparian                 2.0\n",
       "Name: Woody, dtype: float64"
      ]
     },
     "execution_count": 47,
     "metadata": {
     },
     "output_type": "execute_result"
    }
   ],
   "source": [
    "#Section E\n",
    "# Count of woody plants by habitat\n",
    "Count_by_ID_Hab = sub.groupby(['Plot_Code','Habitat']).Woody.sum()\n",
    "nHits = Count_by_ID_Hab.groupby(['Habitat']).sum()\n",
    "print(\"\\nCount of woody plants habitat (no exclusions):\")\n",
    "print(nHits.to_string())\n",
    "\n",
    "# % Sum of absolute cover of woody plants (infinite hits per pole, N = count of  poles)\n",
    "print(\"\\nSum of absolute Woody Vegetation Cover by Habitat:\\n\")\n",
    "print (round((nHits/pointCount)*100,2).to_string(index=True))\n",
    "\n",
    "Count_by_ID_Hab"
   ]
  },
  {
   "cell_type": "code",
   "execution_count": 48,
   "metadata": {
    "collapsed": false
   },
   "outputs": [
    {
     "name": "stdout",
     "output_type": "stream",
     "text": [
      "\n",
      "Count of plots with woody plants by habitat and height:\n",
      "Habitat                       Height_Cat\n",
      "Central Coast Riparian Scrub  1             13.0\n",
      "                              2             27.0\n",
      "                              3             19.0\n",
      "Willow Riparian               1             2.0 \n",
      "                              2             20.0\n",
      "                              3             26.0\n",
      "\n",
      "% of height categories that contained a woody plant:\n",
      "\n",
      "Habitat                       Height_Cat\n",
      "Central Coast Riparian Scrub  1             18.31\n",
      "                              2             38.03\n",
      "                              3             26.76\n",
      "Willow Riparian               1             2.86 \n",
      "                              2             28.57\n",
      "                              3             37.14\n"
     ]
    }
   ],
   "source": [
    "#Section by Height Category (1 woody hit per layer)\n",
    "\n",
    "# Count of plots with native woody matches by habitat and Height Category\n",
    "Count_by_Height_Cat = sub.groupby(['Plot_Code','Habitat', 'Height_Cat']).Woody.any()\n",
    "cHits = Count_by_Height_Cat.groupby(['Habitat','Height_Cat']).sum()\n",
    "print(\"\\nCount of plots with woody plants by habitat and height:\")\n",
    "print(cHits.to_string())\n",
    "\n",
    "# % of height categories that contained woody plant (Max 1 hit per height category, N = count of  poles)\n",
    "print(\"\\n% of height categories that contained a woody plant:\\n\")\n",
    "print(round((cHits/pointCount)*100,2).to_string(index=True))\n",
    "\n"
   ]
  },
  {
   "cell_type": "code",
   "execution_count": 49,
   "metadata": {
    "collapsed": false,
    "scrolled": true
   },
   "outputs": [
    {
     "name": "stdout",
     "output_type": "stream",
     "text": [
      "\n",
      "Count of plots with Salix trees by habitat:\n",
      "Habitat\n",
      "Central Coast Riparian Scrub    18.0\n",
      "Willow Riparian                 28.0\n",
      "\n",
      "% of sampling sites that contained a Salix:\n",
      "\n",
      "Habitat\n",
      "Central Coast Riparian Scrub    25.35\n",
      "Willow Riparian                 40.00\n"
     ]
    }
   ],
   "source": [
    "# Method A for only Salix sp.\n",
    "salix_sub = sub.loc[sub.Species_Sci.isin(['Salix exigua','Salix gooddingii','Salix laevigata','Salix lasiolepis']),:]\n",
    "\n",
    "# Count of plots with Salix matches by habitat\n",
    "print(\"\\nCount of plots with Salix trees by habitat:\")\n",
    "Count_by_ID_Hab = salix_sub.groupby(['Plot_Code','Habitat']).Woody.any()\n",
    "nHits = Count_by_ID_Hab.groupby(['Habitat']).sum()\n",
    "print(nHits.to_string())\n",
    "\n",
    "# % of sampling sites that contained a Salix (Max 1 hit per pole, N = count of  poles)\n",
    "print(\"\\n% of sampling sites that contained a Salix:\\n\")\n",
    "print (round((nHits/pointCount)*100,2).to_string(index=True))\n",
    "\n"
   ]
  },
  {
   "cell_type": "code",
   "execution_count": 50,
   "metadata": {
    "collapsed": false
   },
   "outputs": [
    {
     "name": "stdout",
     "output_type": "stream",
     "text": [
      "\n",
      "Count of woody native plants by habitat, excluding duplicates and triplicates:\n",
      "Habitat\n",
      "Central Coast Riparian Scrub    18.0\n",
      "Willow Riparian                 37.0\n",
      "Name: Woody, dtype: float64\n",
      "\n",
      "\n",
      "% of observations that contain a woody plant exluding repetative species (infinite hits per pole, N = count of poles)\n",
      "Habitat\n",
      "Central Coast Riparian Scrub    25.35\n",
      "Willow Riparian                 52.86\n"
     ]
    }
   ],
   "source": [
    "# Method D for only Salix sp. \n",
    "\n",
    "# Count of woody native plants by habitat, excluding duplicate and triplicate observations of the same species within a plot.\n",
    "uniqueSpec = salix_sub.groupby(['Habitat','Plot_Code','Species_Sci']).Woody.any()\n",
    "unique_hits = uniqueSpec.groupby(['Habitat']).sum()\n",
    "print(\"\\nCount of woody native plants by habitat, excluding duplicates and triplicates:\")\n",
    "print(unique_hits)\n",
    "\n",
    "# % of observations that contain a woody plant exluding repetative species (infinite hits per pole, N = count of poles)\n",
    "print('\\n\\n% of observations that contain a woody plant exluding repetative species (infinite hits per pole, N = count of poles)')\n",
    "print(round((unique_hits/(pointCount))*100,2).to_string(index=True))"
   ]
  },
  {
   "cell_type": "markdown",
   "metadata": {
    "collapsed": false
   },
   "source": [
    "# Sample Size Analysis"
   ]
  },
  {
   "cell_type": "code",
   "execution_count": 51,
   "metadata": {
    "collapsed": false
   },
   "outputs": [
    {
     "name": "stdout",
     "output_type": "stream",
     "text": [
      "\n",
      "Count of plots with woody plants by habitat:\n",
      "Habitat\n",
      "Central Coast Riparian Scrub    34.0\n",
      "Willow Riparian                 30.0\n",
      "\n",
      "% of sampling sites that contained a woody plant :\n",
      "\n",
      "Habitat\n",
      "Central Coast Riparian Scrub    47.89\n",
      "Willow Riparian                 42.86\n"
     ]
    }
   ],
   "source": [
    "# This analysis determines how many sample points are necessary. \n",
    "\n",
    "#Utilizing method A\n",
    "# Count of plots with native woody matches by habitat\n",
    "print(\"\\nCount of plots with woody plants by habitat:\")\n",
    "Count_by_ID_Hab = sub.groupby(['Plot_Code','Habitat']).Woody.any()\n",
    "nHits = Count_by_ID_Hab.groupby(['Habitat']).sum()\n",
    "print(nHits.to_string())\n",
    "\n",
    "# % of sampling sites that contained a woody plant (Max 1 hit per pole, N = count of  poles)\n",
    "print(\"\\n% of sampling sites that contained a woody plant :\\n\")\n",
    "print (round((nHits/pointCount)*100,2).to_string(index=True))"
   ]
  },
  {
   "cell_type": "code",
   "execution_count": 117,
   "metadata": {
    "collapsed": false,
    "scrolled": true
   },
   "outputs": [
    {
     "name": "stdout",
     "output_type": "stream",
     "text": [
      "3\n"
     ]
    },
    {
     "name": "stdout",
     "output_type": "stream",
     "text": [
      "4\n"
     ]
    },
    {
     "name": "stdout",
     "output_type": "stream",
     "text": [
      "5\n"
     ]
    },
    {
     "name": "stdout",
     "output_type": "stream",
     "text": [
      "6\n"
     ]
    },
    {
     "name": "stdout",
     "output_type": "stream",
     "text": [
      "7\n"
     ]
    },
    {
     "name": "stdout",
     "output_type": "stream",
     "text": [
      "8\n"
     ]
    },
    {
     "name": "stdout",
     "output_type": "stream",
     "text": [
      "9\n"
     ]
    },
    {
     "name": "stdout",
     "output_type": "stream",
     "text": [
      "10\n"
     ]
    },
    {
     "name": "stdout",
     "output_type": "stream",
     "text": [
      "11\n"
     ]
    },
    {
     "name": "stdout",
     "output_type": "stream",
     "text": [
      "12\n"
     ]
    },
    {
     "name": "stdout",
     "output_type": "stream",
     "text": [
      "13\n"
     ]
    },
    {
     "name": "stdout",
     "output_type": "stream",
     "text": [
      "14\n"
     ]
    },
    {
     "name": "stdout",
     "output_type": "stream",
     "text": [
      "15\n"
     ]
    },
    {
     "name": "stdout",
     "output_type": "stream",
     "text": [
      "16\n"
     ]
    },
    {
     "name": "stdout",
     "output_type": "stream",
     "text": [
      "17\n"
     ]
    },
    {
     "name": "stdout",
     "output_type": "stream",
     "text": [
      "18\n"
     ]
    },
    {
     "name": "stdout",
     "output_type": "stream",
     "text": [
      "19\n"
     ]
    },
    {
     "name": "stdout",
     "output_type": "stream",
     "text": [
      "20\n"
     ]
    },
    {
     "name": "stdout",
     "output_type": "stream",
     "text": [
      "21\n"
     ]
    },
    {
     "name": "stdout",
     "output_type": "stream",
     "text": [
      "22\n"
     ]
    },
    {
     "name": "stdout",
     "output_type": "stream",
     "text": [
      "23\n"
     ]
    },
    {
     "name": "stdout",
     "output_type": "stream",
     "text": [
      "24\n"
     ]
    },
    {
     "name": "stdout",
     "output_type": "stream",
     "text": [
      "25\n"
     ]
    },
    {
     "name": "stdout",
     "output_type": "stream",
     "text": [
      "26\n"
     ]
    },
    {
     "name": "stdout",
     "output_type": "stream",
     "text": [
      "27\n"
     ]
    },
    {
     "name": "stdout",
     "output_type": "stream",
     "text": [
      "28\n"
     ]
    },
    {
     "name": "stdout",
     "output_type": "stream",
     "text": [
      "29\n"
     ]
    },
    {
     "name": "stdout",
     "output_type": "stream",
     "text": [
      "30\n"
     ]
    },
    {
     "name": "stdout",
     "output_type": "stream",
     "text": [
      "31\n"
     ]
    },
    {
     "name": "stdout",
     "output_type": "stream",
     "text": [
      "32\n"
     ]
    },
    {
     "name": "stdout",
     "output_type": "stream",
     "text": [
      "33\n"
     ]
    },
    {
     "name": "stdout",
     "output_type": "stream",
     "text": [
      "34\n"
     ]
    },
    {
     "name": "stdout",
     "output_type": "stream",
     "text": [
      "35\n"
     ]
    },
    {
     "name": "stdout",
     "output_type": "stream",
     "text": [
      "36\n"
     ]
    },
    {
     "name": "stdout",
     "output_type": "stream",
     "text": [
      "37\n"
     ]
    },
    {
     "name": "stdout",
     "output_type": "stream",
     "text": [
      "38\n"
     ]
    },
    {
     "name": "stdout",
     "output_type": "stream",
     "text": [
      "39\n"
     ]
    },
    {
     "name": "stdout",
     "output_type": "stream",
     "text": [
      "40\n"
     ]
    },
    {
     "name": "stdout",
     "output_type": "stream",
     "text": [
      "41\n"
     ]
    },
    {
     "name": "stdout",
     "output_type": "stream",
     "text": [
      "42\n"
     ]
    },
    {
     "name": "stdout",
     "output_type": "stream",
     "text": [
      "43\n"
     ]
    },
    {
     "name": "stdout",
     "output_type": "stream",
     "text": [
      "44\n"
     ]
    },
    {
     "name": "stdout",
     "output_type": "stream",
     "text": [
      "45\n"
     ]
    },
    {
     "name": "stdout",
     "output_type": "stream",
     "text": [
      "46\n"
     ]
    },
    {
     "name": "stdout",
     "output_type": "stream",
     "text": [
      "47\n"
     ]
    },
    {
     "name": "stdout",
     "output_type": "stream",
     "text": [
      "48\n"
     ]
    },
    {
     "name": "stdout",
     "output_type": "stream",
     "text": [
      "49\n"
     ]
    },
    {
     "name": "stdout",
     "output_type": "stream",
     "text": [
      "50\n"
     ]
    },
    {
     "name": "stdout",
     "output_type": "stream",
     "text": [
      "51\n"
     ]
    },
    {
     "name": "stdout",
     "output_type": "stream",
     "text": [
      "52\n"
     ]
    },
    {
     "name": "stdout",
     "output_type": "stream",
     "text": [
      "53\n"
     ]
    },
    {
     "name": "stdout",
     "output_type": "stream",
     "text": [
      "54\n"
     ]
    },
    {
     "name": "stdout",
     "output_type": "stream",
     "text": [
      "55\n"
     ]
    },
    {
     "name": "stdout",
     "output_type": "stream",
     "text": [
      "56\n"
     ]
    },
    {
     "name": "stdout",
     "output_type": "stream",
     "text": [
      "57\n"
     ]
    },
    {
     "name": "stdout",
     "output_type": "stream",
     "text": [
      "58\n"
     ]
    },
    {
     "name": "stdout",
     "output_type": "stream",
     "text": [
      "59\n"
     ]
    },
    {
     "name": "stdout",
     "output_type": "stream",
     "text": [
      "60\n"
     ]
    },
    {
     "name": "stdout",
     "output_type": "stream",
     "text": [
      "61\n"
     ]
    },
    {
     "name": "stdout",
     "output_type": "stream",
     "text": [
      "62\n"
     ]
    },
    {
     "name": "stdout",
     "output_type": "stream",
     "text": [
      "63\n"
     ]
    },
    {
     "name": "stdout",
     "output_type": "stream",
     "text": [
      "64\n"
     ]
    },
    {
     "name": "stdout",
     "output_type": "stream",
     "text": [
      "65\n"
     ]
    },
    {
     "name": "stdout",
     "output_type": "stream",
     "text": [
      "66\n"
     ]
    },
    {
     "name": "stdout",
     "output_type": "stream",
     "text": [
      "67\n"
     ]
    },
    {
     "name": "stdout",
     "output_type": "stream",
     "text": [
      "68\n"
     ]
    },
    {
     "name": "stdout",
     "output_type": "stream",
     "text": [
      "69\n"
     ]
    },
    {
     "name": "stdout",
     "output_type": "stream",
     "text": [
      "70\n"
     ]
    },
    {
     "name": "stdout",
     "output_type": "stream",
     "text": [
      "71\n",
      "[0.2488502299540092, 0.25194961007798444, 0.2481836965940145, 0.24859028194361132, 0.24958341665000336, 0.24756001180716236, 0.24879666923758104, 0.24771156879735165, 0.24935235175187187, 0.2488338695897184, 0.24865784418873801, 0.24865796071554921, 0.24742524022667992, 0.24774092800487524, 0.24862777444511097, 0.24837973581754236, 0.24850846824099235, 0.24830121694959256, 0.24837295698754988, 0.2487969072852096, 0.2487805469209188, 0.24843410764487417, 0.24867816291814102, 0.24838698926881295, 0.2484613846461477, 0.2485109815643709, 0.2485907580388684, 0.24829713860183625, 0.24819128128397308, 0.2486178033210562, 0.24825095464778013, 0.24818559015469632, 0.2486622105168984, 0.24842426472688656, 0.24844126412812675, 0.24823473743689706, 0.2485207083761057, 0.24844639709035252, 0.2485888719691959, 0.24849688598865594, 0.24862019466025492, 0.24843026964928167, 0.24846299239095096, 0.248438595109261, 0.24839283351059258, 0.24835402947162646, 0.2483046830350242, 0.24844622912152262, 0.24837497806561137, 0.24836021031087901, 0.248364655877271, 0.2484993567324271, 0.24852646521708935, 0.24847569206697379, 0.24840999332601013, 0.24838891870748658, 0.24849149952223715, 0.2484134382942231, 0.24840653338258903, 0.24845271382881892, 0.24847410211241727, 0.2484953086187678, 0.2485359574910415, 0.24848289957393135, 0.24838538119881848, 0.24841282308893264, 0.24847484410053897, 0.24847161854926542, 0.2484472049689441]\n"
     ]
    }
   ],
   "source": [
    "import statistics as st\n",
    "\n",
    "WR = Count_by_ID_Hab.xs('Willow Riparian', level=1)\n",
    "\n",
    "means = []\n",
    "i = 2\n",
    "while i <= 70:\n",
    "    variances = []\n",
    "    j = 0\n",
    "    while j <= 5000:\n",
    "        crt_sample = WR.sample(i)\n",
    "        variances.append(crt_sample.var())\n",
    "        j += 1\n",
    "    means.append(st.mean(variances))\n",
    "    i += 1\n",
    "    print(i)\n",
    "    \n",
    "print(means)"
   ]
  },
  {
   "cell_type": "code",
   "execution_count": 118,
   "metadata": {
    "collapsed": false
   },
   "outputs": [
    {
     "data": {
      "image/png": "[encoded data removed]",
      "text/plain": [
       "<Figure size 864x504 with 1 Axes>"
      ]
     },
     "execution_count": 118,
     "metadata": {
      "image/png": {
       "height": 427,
       "width": 735
      }
     },
     "output_type": "execute_result"
    }
   ],
   "source": [
    "#Create position of bars (x)\n",
    "y_pos = np.arange(len(means))+2\n",
    " \n",
    "# Create bars\n",
    "plt.bar(y_pos, means)\n",
    " \n",
    "# Create labels\n",
    "plt.xlabel('Samples')\n",
    "plt.ylabel('Mean of Variances')\n",
    "\n",
    "# Y limit\n",
    "plt.ylim(0.24, .2550)\n",
    "# Show graphic\n",
    "plt.show()"
   ]
  },
  {
   "cell_type": "code",
   "execution_count": 115,
   "metadata": {
    "collapsed": false,
    "scrolled": true
   },
   "outputs": [
    {
     "name": "stdout",
     "output_type": "stream",
     "text": [
      "3\n",
      "4\n"
     ]
    },
    {
     "name": "stdout",
     "output_type": "stream",
     "text": [
      "5\n",
      "6\n"
     ]
    },
    {
     "name": "stdout",
     "output_type": "stream",
     "text": [
      "7\n"
     ]
    },
    {
     "name": "stdout",
     "output_type": "stream",
     "text": [
      "8\n",
      "9\n"
     ]
    },
    {
     "name": "stdout",
     "output_type": "stream",
     "text": [
      "10\n"
     ]
    },
    {
     "name": "stdout",
     "output_type": "stream",
     "text": [
      "11\n"
     ]
    },
    {
     "name": "stdout",
     "output_type": "stream",
     "text": [
      "12\n"
     ]
    },
    {
     "name": "stdout",
     "output_type": "stream",
     "text": [
      "13\n",
      "14\n"
     ]
    },
    {
     "name": "stdout",
     "output_type": "stream",
     "text": [
      "15\n",
      "16\n"
     ]
    },
    {
     "name": "stdout",
     "output_type": "stream",
     "text": [
      "17\n"
     ]
    },
    {
     "name": "stdout",
     "output_type": "stream",
     "text": [
      "18\n",
      "19\n"
     ]
    },
    {
     "name": "stdout",
     "output_type": "stream",
     "text": [
      "20\n"
     ]
    },
    {
     "name": "stdout",
     "output_type": "stream",
     "text": [
      "21\n"
     ]
    },
    {
     "name": "stdout",
     "output_type": "stream",
     "text": [
      "22\n",
      "23\n"
     ]
    },
    {
     "name": "stdout",
     "output_type": "stream",
     "text": [
      "24\n",
      "25\n"
     ]
    },
    {
     "name": "stdout",
     "output_type": "stream",
     "text": [
      "26\n"
     ]
    },
    {
     "name": "stdout",
     "output_type": "stream",
     "text": [
      "27\n"
     ]
    },
    {
     "name": "stdout",
     "output_type": "stream",
     "text": [
      "28\n",
      "29\n"
     ]
    },
    {
     "name": "stdout",
     "output_type": "stream",
     "text": [
      "30\n",
      "31\n"
     ]
    },
    {
     "name": "stdout",
     "output_type": "stream",
     "text": [
      "32\n"
     ]
    },
    {
     "name": "stdout",
     "output_type": "stream",
     "text": [
      "33\n",
      "34\n"
     ]
    },
    {
     "name": "stdout",
     "output_type": "stream",
     "text": [
      "35\n"
     ]
    },
    {
     "name": "stdout",
     "output_type": "stream",
     "text": [
      "36\n",
      "37\n"
     ]
    },
    {
     "name": "stdout",
     "output_type": "stream",
     "text": [
      "38\n"
     ]
    },
    {
     "name": "stdout",
     "output_type": "stream",
     "text": [
      "39\n",
      "40\n"
     ]
    },
    {
     "name": "stdout",
     "output_type": "stream",
     "text": [
      "41\n"
     ]
    },
    {
     "name": "stdout",
     "output_type": "stream",
     "text": [
      "42\n"
     ]
    },
    {
     "name": "stdout",
     "output_type": "stream",
     "text": [
      "43\n"
     ]
    },
    {
     "name": "stdout",
     "output_type": "stream",
     "text": [
      "44\n"
     ]
    },
    {
     "name": "stdout",
     "output_type": "stream",
     "text": [
      "45\n"
     ]
    },
    {
     "name": "stdout",
     "output_type": "stream",
     "text": [
      "46\n",
      "47\n"
     ]
    },
    {
     "name": "stdout",
     "output_type": "stream",
     "text": [
      "48\n"
     ]
    },
    {
     "name": "stdout",
     "output_type": "stream",
     "text": [
      "49\n",
      "50\n"
     ]
    },
    {
     "name": "stdout",
     "output_type": "stream",
     "text": [
      "51\n"
     ]
    },
    {
     "name": "stdout",
     "output_type": "stream",
     "text": [
      "52\n",
      "53\n"
     ]
    },
    {
     "name": "stdout",
     "output_type": "stream",
     "text": [
      "54\n"
     ]
    },
    {
     "name": "stdout",
     "output_type": "stream",
     "text": [
      "55\n",
      "56\n"
     ]
    },
    {
     "name": "stdout",
     "output_type": "stream",
     "text": [
      "57\n",
      "58\n"
     ]
    },
    {
     "name": "stdout",
     "output_type": "stream",
     "text": [
      "59\n"
     ]
    },
    {
     "name": "stdout",
     "output_type": "stream",
     "text": [
      "60\n"
     ]
    },
    {
     "name": "stdout",
     "output_type": "stream",
     "text": [
      "61\n"
     ]
    },
    {
     "name": "stdout",
     "output_type": "stream",
     "text": [
      "62\n"
     ]
    },
    {
     "name": "stdout",
     "output_type": "stream",
     "text": [
      "63\n",
      "64\n"
     ]
    },
    {
     "name": "stdout",
     "output_type": "stream",
     "text": [
      "65\n"
     ]
    },
    {
     "name": "stdout",
     "output_type": "stream",
     "text": [
      "66\n"
     ]
    },
    {
     "name": "stdout",
     "output_type": "stream",
     "text": [
      "67\n",
      "68\n"
     ]
    },
    {
     "name": "stdout",
     "output_type": "stream",
     "text": [
      "69\n",
      "70\n"
     ]
    },
    {
     "name": "stdout",
     "output_type": "stream",
     "text": [
      "71\n",
      "[0.1221063936063936, 0.07436829836829836, 0.06388061938061938, 0.04226765234765235, 0.036753857253857256, 0.030479928235030276, 0.027121503496503496, 0.025345395345395347, 0.020902477522477522, 0.020114761271786064, 0.01750412087912088, 0.01543140882785853, 0.014348997940834676, 0.014166651126651126, 0.011638205544455544, 0.010114307837491229, 0.010259209925876594, 0.00979617612304593, 0.009023736263736265, 0.007462822891394321, 0.008022675671436, 0.006789996393020967, 0.007095786158286157, 0.006519624375624376, 0.0055578859010811665, 0.005658876103320548, 0.004869780729474606, 0.004966643344764629, 0.004712536352536353, 0.0044996813800143665, 0.0038914913211788213, 0.0040083149174058265, 0.003601640573958913, 0.0034007641338253567, 0.0034432789432789434, 0.0030223757250784273, 0.0030948691197998676, 0.0028283366863248514, 0.0026543831168831166, 0.002388720143627937, 0.0024044878024469863, 0.002320473469202512, 0.002052992462083371, 0.0019394521527854856, 0.0019004181074124362, 0.001791257181026307, 0.001720029102841603, 0.0014860516409870845, 0.0013575832167832167, 0.0013267409253568422, 0.0012702955328694975, 0.0010815009127575874, 0.0010459478792812125, 0.0009599696171596992, 0.0009279285765255158, 0.000760310788011619, 0.0007421395489171945, 0.0006474823653795211, 0.0006211138861138859, 0.0005370002209561468, 0.0004472644940907167, 0.00036733787754195915, 0.00030487432489385613, 0.0002817561137087765, 0.00021351926310603965, 0.00015814214744934294, 0.00010212408698567872, 5.116874304019868e-05, 0.0]\n"
     ]
    }
   ],
   "source": [
    "import statistics as st\n",
    "\n",
    "WR = Count_by_ID_Hab.xs('Willow Riparian', level=1)\n",
    "\n",
    "variances = []\n",
    "i = 2\n",
    "while i <= 70:\n",
    "    means = []\n",
    "    j = 0\n",
    "    while j <= 1000:\n",
    "        crt_sample = WR.sample(i)\n",
    "        means.append(crt_sample.mean())\n",
    "        j += 1\n",
    "    variances.append(st.variance(means))\n",
    "    i += 1\n",
    "    print(i)\n",
    "    \n",
    "print(variances)"
   ]
  },
  {
   "cell_type": "code",
   "execution_count": 116,
   "metadata": {
    "collapsed": false
   },
   "outputs": [
    {
     "data": {
      "image/png": "[encoded data removed]",
      "text/plain": [
       "<Figure size 864x504 with 1 Axes>"
      ]
     },
     "execution_count": 116,
     "metadata": {
      "image/png": {
       "height": 427,
       "width": 729
      }
     },
     "output_type": "execute_result"
    }
   ],
   "source": [
    "#Create position of bars (x)\n",
    "y_pos = np.arange(len(variances))+2\n",
    " \n",
    "# Create bars\n",
    "plt.bar(y_pos, variances)\n",
    " \n",
    "# Create labels\n",
    "plt.xlabel('Samples')\n",
    "plt.ylabel('Variance of the Means')\n",
    "\n",
    "# Y limit\n",
    "#plt.ylim(0.24, .2550)\n",
    "# Show graphic\n",
    "plt.show()"
   ]
  },
  {
   "cell_type": "code",
   "execution_count": 122,
   "metadata": {
    "collapsed": false,
    "scrolled": true
   },
   "outputs": [
    {
     "name": "stdout",
     "output_type": "stream",
     "text": [
      "3\n",
      "4\n"
     ]
    },
    {
     "name": "stdout",
     "output_type": "stream",
     "text": [
      "5\n",
      "6\n",
      "7\n"
     ]
    },
    {
     "name": "stdout",
     "output_type": "stream",
     "text": [
      "8\n",
      "9\n"
     ]
    },
    {
     "name": "stdout",
     "output_type": "stream",
     "text": [
      "10\n",
      "11\n",
      "12\n"
     ]
    },
    {
     "name": "stdout",
     "output_type": "stream",
     "text": [
      "13\n",
      "14\n"
     ]
    },
    {
     "name": "stdout",
     "output_type": "stream",
     "text": [
      "15\n",
      "16\n"
     ]
    },
    {
     "name": "stdout",
     "output_type": "stream",
     "text": [
      "17\n",
      "18\n",
      "19\n"
     ]
    },
    {
     "name": "stdout",
     "output_type": "stream",
     "text": [
      "20\n",
      "21\n"
     ]
    },
    {
     "name": "stdout",
     "output_type": "stream",
     "text": [
      "22\n",
      "23\n"
     ]
    },
    {
     "name": "stdout",
     "output_type": "stream",
     "text": [
      "24\n",
      "25\n"
     ]
    },
    {
     "name": "stdout",
     "output_type": "stream",
     "text": [
      "26\n",
      "27\n"
     ]
    },
    {
     "name": "stdout",
     "output_type": "stream",
     "text": [
      "28\n",
      "29\n"
     ]
    },
    {
     "name": "stdout",
     "output_type": "stream",
     "text": [
      "30\n",
      "31\n"
     ]
    },
    {
     "name": "stdout",
     "output_type": "stream",
     "text": [
      "32\n",
      "33\n"
     ]
    },
    {
     "name": "stdout",
     "output_type": "stream",
     "text": [
      "34\n",
      "35\n"
     ]
    },
    {
     "name": "stdout",
     "output_type": "stream",
     "text": [
      "36\n",
      "37\n"
     ]
    },
    {
     "name": "stdout",
     "output_type": "stream",
     "text": [
      "38\n",
      "39\n",
      "40\n"
     ]
    },
    {
     "name": "stdout",
     "output_type": "stream",
     "text": [
      "41\n",
      "42\n",
      "43\n"
     ]
    },
    {
     "name": "stdout",
     "output_type": "stream",
     "text": [
      "44\n",
      "45\n"
     ]
    },
    {
     "name": "stdout",
     "output_type": "stream",
     "text": [
      "46\n",
      "47\n",
      "48\n"
     ]
    },
    {
     "name": "stdout",
     "output_type": "stream",
     "text": [
      "49\n",
      "50\n",
      "51\n"
     ]
    },
    {
     "name": "stdout",
     "output_type": "stream",
     "text": [
      "52\n",
      "53\n"
     ]
    },
    {
     "name": "stdout",
     "output_type": "stream",
     "text": [
      "54\n",
      "55\n"
     ]
    },
    {
     "name": "stdout",
     "output_type": "stream",
     "text": [
      "56\n",
      "57\n",
      "58\n"
     ]
    },
    {
     "name": "stdout",
     "output_type": "stream",
     "text": [
      "59\n",
      "60\n"
     ]
    },
    {
     "name": "stdout",
     "output_type": "stream",
     "text": [
      "61\n",
      "62\n",
      "63\n"
     ]
    },
    {
     "name": "stdout",
     "output_type": "stream",
     "text": [
      "64\n",
      "65\n",
      "66\n"
     ]
    },
    {
     "name": "stdout",
     "output_type": "stream",
     "text": [
      "67\n",
      "68\n"
     ]
    },
    {
     "name": "stdout",
     "output_type": "stream",
     "text": [
      "69\n",
      "70\n"
     ]
    },
    {
     "name": "stdout",
     "output_type": "stream",
     "text": [
      "71\n"
     ]
    }
   ],
   "source": [
    "WR = Count_by_ID_Hab.xs('Willow Riparian', level=1)\n",
    "\n",
    "mean_of_means = []\n",
    "lower_CI = []\n",
    "upper_CI = []\n",
    "i = 2\n",
    "while i <= 70:\n",
    "    means = []\n",
    "    j = 0\n",
    "    while j <= 500:\n",
    "        crt_sample = WR.sample(i)\n",
    "        means.append(crt_sample.mean())\n",
    "        j += 1\n",
    "    mean_of_means.append(st.mean(means))\n",
    "    \n",
    "    lower_CI.append(np.percentile(means, 2.5))\n",
    "    upper_CI.append(np.percentile(means, 97.5))\n",
    "    i += 1\n",
    "    print(i)\n",
    "    \n"
   ]
  },
  {
   "cell_type": "code",
   "execution_count": 132,
   "metadata": {
    "collapsed": false
   },
   "outputs": [
    {
     "data": {
      "text/plain": [
       "array([0.        , 0.        , 0.        , 0.        , 0.        ,\n",
       "       0.07142857, 0.125     , 0.11111111, 0.2       , 0.18181818,\n",
       "       0.16666667, 0.23076923, 0.21428571, 0.2       , 0.1875    ,\n",
       "       0.23529412, 0.22222222, 0.26315789, 0.25      , 0.28571429,\n",
       "       0.27272727, 0.26086957, 0.29166667, 0.28      , 0.26923077,\n",
       "       0.2962963 , 0.28571429, 0.31034483, 0.3       , 0.29032258,\n",
       "       0.3125    , 0.3030303 , 0.32352941, 0.31428571, 0.30555556,\n",
       "       0.32432432, 0.31578947, 0.33333333, 0.325     , 0.34146341,\n",
       "       0.33333333, 0.34883721, 0.34090909, 0.33333333, 0.34782609,\n",
       "       0.34042553, 0.35416667, 0.34693878, 0.35      , 0.35294118,\n",
       "       0.36538462, 0.37735849, 0.37037037, 0.36363636, 0.375     ,\n",
       "       0.36842105, 0.37931034, 0.37288136, 0.38333333, 0.37704918,\n",
       "       0.38709677, 0.3968254 , 0.3984375 , 0.4       , 0.39393939,\n",
       "       0.40298507, 0.41176471, 0.42028986, 0.42857143])"
      ]
     },
     "execution_count": 132,
     "metadata": {
     },
     "output_type": "execute_result"
    }
   ],
   "source": [
    "np.array(lower_CI)"
   ]
  },
  {
   "cell_type": "code",
   "execution_count": 142,
   "metadata": {
    "collapsed": false
   },
   "outputs": [
   ],
   "source": [
    "upper = np.array(upper_CI)-np.array(mean_of_means)\n",
    "lower = np.array(lower_CI)-np.array(mean_of_means)\n",
    "CI = np.vstack([lower,upper])"
   ]
  },
  {
   "cell_type": "code",
   "execution_count": 143,
   "metadata": {
    "collapsed": false
   },
   "outputs": [
    {
     "data": {
      "image/png": "[encoded data removed]",
      "text/plain": [
       "<Figure size 864x504 with 1 Axes>"
      ]
     },
     "execution_count": 143,
     "metadata": {
      "image/png": {
       "height": 427,
       "width": 723
      }
     },
     "output_type": "execute_result"
    }
   ],
   "source": [
    "#Create position of bars (x)\n",
    "y_pos = np.arange(len(mean_of_means))+2\n",
    " \n",
    "# Create bars\n",
    "plt.bar(y_pos, mean_of_means)\n",
    " \n",
    "plt.errorbar(y_pos, mean_of_means, yerr=CI)\n",
    "# Create labels\n",
    "plt.xlabel('Samples')\n",
    "plt.ylabel('Mean (Cover)')\n",
    "\n",
    "# Y limit\n",
    "#plt.ylim(0.24, .2550)\n",
    "# Show graphic\n",
    "plt.show()\n",
    "\n"
   ]
  },
  {
   "cell_type": "markdown",
   "metadata": {
    "collapsed": false
   },
   "source": [
    "# Export Excel Data Deliverable"
   ]
  },
  {
   "cell_type": "code",
   "execution_count": 23,
   "metadata": {
    "collapsed": false
   },
   "outputs": [
    {
     "data": {
      "text/plain": [
       "Index(['Point_ID', 'Habitat', 'BHR_Site', 'Observer_1', 'Observer_2',\n",
       "       'Observation_Date', 'FldPntTyp', 'Comments', 'Plot_Code', 'Azimuth',\n",
       "       'SHAPE', 'Record_ID', 'Height_Cat', 'Species_Sci', 'Record_GlobalID',\n",
       "       'Woody'],\n",
       "      dtype='object')"
      ]
     },
     "execution_count": 23,
     "metadata": {
     },
     "output_type": "execute_result"
    }
   ],
   "source": [
    "(data.columns)"
   ]
  },
  {
   "cell_type": "code",
   "execution_count": 28,
   "metadata": {
    "collapsed": false
   },
   "outputs": [
   ],
   "source": [
    "field_order = ['BHR_Site',\n",
    "'Observation_Date', \n",
    "'Observer_1', \n",
    "'Observer_2',\n",
    "'Plot_Code',\n",
    "'Height_Cat', \n",
    "'Species_Sci', \n",
    "'Woody', \n",
    "'Habitat',\n",
    "'Azimuth', \n",
    "'FldPntTyp',\n",
    "'Comments',  \n",
    "'Point_ID',\n",
    "'Record_ID',\n",
    "'Record_GlobalID',\n",
    "'SHAPE'] "
   ]
  },
  {
   "cell_type": "code",
   "execution_count": 29,
   "metadata": {
    "collapsed": false
   },
   "outputs": [
    {
     "name": "stdout",
     "output_type": "stream",
     "text": [
      "Exported to Outputs/SAC_WR_CCRS_Woody_Cover_Data_20200720.xlsx\n"
     ]
    }
   ],
   "source": [
    "export_data_deliverable(data, feature_service, field_order)"
   ]
  },
  {
   "cell_type": "code",
   "execution_count": 0,
   "metadata": {
    "collapsed": false
   },
   "outputs": [
   ],
   "source": [
   ]
  }
 ],
 "metadata": {
  "kernelspec": {
   "display_name": "Python 3 (system-wide)",
   "language": "python",
   "metadata": {
    "cocalc": {
     "description": "Python 3 programming language",
     "priority": 100,
     "url": "https://www.python.org/"
    }
   },
   "name": "python3",
   "resource_dir": "/ext/jupyter/kernels/python3"
  },
  "language_info": {
   "codemirror_mode": {
    "name": "ipython",
    "version": 3
   },
   "file_extension": ".py",
   "mimetype": "text/x-python",
   "name": "python",
   "nbconvert_exporter": "python",
   "pygments_lexer": "ipython3",
   "version": "3.8.10"
  }
 },
 "nbformat": 4,
 "nbformat_minor": 4
}