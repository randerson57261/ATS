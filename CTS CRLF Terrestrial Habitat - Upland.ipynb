{
 "cells": [
  {
   "cell_type": "code",
   "execution_count": 1,
   "metadata": {
    "collapsed": false
   },
   "outputs": [
   ],
   "source": [
    "#Adds higher directory to path, so we can access /ATS\n",
    "import sys\n",
    "sys.path.append(\"../\")\n",
    "\n",
    "from ATS.general import *\n",
    "from ATS.QAQC import *\n",
    "\n",
    "import pandas as pd\n",
    "\n",
    "# Set the DataFram in pandas to show all columns and 1000 rows. Display plots inline\n",
    "pd.options.display.max_columns = None\n",
    "pd.set_option('display.max_rows', 1000)"
   ]
  },
  {
   "cell_type": "markdown",
   "metadata": {
    "collapsed": false
   },
   "source": [
    "# Load Data and Subset"
   ]
  },
  {
   "cell_type": "code",
   "execution_count": 2,
   "metadata": {
    "collapsed": false,
    "scrolled": true
   },
   "outputs": [
    {
     "data": {
      "text/html": [
       "<div class=\"item_container\" style=\"height: auto; overflow: hidden; border: 1px solid #cfcfcf; border-radius: 2px; background: #f6fafa; line-height: 1.21429em; padding: 10px;\">\n",
       "                    <div class=\"item_left\" style=\"width: 210px; float: left;\">\n",
       "                       <a href='https://A-T-S.maps.arcgis.com/home/item.html?id=db5b18928c0e4a3a8c782d3c10ef4ca2' target='_blank'>\n",
       "                        <img src='data:image/png;base64,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' width='200' height='133' class=\"itemThumbnail\">\n",
       "                       </a>\n",
       "                    </div>\n",
       "\n",
       "                    <div class=\"item_right\"     style=\"float: none; width: auto; overflow: hidden;\">\n",
       "                        <a href='https://A-T-S.maps.arcgis.com/home/item.html?id=db5b18928c0e4a3a8c782d3c10ef4ca2' target='_blank'><b>SAC_CTS_CRLF_Terrestrial_Habitat_Monitoring</b>\n",
       "                        </a>\n",
       "                        <br/>UPDATED from original feature layer. Combined CTS/CRLF layers. Updated on 20191118 by Jared Lewis.<img src='https://A-T-S.maps.arcgis.com/home/js/jsapi/esri/css/images/item_type_icons/featureshosted16.png' style=\"vertical-align:middle;\">Feature Layer Collection by Anooshi\n",
       "                        <br/>Last Modified: November 19, 2019\n",
       "                        <br/>0 comments, 178 views\n",
       "                    </div>\n",
       "                </div>\n",
       "                "
      ],
      "text/plain": [
       "<Item title:\"SAC_CTS_CRLF_Terrestrial_Habitat_Monitoring\" type:Feature Layer Collection owner:Anooshi>"
      ]
     },
     "execution_count": 2,
     "metadata": {
     },
     "output_type": "execute_result"
    }
   ],
   "source": [
    "# Load data from arcGIS online\n",
    "output = arcGIS_data_load('db5b18928c0e4a3a8c782d3c10ef4ca2')\n",
    "\n",
    "UP = output['data1']\n",
    "feature_service = output['feature_service']"
   ]
  },
  {
   "cell_type": "code",
   "execution_count": 4,
   "metadata": {
    "collapsed": false
   },
   "outputs": [
    {
     "name": "stdout",
     "output_type": "stream",
     "text": [
      "Start Year? (YYYY)2018\n",
      "Analysis for 2018-10-01 07:00 UTC to 2019-10-01 07:00 UTC\n",
      "Entries in Subset: 10\n"
     ]
    }
   ],
   "source": [
    "# Rename date and subset data for desired year.\n",
    "UP.rename(columns={\"Date\": \"Observation_Date\"}, inplace=True)\n",
    "sYear = input(\"Start Year? (YYYY)\")\n",
    "sub = year_subset(UP,sYear)"
   ]
  },
  {
   "cell_type": "markdown",
   "metadata": {
    "collapsed": false
   },
   "source": [
    "# QAQC"
   ]
  },
  {
   "cell_type": "code",
   "execution_count": 5,
   "metadata": {
    "collapsed": false
   },
   "outputs": [
    {
     "data": {
      "text/plain": [
       "Index(['Availabilityofpreybase', 'BHR_Site', 'Comments', 'Observation_Date',\n",
       "       'GlobalID', 'MoistureRank', 'OBJECTID', 'PresenceOfRefugia',\n",
       "       'PresenceOfRipCor', 'Presenceofpredators', 'SHAPE', 'Species_Sci',\n",
       "       'SufficientCovNearPools', 'Surveyor1', 'Surveyor2'],\n",
       "      dtype='object')"
      ]
     },
     "execution_count": 5,
     "metadata": {
     },
     "output_type": "execute_result"
    }
   ],
   "source": [
    "UP.columns"
   ]
  },
  {
   "cell_type": "code",
   "execution_count": 6,
   "metadata": {
    "collapsed": false
   },
   "outputs": [
    {
     "name": "stdout",
     "output_type": "stream",
     "text": [
      "Name of Object ID Column:  ['OBJECTID']\n",
      "\n",
      "\n",
      "Analysis for: Surveyor2\n",
      "No \\xa0 characters found\n",
      "No double spaces found\n",
      "No triple spaces found\n",
      "No trailing white space found\n",
      "\n",
      "\n",
      "Analysis for: BHR_Site\n",
      "No \\xa0 characters found\n",
      "No double spaces found\n",
      "No triple spaces found\n",
      "No trailing white space found\n",
      "\n",
      "\n",
      "Analysis for: Availabilityofpreybase\n",
      "No \\xa0 characters found\n",
      "No double spaces found\n",
      "No triple spaces found\n",
      "No trailing white space found\n",
      "\n",
      "\n",
      "Analysis for: SufficientCovNearPools\n",
      "No \\xa0 characters found\n",
      "No double spaces found\n",
      "No triple spaces found\n",
      "No trailing white space found\n",
      "\n",
      "\n",
      "Analysis for: MoistureRank\n",
      "No \\xa0 characters found\n",
      "No double spaces found\n",
      "No triple spaces found\n",
      "No trailing white space found\n",
      "\n",
      "\n",
      "Analysis for: PresenceOfRipCor\n",
      "No \\xa0 characters found\n",
      "No double spaces found\n",
      "No triple spaces found\n",
      "No trailing white space found\n",
      "\n",
      "\n",
      "Analysis for: Presenceofpredators\n",
      "No \\xa0 characters found\n",
      "No double spaces found\n",
      "No triple spaces found\n",
      "No trailing white space found\n",
      "\n",
      "\n",
      "Analysis for: Species_Sci\n",
      "No \\xa0 characters found\n",
      "No double spaces found\n",
      "No triple spaces found\n",
      "No trailing white space found\n",
      "\n",
      "\n",
      "Analysis for: Surveyor1\n",
      "No \\xa0 characters found\n",
      "No double spaces found\n",
      "No triple spaces found\n",
      "No trailing white space found\n",
      "\n",
      "\n",
      "Analysis for: PresenceOfRefugia\n",
      "No \\xa0 characters found\n",
      "No double spaces found\n",
      "No triple spaces found\n",
      "No trailing white space found\n",
      "\n",
      "\n",
      "Analysis for: GlobalID\n",
      "No \\xa0 characters found\n",
      "No double spaces found\n",
      "No triple spaces found\n",
      "No trailing white space found\n"
     ]
    }
   ],
   "source": [
    "# Search for whitespaces and extra spaces \n",
    "QAQC_whitespace(UP, exclude_cols=['Comments'])"
   ]
  },
  {
   "cell_type": "code",
   "execution_count": 8,
   "metadata": {
    "collapsed": false
   },
   "outputs": [
    {
     "name": "stdout",
     "output_type": "stream",
     "text": [
      "No blank OBJECTID\n",
      "No blank BHR_Site\n",
      "No blank Availabilityofpreybase\n",
      "No blank SufficientCovNearPools\n",
      "No blank MoistureRank\n",
      "No blank PresenceOfRipCor\n",
      "No blank Presenceofpredators\n",
      "No blank Species_Sci\n",
      "No blank Surveyor1\n",
      "No blank SHAPE\n",
      "No blank PresenceOfRefugia\n",
      "No blank Comments\n",
      "No blank GlobalID\n",
      "No blank Observation_Date\n"
     ]
    }
   ],
   "source": [
    "#find blank entries\n",
    "find_blank_entries(UP, exclude_cols=['Surveyor2'])"
   ]
  },
  {
   "cell_type": "code",
   "execution_count": 9,
   "metadata": {
    "collapsed": false
   },
   "outputs": [
    {
     "data": {
      "image/png": "[encoded data removed]",
      "text/plain": [
       "<Figure size 1008x2520 with 10 Axes>"
      ]
     },
     "execution_count": 9,
     "metadata": {
      "needs_background": "light"
     },
     "output_type": "execute_result"
    }
   ],
   "source": [
    "#compare data from previous years\n",
    "compare_years_catagorical(UP, ['Availabilityofpreybase', 'BHR_Site',\n",
    "       'MoistureRank',  'PresenceOfRefugia', 'PresenceOfRipCor',\n",
    "       'Presenceofpredators',  'Species_Sci', 'SufficientCovNearPools',\n",
    "       'Surveyor1', 'Surveyor2'] ,'2017','2018')"
   ]
  },
  {
   "cell_type": "markdown",
   "metadata": {
    "collapsed": false
   },
   "source": [
    "# Export data deliverable"
   ]
  },
  {
   "cell_type": "code",
   "execution_count": 10,
   "metadata": {
    "collapsed": false
   },
   "outputs": [
   ],
   "source": [
    "field_order = [\n",
    "    'BHR_Site',\n",
    "    'Observation_Date',\n",
    "    'Surveyor1', \n",
    "    'Surveyor2',\n",
    "    'Species_Sci',\n",
    "    'PresenceOfRefugia', \n",
    "    'PresenceOfRipCor',\n",
    "    'MoistureRank', \n",
    "    'SufficientCovNearPools',\n",
    "    'Availabilityofpreybase',\n",
    "    'Presenceofpredators',\n",
    "    'Comments',\n",
    "    'OBJECTID',\n",
    "    'GlobalID',\n",
    "    'SHAPE',]"
   ]
  },
  {
   "cell_type": "code",
   "execution_count": 11,
   "metadata": {
    "collapsed": false
   },
   "outputs": [
    {
     "name": "stdout",
     "output_type": "stream",
     "text": [
      "No Related Table Found\n",
      "Exported to G:/Scripts_Toolboxes/Annual_Report/Outputs/SAC_Terrestrial_Habitat_Upland_Monitoring_Data_20191205.xlsx\n"
     ]
    }
   ],
   "source": [
    "export_data_deliverable(UP, feature_service, field_order, 1)"
   ]
  },
  {
   "cell_type": "code",
   "execution_count": 0,
   "metadata": {
    "collapsed": false
   },
   "outputs": [
   ],
   "source": [
   ]
  }
 ],
 "metadata": {
  "kernelspec": {
   "display_name": "Python 3 (system-wide)",
   "language": "python",
   "metadata": {
    "cocalc": {
     "description": "Python 3 programming language",
     "priority": 100,
     "url": "https://www.python.org/"
    }
   },
   "name": "python3",
   "resource_dir": "/ext/jupyter/kernels/python3"
  },
  "language_info": {
   "codemirror_mode": {
    "name": "ipython",
    "version": 3
   },
   "file_extension": ".py",
   "mimetype": "text/x-python",
   "name": "python",
   "nbconvert_exporter": "python",
   "pygments_lexer": "ipython3",
   "version": "3.6.6"
  }
 },
 "nbformat": 4,
 "nbformat_minor": 4
}