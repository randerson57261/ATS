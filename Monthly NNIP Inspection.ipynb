{
 "cells": [
  {
   "cell_type": "code",
   "execution_count": 1,
   "metadata": {
    "collapsed": false
   },
   "outputs": [
    {
     "name": "stderr",
     "output_type": "stream",
     "text": [
      "2022-02-07 20:03:51.551372: W tensorflow/stream_executor/platform/default/dso_loader.cc:64] Could not load dynamic library 'libcudart.so.11.0'; dlerror: libcudart.so.11.0: cannot open shared object file: No such file or directory\n",
      "2022-02-07 20:03:51.551419: I tensorflow/stream_executor/cuda/cudart_stub.cc:29] Ignore above cudart dlerror if you do not have a GPU set up on your machine.\n"
     ]
    }
   ],
   "source": [
    "#Adds higher directory to path, so we can access /ATS\n",
    "import sys\n",
    "sys.path.append(\"../\")\n",
    "\n",
    "from ATS.general import *\n",
    "from ATS.QAQC import *\n",
    "\n",
    "import pandas as pd\n",
    "\n",
    "# Set the DataFram in pandas to show all columns and 1000 rows. Display plots inline\n",
    "pd.options.display.max_columns = None\n",
    "pd.set_option('display.max_rows', 1000)"
   ]
  },
  {
   "cell_type": "code",
   "execution_count": 2,
   "metadata": {
    "collapsed": false
   },
   "outputs": [
    {
     "data": {
      "text/html": [
       "<div class=\"item_container\" style=\"height: auto; overflow: hidden; border: 1px solid #cfcfcf; border-radius: 2px; background: #f6fafa; line-height: 1.21429em; padding: 10px;\">\n",
       "                    <div class=\"item_left\" style=\"width: 210px; float: left;\">\n",
       "                       <a href='https://A-T-S.maps.arcgis.com/home/item.html?id=b010d2af894c435cae5ff21886d450f1' target='_blank'>\n",
       "                        <img src='data:image/png;base64,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' width='200' height='133' class=\"itemThumbnail\">\n",
       "                       </a>\n",
       "                    </div>\n",
       "\n",
       "                    <div class=\"item_right\"     style=\"float: none; width: auto; overflow: hidden;\">\n",
       "                        <a href='https://A-T-S.maps.arcgis.com/home/item.html?id=b010d2af894c435cae5ff21886d450f1' target='_blank'><b>ARCHIVE_SAC_Monthly_NNIP_Inspection</b>\n",
       "                        </a>\n",
       "                        <br/>SAC_Monthly_NNIP_Inspection<img src='https://A-T-S.maps.arcgis.com/home/js/jsapi/esri/css/images/item_type_icons/featureshosted16.png' style=\"vertical-align:middle;\">Feature Layer Collection by Anooshi\n",
       "                        <br/>Last Modified: January 24, 2020\n",
       "                        <br/>0 comments, 377 views\n",
       "                    </div>\n",
       "                </div>\n",
       "                "
      ],
      "text/plain": [
       "<Item title:\"ARCHIVE_SAC_Monthly_NNIP_Inspection\" type:Feature Layer Collection owner:Anooshi>"
      ]
     },
     "execution_count": 2,
     "metadata": {
     },
     "output_type": "execute_result"
    }
   ],
   "source": [
    "# Load data from arcGIS online\n",
    "output = arcGIS_data_load('b010d2af894c435cae5ff21886d450f1')\n",
    "\n",
    "data = output['data0']\n",
    "feature_service = output['feature_service']"
   ]
  },
  {
   "cell_type": "code",
   "execution_count": 6,
   "metadata": {
    "cocalc": {
     "outputs": {
      "0": {
       "name": "input",
       "opts": {
        "password": false,
        "prompt": "Start Year? (YYYY)"
       },
       "output_type": "stream",
       "value": "2020"
      }
     }
    },
    "collapsed": false
   },
   "outputs": [
    {
     "name": "stdout",
     "output_type": "stream",
     "text": "Start Year? (YYYY) 2020"
    },
    {
     "name": "stdout",
     "output_type": "stream",
     "text": [
      "Analysis for 2020-10-01 07:00 UTC to 2021-10-01 07:00 UTC\n",
      "ERROR: No Data in Subset\n"
     ]
    }
   ],
   "source": [
    "# Subset data for desired year.\n",
    "data.rename(columns={\"Date\": \"Observation_Date\"}, inplace=True)\n",
    "sYear = input(\"Start Year? (YYYY)\")\n",
    "sub = year_subset(data,sYear)"
   ]
  },
  {
   "cell_type": "markdown",
   "metadata": {
    "collapsed": false
   },
   "source": [
    "# QAQC"
   ]
  },
  {
   "cell_type": "code",
   "execution_count": 4,
   "metadata": {
    "collapsed": false
   },
   "outputs": [
    {
     "name": "stdout",
     "output_type": "stream",
     "text": [
      "Name of Object ID Column:  ['OBJECTID']\n",
      "\n",
      "\n",
      "Analysis for: Phenology\n",
      "No \\xa0 characters found\n",
      "No double spaces found\n",
      "No triple spaces found\n",
      "No trailing white space found\n",
      "\n",
      "\n",
      "Analysis for: Priority\n",
      "No \\xa0 characters found\n",
      "No double spaces found\n",
      "No triple spaces found\n",
      "No trailing white space found\n",
      "\n",
      "\n",
      "Analysis for: BHRSite\n",
      "No \\xa0 characters found\n",
      "No double spaces found\n",
      "No triple spaces found\n",
      "No trailing white space found\n",
      "\n",
      "\n",
      "Analysis for: Biologist\n",
      "No \\xa0 characters found\n",
      "No double spaces found\n",
      "No triple spaces found\n",
      "No trailing white space found\n",
      "\n",
      "\n",
      "Analysis for: Habitat\n",
      "No \\xa0 characters found\n",
      "No double spaces found\n",
      "No triple spaces found\n",
      "No trailing white space found\n",
      "\n",
      "\n",
      "Analysis for: RecTreat\n",
      "No \\xa0 characters found\n",
      "No double spaces found\n",
      "No triple spaces found\n",
      "No trailing white space found\n",
      "\n",
      "\n",
      "Analysis for: GlobalID\n",
      "No \\xa0 characters found\n",
      "No double spaces found\n",
      "No triple spaces found\n",
      "No trailing white space found\n",
      "\n",
      "\n",
      "Analysis for: Biologist2\n",
      "No \\xa0 characters found\n",
      "No double spaces found\n",
      "No triple spaces found\n",
      "No trailing white space found\n",
      "\n",
      "\n",
      "Analysis for: PlntSpc\n",
      "No \\xa0 characters found\n",
      "No double spaces found\n",
      "No triple spaces found\n",
      "No trailing white space found\n"
     ]
    }
   ],
   "source": [
    "QAQC_whitespace(data, exclude_cols=['Comments'])"
   ]
  },
  {
   "cell_type": "code",
   "execution_count": 8,
   "metadata": {
    "collapsed": false
   },
   "outputs": [
    {
     "name": "stdout",
     "output_type": "stream",
     "text": [
      "No blank BHRSite\n",
      "Blank Biologist entrie(s) exist!\n"
     ]
    },
    {
     "name": "stderr",
     "output_type": "stream",
     "text": [
      "WARNING: Some output was deleted.\n"
     ]
    }
   ],
   "source": [
    "# QAQC Find blank entries in specific columns\n",
    "#Skiping, many intentionally blank points."
   ]
  }
 ],
 "metadata": {
  "kernelspec": {
   "display_name": "Python 3 (system-wide)",
   "language": "python",
   "metadata": {
    "cocalc": {
     "description": "Python 3 programming language",
     "priority": 100,
     "url": "https://www.python.org/"
    }
   },
   "name": "python3",
   "resource_dir": "/ext/jupyter/kernels/python3"
  },
  "language_info": {
   "codemirror_mode": {
    "name": "ipython",
    "version": 3
   },
   "file_extension": ".py",
   "mimetype": "text/x-python",
   "name": "python",
   "nbconvert_exporter": "python",
   "pygments_lexer": "ipython3",
   "version": "3.8.10"
  }
 },
 "nbformat": 4,
 "nbformat_minor": 4
}