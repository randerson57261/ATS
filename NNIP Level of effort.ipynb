{
 "cells": [
  {
   "cell_type": "code",
   "execution_count": 49,
   "metadata": {
    "collapsed": false
   },
   "outputs": [
   ],
   "source": [
    "#Adds higher directory to path, so we can access /ATS\n",
    "import sys\n",
    "sys.path.append(\"../\")\n",
    "\n",
    "from ATS.general import *\n",
    "from ATS.QAQC import *\n",
    "\n",
    "import pandas as pd\n",
    "import datetime as dt\n",
    "import matplotlib.pyplot as plt\n",
    "# Set the DataFram in pandas to show all columns and 1000 rows. Display plots inline\n",
    "pd.options.display.max_columns = None\n",
    "pd.set_option('display.max_rows', 1000)"
   ]
  },
  {
   "cell_type": "code",
   "execution_count": 16,
   "metadata": {
    "collapsed": false
   },
   "outputs": [
    {
     "data": {
      "text/html": [
       "<div class=\"item_container\" style=\"height: auto; overflow: hidden; border: 1px solid #cfcfcf; border-radius: 2px; background: #f6fafa; line-height: 1.21429em; padding: 10px;\">\n",
       "                    <div class=\"item_left\" style=\"width: 210px; float: left;\">\n",
       "                       <a href='https://A-T-S.maps.arcgis.com/home/item.html?id=a0f0d1db782346f691c70f651ea343c5' target='_blank'>\n",
       "                        <img src='data:image/png;base64,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' width='200' height='133' class=\"itemThumbnail\">\n",
       "                       </a>\n",
       "                    </div>\n",
       "\n",
       "                    <div class=\"item_right\"     style=\"float: none; width: auto; overflow: hidden;\">\n",
       "                        <a href='https://A-T-S.maps.arcgis.com/home/item.html?id=a0f0d1db782346f691c70f651ea343c5' target='_blank'><b>ARCHIVE_SAC_Management_Action_Tracking</b>\n",
       "                        </a>\n",
       "                        <br/>SAC_Management_Action_Tracking<img src='https://A-T-S.maps.arcgis.com/home/js/jsapi/esri/css/images/item_type_icons/featureshosted16.png' style=\"vertical-align:middle;\">Feature Layer Collection by Anooshi\n",
       "                        <br/>Last Modified: January 24, 2020\n",
       "                        <br/>0 comments, 1119 views\n",
       "                    </div>\n",
       "                </div>\n",
       "                "
      ],
      "text/plain": [
       "<Item title:\"ARCHIVE_SAC_Management_Action_Tracking\" type:Feature Layer Collection owner:Anooshi>"
      ]
     },
     "execution_count": 16,
     "metadata": {
     },
     "output_type": "execute_result"
    }
   ],
   "source": [
    "# Load data from arcGIS online\n",
    "output = arcGIS_data_load('a0f0d1db782346f691c70f651ea343c5')\n",
    "\n",
    "data = output['data0']\n",
    "\n",
    "feature_service = output['feature_service']"
   ]
  },
  {
   "cell_type": "code",
   "execution_count": 17,
   "metadata": {
    "collapsed": false,
    "scrolled": true
   },
   "outputs": [
    {
     "data": {
      "text/html": [
       "<div>\n",
       "<style scoped>\n",
       "    .dataframe tbody tr th:only-of-type {\n",
       "        vertical-align: middle;\n",
       "    }\n",
       "\n",
       "    .dataframe tbody tr th {\n",
       "        vertical-align: top;\n",
       "    }\n",
       "\n",
       "    .dataframe thead th {\n",
       "        text-align: right;\n",
       "    }\n",
       "</style>\n",
       "<table border=\"1\" class=\"dataframe\">\n",
       "  <thead>\n",
       "    <tr style=\"text-align: right;\">\n",
       "      <th></th>\n",
       "      <th>OBJECTID_1</th>\n",
       "      <th>BHR_Site</th>\n",
       "      <th>Surveyor1</th>\n",
       "      <th>Surveyor2</th>\n",
       "      <th>Habitat</th>\n",
       "      <th>Phenology</th>\n",
       "      <th>TreatType</th>\n",
       "      <th>Herbicide</th>\n",
       "      <th>Contractor</th>\n",
       "      <th>TreatNotes</th>\n",
       "      <th>DateTreat</th>\n",
       "      <th>PctCover</th>\n",
       "      <th>PatchSize</th>\n",
       "      <th>GlobalID_2</th>\n",
       "      <th>PlantSpecies</th>\n",
       "      <th>CompType</th>\n",
       "      <th>Patch_ID</th>\n",
       "      <th>Acres_Treated</th>\n",
       "      <th>SHAPE</th>\n",
       "    </tr>\n",
       "  </thead>\n",
       "  <tbody>\n",
       "    <tr>\n",
       "      <th>0</th>\n",
       "      <td>1</td>\n",
       "      <td>SAC</td>\n",
       "      <td>None</td>\n",
       "      <td>None</td>\n",
       "      <td>Sycamore Riparian</td>\n",
       "      <td>None</td>\n",
       "      <td>None</td>\n",
       "      <td>None</td>\n",
       "      <td>None</td>\n",
       "      <td>None</td>\n",
       "      <td>NaT</td>\n",
       "      <td>NaN</td>\n",
       "      <td>NaN</td>\n",
       "      <td>e7f6eabc-83b0-4c49-bdf5-5050d226027e</td>\n",
       "      <td>Rubus armeniacus</td>\n",
       "      <td>Rehabilitate</td>\n",
       "      <td>1</td>\n",
       "      <td>NaN</td>\n",
       "      <td>{'x': 6191022.362146303, 'y': 2037227.47474648...</td>\n",
       "    </tr>\n",
       "    <tr>\n",
       "      <th>1</th>\n",
       "      <td>2</td>\n",
       "      <td>SAC</td>\n",
       "      <td>None</td>\n",
       "      <td>None</td>\n",
       "      <td>Sycamore Riparian</td>\n",
       "      <td>None</td>\n",
       "      <td>None</td>\n",
       "      <td>None</td>\n",
       "      <td>None</td>\n",
       "      <td>None</td>\n",
       "      <td>NaT</td>\n",
       "      <td>NaN</td>\n",
       "      <td>NaN</td>\n",
       "      <td>65dba9f5-5ca1-40bd-ace1-39a216d74f77</td>\n",
       "      <td>Rubus armeniacus</td>\n",
       "      <td>Rehabilitate</td>\n",
       "      <td>2</td>\n",
       "      <td>NaN</td>\n",
       "      <td>{'x': 6191031.725644633, 'y': 2037378.95213380...</td>\n",
       "    </tr>\n",
       "    <tr>\n",
       "      <th>2</th>\n",
       "      <td>3</td>\n",
       "      <td>SAC</td>\n",
       "      <td>None</td>\n",
       "      <td>None</td>\n",
       "      <td>Sycamore Riparian</td>\n",
       "      <td>None</td>\n",
       "      <td>None</td>\n",
       "      <td>None</td>\n",
       "      <td>None</td>\n",
       "      <td>None</td>\n",
       "      <td>NaT</td>\n",
       "      <td>NaN</td>\n",
       "      <td>NaN</td>\n",
       "      <td>0e7ef899-652f-4b9e-a992-f906735c9ed9</td>\n",
       "      <td>Rubus armeniacus</td>\n",
       "      <td>Rehabilitate</td>\n",
       "      <td>3</td>\n",
       "      <td>NaN</td>\n",
       "      <td>{'x': 6189784.797036141, 'y': 2037795.18883414...</td>\n",
       "    </tr>\n",
       "    <tr>\n",
       "      <th>3</th>\n",
       "      <td>4</td>\n",
       "      <td>SAC</td>\n",
       "      <td>None</td>\n",
       "      <td>None</td>\n",
       "      <td>Sycamore Riparian</td>\n",
       "      <td>None</td>\n",
       "      <td>None</td>\n",
       "      <td>None</td>\n",
       "      <td>None</td>\n",
       "      <td>None</td>\n",
       "      <td>NaT</td>\n",
       "      <td>NaN</td>\n",
       "      <td>NaN</td>\n",
       "      <td>c363f25c-a062-496e-9a8b-33c2e442d7e9</td>\n",
       "      <td>Rubus armeniacus</td>\n",
       "      <td>Rehabilitate</td>\n",
       "      <td>4</td>\n",
       "      <td>NaN</td>\n",
       "      <td>{'x': 6189529.866443634, 'y': 2037796.04611589...</td>\n",
       "    </tr>\n",
       "    <tr>\n",
       "      <th>4</th>\n",
       "      <td>5</td>\n",
       "      <td>SAC</td>\n",
       "      <td>None</td>\n",
       "      <td>None</td>\n",
       "      <td>Developed</td>\n",
       "      <td>None</td>\n",
       "      <td>None</td>\n",
       "      <td>None</td>\n",
       "      <td>None</td>\n",
       "      <td>None</td>\n",
       "      <td>NaT</td>\n",
       "      <td>NaN</td>\n",
       "      <td>NaN</td>\n",
       "      <td>90c19561-10ea-4824-b907-26bfbc119971</td>\n",
       "      <td>Rubus armeniacus</td>\n",
       "      <td>Not Applicable</td>\n",
       "      <td>5</td>\n",
       "      <td>NaN</td>\n",
       "      <td>{'x': 6188116.672747716, 'y': 2038081.10099197...</td>\n",
       "    </tr>\n",
       "  </tbody>\n",
       "</table>\n",
       "</div>"
      ],
      "text/plain": [
       "   OBJECTID_1 BHR_Site Surveyor1 Surveyor2            Habitat Phenology  \\\n",
       "0           1      SAC      None      None  Sycamore Riparian      None   \n",
       "1           2      SAC      None      None  Sycamore Riparian      None   \n",
       "2           3      SAC      None      None  Sycamore Riparian      None   \n",
       "3           4      SAC      None      None  Sycamore Riparian      None   \n",
       "4           5      SAC      None      None          Developed      None   \n",
       "\n",
       "  TreatType Herbicide Contractor TreatNotes DateTreat  PctCover  PatchSize  \\\n",
       "0      None      None       None       None       NaT       NaN        NaN   \n",
       "1      None      None       None       None       NaT       NaN        NaN   \n",
       "2      None      None       None       None       NaT       NaN        NaN   \n",
       "3      None      None       None       None       NaT       NaN        NaN   \n",
       "4      None      None       None       None       NaT       NaN        NaN   \n",
       "\n",
       "                             GlobalID_2      PlantSpecies        CompType  \\\n",
       "0  e7f6eabc-83b0-4c49-bdf5-5050d226027e  Rubus armeniacus    Rehabilitate   \n",
       "1  65dba9f5-5ca1-40bd-ace1-39a216d74f77  Rubus armeniacus    Rehabilitate   \n",
       "2  0e7ef899-652f-4b9e-a992-f906735c9ed9  Rubus armeniacus    Rehabilitate   \n",
       "3  c363f25c-a062-496e-9a8b-33c2e442d7e9  Rubus armeniacus    Rehabilitate   \n",
       "4  90c19561-10ea-4824-b907-26bfbc119971  Rubus armeniacus  Not Applicable   \n",
       "\n",
       "   Patch_ID  Acres_Treated                                              SHAPE  \n",
       "0         1            NaN  {'x': 6191022.362146303, 'y': 2037227.47474648...  \n",
       "1         2            NaN  {'x': 6191031.725644633, 'y': 2037378.95213380...  \n",
       "2         3            NaN  {'x': 6189784.797036141, 'y': 2037795.18883414...  \n",
       "3         4            NaN  {'x': 6189529.866443634, 'y': 2037796.04611589...  \n",
       "4         5            NaN  {'x': 6188116.672747716, 'y': 2038081.10099197...  "
      ]
     },
     "execution_count": 17,
     "metadata": {
     },
     "output_type": "execute_result"
    }
   ],
   "source": [
    "data.head(5)\n"
   ]
  },
  {
   "cell_type": "code",
   "execution_count": 63,
   "metadata": {
    "collapsed": false
   },
   "outputs": [
   ],
   "source": [
    "df1 = data[(data.PlantSpecies == 'Aegilops triuncialis') & (data.TreatType == 'Mowing') | (data.PlantSpecies == 'Conium maculatum') & (data.TreatType == 'Mowing')]"
   ]
  },
  {
   "cell_type": "code",
   "execution_count": 64,
   "metadata": {
    "collapsed": false
   },
   "outputs": [
    {
     "data": {
      "text/plain": [
       "Mowing    99\n",
       "Name: TreatType, dtype: int64"
      ]
     },
     "execution_count": 64,
     "metadata": {
     },
     "output_type": "execute_result"
    }
   ],
   "source": [
    "df1.TreatType.value_counts()"
   ]
  },
  {
   "cell_type": "code",
   "execution_count": 68,
   "metadata": {
    "collapsed": false,
    "scrolled": true
   },
   "outputs": [
    {
     "name": "stderr",
     "output_type": "stream",
     "text": [
      "/usr/local/lib/python3.6/dist-packages/ipykernel/__main__.py:1: SettingWithCopyWarning: \n",
      "A value is trying to be set on a copy of a slice from a DataFrame.\n",
      "Try using .loc[row_indexer,col_indexer] = value instead\n",
      "\n",
      "See the caveats in the documentation: http://pandas.pydata.org/pandas-docs/stable/user_guide/indexing.html#returning-a-view-versus-a-copy\n",
      "  if __name__ == '__main__':\n"
     ]
    }
   ],
   "source": [
    "df1['Date'] = df1.DateTreat.dt.floor('d')"
   ]
  },
  {
   "cell_type": "code",
   "execution_count": 77,
   "metadata": {
    "collapsed": false
   },
   "outputs": [
    {
     "data": {
      "text/plain": [
       "array(['2018-06-29T00:00:00.000000000', '2018-07-02T00:00:00.000000000',\n",
       "       '2018-06-28T00:00:00.000000000', '2018-06-08T00:00:00.000000000',\n",
       "       '2018-06-19T00:00:00.000000000',                           'NaT',\n",
       "       '2018-07-03T00:00:00.000000000', '2018-07-05T00:00:00.000000000',\n",
       "       '2019-04-01T00:00:00.000000000', '2019-04-03T00:00:00.000000000',\n",
       "       '2019-04-04T00:00:00.000000000', '2019-05-29T00:00:00.000000000',\n",
       "       '2019-05-30T00:00:00.000000000', '2019-05-31T00:00:00.000000000',\n",
       "       '2019-06-05T00:00:00.000000000', '2019-06-06T00:00:00.000000000',\n",
       "       '2019-06-07T00:00:00.000000000'], dtype='datetime64[ns]')"
      ]
     },
     "execution_count": 77,
     "metadata": {
     },
     "output_type": "execute_result"
    }
   ],
   "source": [
   ]
  },
  {
   "cell_type": "code",
   "execution_count": 81,
   "metadata": {
    "collapsed": false,
    "scrolled": true
   },
   "outputs": [
   ],
   "source": [
    "df2 = df1.groupby(['PlantSpecies', 'TreatType', 'Date']).count().reset_index()"
   ]
  },
  {
   "cell_type": "code",
   "execution_count": 82,
   "metadata": {
    "collapsed": false
   },
   "outputs": [
    {
     "data": {
      "text/plain": [
       "16"
      ]
     },
     "execution_count": 82,
     "metadata": {
     },
     "output_type": "execute_result"
    }
   ],
   "source": [
    "df2.Date.count()"
   ]
  },
  {
   "cell_type": "code",
   "execution_count": 0,
   "metadata": {
    "collapsed": false
   },
   "outputs": [
   ],
   "source": [
   ]
  }
 ],
 "metadata": {
  "kernelspec": {
   "display_name": "Python 3 (system-wide)",
   "language": "python",
   "metadata": {
    "cocalc": {
     "description": "Python 3 programming language",
     "priority": 100,
     "url": "https://www.python.org/"
    }
   },
   "name": "python3"
  },
  "language_info": {
   "codemirror_mode": {
    "name": "ipython",
    "version": 3
   },
   "file_extension": ".py",
   "mimetype": "text/x-python",
   "name": "python",
   "nbconvert_exporter": "python",
   "pygments_lexer": "ipython3",
   "version": "3.6.9"
  }
 },
 "nbformat": 4,
 "nbformat_minor": 0
}