{
 "cells": [
  {
   "cell_type": "code",
   "execution_count": 1,
   "metadata": {
    "collapsed": false
   },
   "outputs": [
   ],
   "source": [
    "#Adds higher directory to path to access /ATS\n",
    "import sys\n",
    "sys.path.append(\"../\")\n",
    "\n",
    "from ATS.general import *\n",
    "from ATS.QAQC import *\n",
    "\n",
    "import pandas as pd\n",
    "\n",
    "# Set the DataFram in pandas to show all columns and 1000 rows. Display plots inline\n",
    "pd.options.display.max_columns = None\n",
    "pd.set_option('display.max_rows', 1000)"
   ]
  },
  {
   "cell_type": "code",
   "execution_count": 2,
   "metadata": {
    "collapsed": false
   },
   "outputs": [
    {
     "data": {
      "text/html": [
       "<div class=\"item_container\" style=\"height: auto; overflow: hidden; border: 1px solid #cfcfcf; border-radius: 2px; background: #f6fafa; line-height: 1.21429em; padding: 10px;\">\n",
       "                    <div class=\"item_left\" style=\"width: 210px; float: left;\">\n",
       "                       <a href='https://A-T-S.maps.arcgis.com/home/item.html?id=b8830c4065c947f1a97495f9509c5e93' target='_blank'>\n",
       "                        <img src='data:image/png;base64,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' width='200' height='133' class=\"itemThumbnail\">\n",
       "                       </a>\n",
       "                    </div>\n",
       "\n",
       "                    <div class=\"item_right\"     style=\"float: none; width: auto; overflow: hidden;\">\n",
       "                        <a href='https://A-T-S.maps.arcgis.com/home/item.html?id=b8830c4065c947f1a97495f9509c5e93' target='_blank'><b>SAC_Tree_Survival</b>\n",
       "                        </a>\n",
       "                        <br/>SAC Tree Survival<img src='https://A-T-S.maps.arcgis.com/home/js/jsapi/esri/css/images/item_type_icons/featureshosted16.png' style=\"vertical-align:middle;\">Feature Layer Collection by Anooshi\n",
       "                        <br/>Last Modified: November 13, 2019\n",
       "                        <br/>0 comments, 645 views\n",
       "                    </div>\n",
       "                </div>\n",
       "                "
      ],
      "text/plain": [
       "<Item title:\"SAC_Tree_Survival\" type:Feature Layer Collection owner:Anooshi>"
      ]
     },
     "execution_count": 2,
     "metadata": {
     },
     "output_type": "execute_result"
    }
   ],
   "source": [
    "# Load data from arcGIS online\n",
    "output = arcGIS_data_load('b8830c4065c947f1a97495f9509c5e93')\n",
    "\n",
    "data = output['data0']\n",
    "feature_service = output['feature_service']"
   ]
  },
  {
   "cell_type": "code",
   "execution_count": 3,
   "metadata": {
    "collapsed": false
   },
   "outputs": [
   ],
   "source": [
    "oakhab = data.loc[data.Habitat != 'Sycamore Riparian']"
   ]
  },
  {
   "cell_type": "code",
   "execution_count": 22,
   "metadata": {
    "collapsed": false
   },
   "outputs": [
    {
     "data": {
      "text/plain": [
       "AliveDead     837\n",
       "BHRSite       837\n",
       "BelowTT        63\n",
       "Cankers        29\n",
       "Comments      130\n",
       "Confined       62\n",
       "DeadLeaves     17\n",
       "DeadPathog      1\n",
       "DeerBrow      373\n",
       "Depredated     68\n",
       "DiedOlder       7\n",
       "DiedYoung     210\n",
       "Dormant         3\n",
       "EnteringDo      8\n",
       "ExcptRob        1\n",
       "GlobalID      837\n",
       "Habitat       837\n",
       "HealthRank    404\n",
       "InsectBrow     46\n",
       "InsectInfe      0\n",
       "LeafDiebac     37\n",
       "LeafSpots     103\n",
       "LeavesChlo     15\n",
       "MainStmDeR     14\n",
       "Missing       227\n",
       "OBJECTID      837\n",
       "Oozing          0\n",
       "PlantStunt    201\n",
       "PlotCntrMv      0\n",
       "PlotDmnsnC      0\n",
       "PlotID        837\n",
       "PotentialP      4\n",
       "PrematureL     13\n",
       "RodentBrow      8\n",
       "SHAPE         837\n",
       "ShootBranc    172\n",
       "StemDiebac     87\n",
       "SurveyDate    837\n",
       "Surveyor1     837\n",
       "Surveyor2     656\n",
       "TreeHeight    404\n",
       "TreeShelte    812\n",
       "TreeSpecie    837\n",
       "Wilting         8\n",
       "dtype: int64"
      ]
     },
     "execution_count": 22,
     "metadata": {
     },
     "output_type": "execute_result"
    }
   ],
   "source": [
    "oakhab.count()"
   ]
  },
  {
   "cell_type": "code",
   "execution_count": 32,
   "metadata": {
    "collapsed": false
   },
   "outputs": [
   ],
   "source": [
    "deerbrow = oakhab[oakhab.DeerBrow.notnull()]"
   ]
  },
  {
   "cell_type": "code",
   "execution_count": 38,
   "metadata": {
    "collapsed": false
   },
   "outputs": [
    {
     "data": {
      "text/plain": [
       "0.44563918757467147"
      ]
     },
     "execution_count": 38,
     "metadata": {
     },
     "output_type": "execute_result"
    }
   ],
   "source": [
    "deerbrow.DeerBrow.count()/oakhab.AliveDead.count()"
   ]
  },
  {
   "cell_type": "code",
   "execution_count": 4,
   "metadata": {
    "collapsed": false
   },
   "outputs": [
    {
     "name": "stderr",
     "output_type": "stream",
     "text": [
      "WARNING: Some output was deleted.\n"
     ]
    }
   ],
   "source": [
    "oakhab"
   ]
  },
  {
   "cell_type": "code",
   "execution_count": 10,
   "metadata": {
    "collapsed": false
   },
   "outputs": [
   ],
   "source": [
    "healthy = oakhab[oakhab.HealthRank == '1 - Plant healthy; no apparent afflictions or stress']"
   ]
  },
  {
   "cell_type": "code",
   "execution_count": 16,
   "metadata": {
    "collapsed": false
   },
   "outputs": [
    {
     "data": {
      "text/plain": [
       "(10, 44)"
      ]
     },
     "execution_count": 16,
     "metadata": {
     },
     "output_type": "execute_result"
    }
   ],
   "source": [
    "healthy.shape"
   ]
  },
  {
   "cell_type": "code",
   "execution_count": 19,
   "metadata": {
    "collapsed": false
   },
   "outputs": [
   ],
   "source": [
    "lesshealthy = oakhab[oakhab.HealthRank == '2 - Plant healthy; minor signs of affliction or stress']"
   ]
  },
  {
   "cell_type": "code",
   "execution_count": 20,
   "metadata": {
    "collapsed": false
   },
   "outputs": [
    {
     "data": {
      "text/plain": [
       "AliveDead     133\n",
       "BHRSite       133\n",
       "BelowTT        26\n",
       "Cankers         6\n",
       "Comments       14\n",
       "Confined       22\n",
       "DeadLeaves      1\n",
       "DeadPathog      0\n",
       "DeerBrow      123\n",
       "Depredated      0\n",
       "DiedOlder       0\n",
       "DiedYoung       3\n",
       "Dormant         1\n",
       "EnteringDo      2\n",
       "ExcptRob        0\n",
       "GlobalID      133\n",
       "Habitat       133\n",
       "HealthRank    133\n",
       "InsectBrow     10\n",
       "InsectInfe      0\n",
       "LeafDiebac      4\n",
       "LeafSpots      10\n",
       "LeavesChlo      5\n",
       "MainStmDeR      4\n",
       "Missing         0\n",
       "OBJECTID      133\n",
       "Oozing          0\n",
       "PlantStunt     55\n",
       "PlotCntrMv      0\n",
       "PlotDmnsnC      0\n",
       "PlotID        133\n",
       "PotentialP      1\n",
       "PrematureL      1\n",
       "RodentBrow      2\n",
       "SHAPE         133\n",
       "ShootBranc     27\n",
       "StemDiebac     10\n",
       "SurveyDate    133\n",
       "Surveyor1     133\n",
       "Surveyor2     109\n",
       "TreeHeight    133\n",
       "TreeShelte    133\n",
       "TreeSpecie    133\n",
       "Wilting         1\n",
       "dtype: int64"
      ]
     },
     "execution_count": 20,
     "metadata": {
     },
     "output_type": "execute_result"
    }
   ],
   "source": [
    "lesshealthy.count()"
   ]
  },
  {
   "cell_type": "code",
   "execution_count": 4,
   "metadata": {
    "collapsed": false
   },
   "outputs": [
   ],
   "source": [
    "alive = oakhab[oakhab.AliveDead == 'Alive']"
   ]
  },
  {
   "cell_type": "code",
   "execution_count": 5,
   "metadata": {
    "collapsed": false,
    "scrolled": true
   },
   "outputs": [
    {
     "data": {
      "text/html": [
       "<div>\n",
       "<style scoped>\n",
       "    .dataframe tbody tr th:only-of-type {\n",
       "        vertical-align: middle;\n",
       "    }\n",
       "\n",
       "    .dataframe tbody tr th {\n",
       "        vertical-align: top;\n",
       "    }\n",
       "\n",
       "    .dataframe thead th {\n",
       "        text-align: right;\n",
       "    }\n",
       "</style>\n",
       "<table border=\"1\" class=\"dataframe\">\n",
       "  <thead>\n",
       "    <tr style=\"text-align: right;\">\n",
       "      <th></th>\n",
       "      <th>AliveDead</th>\n",
       "      <th>BHRSite</th>\n",
       "      <th>BelowTT</th>\n",
       "      <th>Cankers</th>\n",
       "      <th>Comments</th>\n",
       "      <th>Confined</th>\n",
       "      <th>DeadLeaves</th>\n",
       "      <th>DeadPathog</th>\n",
       "      <th>DeerBrow</th>\n",
       "      <th>Depredated</th>\n",
       "      <th>DiedOlder</th>\n",
       "      <th>DiedYoung</th>\n",
       "      <th>Dormant</th>\n",
       "      <th>EnteringDo</th>\n",
       "      <th>ExcptRob</th>\n",
       "      <th>GlobalID</th>\n",
       "      <th>Habitat</th>\n",
       "      <th>InsectBrow</th>\n",
       "      <th>InsectInfe</th>\n",
       "      <th>LeafDiebac</th>\n",
       "      <th>LeafSpots</th>\n",
       "      <th>LeavesChlo</th>\n",
       "      <th>MainStmDeR</th>\n",
       "      <th>Missing</th>\n",
       "      <th>OBJECTID</th>\n",
       "      <th>Oozing</th>\n",
       "      <th>PlantStunt</th>\n",
       "      <th>PlotCntrMv</th>\n",
       "      <th>PlotDmnsnC</th>\n",
       "      <th>PlotID</th>\n",
       "      <th>PotentialP</th>\n",
       "      <th>PrematureL</th>\n",
       "      <th>RodentBrow</th>\n",
       "      <th>SHAPE</th>\n",
       "      <th>ShootBranc</th>\n",
       "      <th>StemDiebac</th>\n",
       "      <th>SurveyDate</th>\n",
       "      <th>Surveyor1</th>\n",
       "      <th>Surveyor2</th>\n",
       "      <th>TreeHeight</th>\n",
       "      <th>TreeShelte</th>\n",
       "      <th>TreeSpecie</th>\n",
       "      <th>Wilting</th>\n",
       "    </tr>\n",
       "    <tr>\n",
       "      <th>HealthRank</th>\n",
       "      <th></th>\n",
       "      <th></th>\n",
       "      <th></th>\n",
       "      <th></th>\n",
       "      <th></th>\n",
       "      <th></th>\n",
       "      <th></th>\n",
       "      <th></th>\n",
       "      <th></th>\n",
       "      <th></th>\n",
       "      <th></th>\n",
       "      <th></th>\n",
       "      <th></th>\n",
       "      <th></th>\n",
       "      <th></th>\n",
       "      <th></th>\n",
       "      <th></th>\n",
       "      <th></th>\n",
       "      <th></th>\n",
       "      <th></th>\n",
       "      <th></th>\n",
       "      <th></th>\n",
       "      <th></th>\n",
       "      <th></th>\n",
       "      <th></th>\n",
       "      <th></th>\n",
       "      <th></th>\n",
       "      <th></th>\n",
       "      <th></th>\n",
       "      <th></th>\n",
       "      <th></th>\n",
       "      <th></th>\n",
       "      <th></th>\n",
       "      <th></th>\n",
       "      <th></th>\n",
       "      <th></th>\n",
       "      <th></th>\n",
       "      <th></th>\n",
       "      <th></th>\n",
       "      <th></th>\n",
       "      <th></th>\n",
       "      <th></th>\n",
       "      <th></th>\n",
       "    </tr>\n",
       "  </thead>\n",
       "  <tbody>\n",
       "    <tr>\n",
       "      <th>1 - Plant healthy; no apparent afflictions or stress</th>\n",
       "      <td>10</td>\n",
       "      <td>10</td>\n",
       "      <td>5</td>\n",
       "      <td>0</td>\n",
       "      <td>4</td>\n",
       "      <td>3</td>\n",
       "      <td>0</td>\n",
       "      <td>0</td>\n",
       "      <td>3</td>\n",
       "      <td>0</td>\n",
       "      <td>0</td>\n",
       "      <td>0</td>\n",
       "      <td>0</td>\n",
       "      <td>0</td>\n",
       "      <td>1</td>\n",
       "      <td>10</td>\n",
       "      <td>10</td>\n",
       "      <td>1</td>\n",
       "      <td>0</td>\n",
       "      <td>0</td>\n",
       "      <td>0</td>\n",
       "      <td>1</td>\n",
       "      <td>1</td>\n",
       "      <td>0</td>\n",
       "      <td>10</td>\n",
       "      <td>0</td>\n",
       "      <td>0</td>\n",
       "      <td>0</td>\n",
       "      <td>0</td>\n",
       "      <td>10</td>\n",
       "      <td>0</td>\n",
       "      <td>0</td>\n",
       "      <td>0</td>\n",
       "      <td>10</td>\n",
       "      <td>0</td>\n",
       "      <td>1</td>\n",
       "      <td>10</td>\n",
       "      <td>10</td>\n",
       "      <td>9</td>\n",
       "      <td>10</td>\n",
       "      <td>10</td>\n",
       "      <td>10</td>\n",
       "      <td>0</td>\n",
       "    </tr>\n",
       "    <tr>\n",
       "      <th>2 - Plant healthy; minor signs of affliction or stress</th>\n",
       "      <td>133</td>\n",
       "      <td>133</td>\n",
       "      <td>26</td>\n",
       "      <td>6</td>\n",
       "      <td>14</td>\n",
       "      <td>22</td>\n",
       "      <td>1</td>\n",
       "      <td>0</td>\n",
       "      <td>123</td>\n",
       "      <td>0</td>\n",
       "      <td>0</td>\n",
       "      <td>3</td>\n",
       "      <td>1</td>\n",
       "      <td>2</td>\n",
       "      <td>0</td>\n",
       "      <td>133</td>\n",
       "      <td>133</td>\n",
       "      <td>10</td>\n",
       "      <td>0</td>\n",
       "      <td>4</td>\n",
       "      <td>10</td>\n",
       "      <td>5</td>\n",
       "      <td>4</td>\n",
       "      <td>0</td>\n",
       "      <td>133</td>\n",
       "      <td>0</td>\n",
       "      <td>55</td>\n",
       "      <td>0</td>\n",
       "      <td>0</td>\n",
       "      <td>133</td>\n",
       "      <td>1</td>\n",
       "      <td>1</td>\n",
       "      <td>2</td>\n",
       "      <td>133</td>\n",
       "      <td>27</td>\n",
       "      <td>10</td>\n",
       "      <td>133</td>\n",
       "      <td>133</td>\n",
       "      <td>109</td>\n",
       "      <td>133</td>\n",
       "      <td>133</td>\n",
       "      <td>133</td>\n",
       "      <td>1</td>\n",
       "    </tr>\n",
       "    <tr>\n",
       "      <th>3 - Moderate health; moderate signs of affliction or stress</th>\n",
       "      <td>210</td>\n",
       "      <td>210</td>\n",
       "      <td>22</td>\n",
       "      <td>17</td>\n",
       "      <td>8</td>\n",
       "      <td>33</td>\n",
       "      <td>8</td>\n",
       "      <td>0</td>\n",
       "      <td>200</td>\n",
       "      <td>0</td>\n",
       "      <td>0</td>\n",
       "      <td>0</td>\n",
       "      <td>2</td>\n",
       "      <td>4</td>\n",
       "      <td>0</td>\n",
       "      <td>210</td>\n",
       "      <td>210</td>\n",
       "      <td>28</td>\n",
       "      <td>0</td>\n",
       "      <td>22</td>\n",
       "      <td>71</td>\n",
       "      <td>7</td>\n",
       "      <td>3</td>\n",
       "      <td>0</td>\n",
       "      <td>210</td>\n",
       "      <td>0</td>\n",
       "      <td>108</td>\n",
       "      <td>0</td>\n",
       "      <td>0</td>\n",
       "      <td>210</td>\n",
       "      <td>2</td>\n",
       "      <td>5</td>\n",
       "      <td>5</td>\n",
       "      <td>210</td>\n",
       "      <td>103</td>\n",
       "      <td>47</td>\n",
       "      <td>210</td>\n",
       "      <td>210</td>\n",
       "      <td>147</td>\n",
       "      <td>210</td>\n",
       "      <td>209</td>\n",
       "      <td>210</td>\n",
       "      <td>6</td>\n",
       "    </tr>\n",
       "    <tr>\n",
       "      <th>4 - Poor health; appears heavily afflicted or stressed</th>\n",
       "      <td>46</td>\n",
       "      <td>46</td>\n",
       "      <td>7</td>\n",
       "      <td>6</td>\n",
       "      <td>6</td>\n",
       "      <td>4</td>\n",
       "      <td>5</td>\n",
       "      <td>0</td>\n",
       "      <td>43</td>\n",
       "      <td>0</td>\n",
       "      <td>0</td>\n",
       "      <td>1</td>\n",
       "      <td>0</td>\n",
       "      <td>2</td>\n",
       "      <td>0</td>\n",
       "      <td>46</td>\n",
       "      <td>46</td>\n",
       "      <td>7</td>\n",
       "      <td>0</td>\n",
       "      <td>9</td>\n",
       "      <td>21</td>\n",
       "      <td>2</td>\n",
       "      <td>4</td>\n",
       "      <td>0</td>\n",
       "      <td>46</td>\n",
       "      <td>0</td>\n",
       "      <td>37</td>\n",
       "      <td>0</td>\n",
       "      <td>0</td>\n",
       "      <td>46</td>\n",
       "      <td>1</td>\n",
       "      <td>4</td>\n",
       "      <td>1</td>\n",
       "      <td>46</td>\n",
       "      <td>39</td>\n",
       "      <td>24</td>\n",
       "      <td>46</td>\n",
       "      <td>46</td>\n",
       "      <td>37</td>\n",
       "      <td>46</td>\n",
       "      <td>46</td>\n",
       "      <td>46</td>\n",
       "      <td>1</td>\n",
       "    </tr>\n",
       "    <tr>\n",
       "      <th>5 - Poor health; probable imminent mortality</th>\n",
       "      <td>5</td>\n",
       "      <td>5</td>\n",
       "      <td>3</td>\n",
       "      <td>0</td>\n",
       "      <td>0</td>\n",
       "      <td>0</td>\n",
       "      <td>3</td>\n",
       "      <td>0</td>\n",
       "      <td>3</td>\n",
       "      <td>0</td>\n",
       "      <td>0</td>\n",
       "      <td>0</td>\n",
       "      <td>0</td>\n",
       "      <td>0</td>\n",
       "      <td>0</td>\n",
       "      <td>5</td>\n",
       "      <td>5</td>\n",
       "      <td>0</td>\n",
       "      <td>0</td>\n",
       "      <td>2</td>\n",
       "      <td>1</td>\n",
       "      <td>0</td>\n",
       "      <td>2</td>\n",
       "      <td>0</td>\n",
       "      <td>5</td>\n",
       "      <td>0</td>\n",
       "      <td>1</td>\n",
       "      <td>0</td>\n",
       "      <td>0</td>\n",
       "      <td>5</td>\n",
       "      <td>0</td>\n",
       "      <td>3</td>\n",
       "      <td>0</td>\n",
       "      <td>5</td>\n",
       "      <td>3</td>\n",
       "      <td>5</td>\n",
       "      <td>5</td>\n",
       "      <td>5</td>\n",
       "      <td>2</td>\n",
       "      <td>5</td>\n",
       "      <td>5</td>\n",
       "      <td>5</td>\n",
       "      <td>0</td>\n",
       "    </tr>\n",
       "  </tbody>\n",
       "</table>\n",
       "</div>"
      ],
      "text/plain": [
       "                                                    AliveDead  BHRSite  \\\n",
       "HealthRank                                                               \n",
       "1 - Plant healthy; no apparent afflictions or s...         10       10   \n",
       "2 - Plant healthy; minor signs of affliction or...        133      133   \n",
       "3 - Moderate health; moderate signs of afflicti...        210      210   \n",
       "4 - Poor health; appears heavily afflicted or s...         46       46   \n",
       "5 - Poor health; probable imminent mortality                5        5   \n",
       "\n",
       "                                                    BelowTT  Cankers  \\\n",
       "HealthRank                                                             \n",
       "1 - Plant healthy; no apparent afflictions or s...        5        0   \n",
       "2 - Plant healthy; minor signs of affliction or...       26        6   \n",
       "3 - Moderate health; moderate signs of afflicti...       22       17   \n",
       "4 - Poor health; appears heavily afflicted or s...        7        6   \n",
       "5 - Poor health; probable imminent mortality              3        0   \n",
       "\n",
       "                                                    Comments  Confined  \\\n",
       "HealthRank                                                               \n",
       "1 - Plant healthy; no apparent afflictions or s...         4         3   \n",
       "2 - Plant healthy; minor signs of affliction or...        14        22   \n",
       "3 - Moderate health; moderate signs of afflicti...         8        33   \n",
       "4 - Poor health; appears heavily afflicted or s...         6         4   \n",
       "5 - Poor health; probable imminent mortality               0         0   \n",
       "\n",
       "                                                    DeadLeaves  DeadPathog  \\\n",
       "HealthRank                                                                   \n",
       "1 - Plant healthy; no apparent afflictions or s...           0           0   \n",
       "2 - Plant healthy; minor signs of affliction or...           1           0   \n",
       "3 - Moderate health; moderate signs of afflicti...           8           0   \n",
       "4 - Poor health; appears heavily afflicted or s...           5           0   \n",
       "5 - Poor health; probable imminent mortality                 3           0   \n",
       "\n",
       "                                                    DeerBrow  Depredated  \\\n",
       "HealthRank                                                                 \n",
       "1 - Plant healthy; no apparent afflictions or s...         3           0   \n",
       "2 - Plant healthy; minor signs of affliction or...       123           0   \n",
       "3 - Moderate health; moderate signs of afflicti...       200           0   \n",
       "4 - Poor health; appears heavily afflicted or s...        43           0   \n",
       "5 - Poor health; probable imminent mortality               3           0   \n",
       "\n",
       "                                                    DiedOlder  DiedYoung  \\\n",
       "HealthRank                                                                 \n",
       "1 - Plant healthy; no apparent afflictions or s...          0          0   \n",
       "2 - Plant healthy; minor signs of affliction or...          0          3   \n",
       "3 - Moderate health; moderate signs of afflicti...          0          0   \n",
       "4 - Poor health; appears heavily afflicted or s...          0          1   \n",
       "5 - Poor health; probable imminent mortality                0          0   \n",
       "\n",
       "                                                    Dormant  EnteringDo  \\\n",
       "HealthRank                                                                \n",
       "1 - Plant healthy; no apparent afflictions or s...        0           0   \n",
       "2 - Plant healthy; minor signs of affliction or...        1           2   \n",
       "3 - Moderate health; moderate signs of afflicti...        2           4   \n",
       "4 - Poor health; appears heavily afflicted or s...        0           2   \n",
       "5 - Poor health; probable imminent mortality              0           0   \n",
       "\n",
       "                                                    ExcptRob  GlobalID  \\\n",
       "HealthRank                                                               \n",
       "1 - Plant healthy; no apparent afflictions or s...         1        10   \n",
       "2 - Plant healthy; minor signs of affliction or...         0       133   \n",
       "3 - Moderate health; moderate signs of afflicti...         0       210   \n",
       "4 - Poor health; appears heavily afflicted or s...         0        46   \n",
       "5 - Poor health; probable imminent mortality               0         5   \n",
       "\n",
       "                                                    Habitat  InsectBrow  \\\n",
       "HealthRank                                                                \n",
       "1 - Plant healthy; no apparent afflictions or s...       10           1   \n",
       "2 - Plant healthy; minor signs of affliction or...      133          10   \n",
       "3 - Moderate health; moderate signs of afflicti...      210          28   \n",
       "4 - Poor health; appears heavily afflicted or s...       46           7   \n",
       "5 - Poor health; probable imminent mortality              5           0   \n",
       "\n",
       "                                                    InsectInfe  LeafDiebac  \\\n",
       "HealthRank                                                                   \n",
       "1 - Plant healthy; no apparent afflictions or s...           0           0   \n",
       "2 - Plant healthy; minor signs of affliction or...           0           4   \n",
       "3 - Moderate health; moderate signs of afflicti...           0          22   \n",
       "4 - Poor health; appears heavily afflicted or s...           0           9   \n",
       "5 - Poor health; probable imminent mortality                 0           2   \n",
       "\n",
       "                                                    LeafSpots  LeavesChlo  \\\n",
       "HealthRank                                                                  \n",
       "1 - Plant healthy; no apparent afflictions or s...          0           1   \n",
       "2 - Plant healthy; minor signs of affliction or...         10           5   \n",
       "3 - Moderate health; moderate signs of afflicti...         71           7   \n",
       "4 - Poor health; appears heavily afflicted or s...         21           2   \n",
       "5 - Poor health; probable imminent mortality                1           0   \n",
       "\n",
       "                                                    MainStmDeR  Missing  \\\n",
       "HealthRank                                                                \n",
       "1 - Plant healthy; no apparent afflictions or s...           1        0   \n",
       "2 - Plant healthy; minor signs of affliction or...           4        0   \n",
       "3 - Moderate health; moderate signs of afflicti...           3        0   \n",
       "4 - Poor health; appears heavily afflicted or s...           4        0   \n",
       "5 - Poor health; probable imminent mortality                 2        0   \n",
       "\n",
       "                                                    OBJECTID  Oozing  \\\n",
       "HealthRank                                                             \n",
       "1 - Plant healthy; no apparent afflictions or s...        10       0   \n",
       "2 - Plant healthy; minor signs of affliction or...       133       0   \n",
       "3 - Moderate health; moderate signs of afflicti...       210       0   \n",
       "4 - Poor health; appears heavily afflicted or s...        46       0   \n",
       "5 - Poor health; probable imminent mortality               5       0   \n",
       "\n",
       "                                                    PlantStunt  PlotCntrMv  \\\n",
       "HealthRank                                                                   \n",
       "1 - Plant healthy; no apparent afflictions or s...           0           0   \n",
       "2 - Plant healthy; minor signs of affliction or...          55           0   \n",
       "3 - Moderate health; moderate signs of afflicti...         108           0   \n",
       "4 - Poor health; appears heavily afflicted or s...          37           0   \n",
       "5 - Poor health; probable imminent mortality                 1           0   \n",
       "\n",
       "                                                    PlotDmnsnC  PlotID  \\\n",
       "HealthRank                                                               \n",
       "1 - Plant healthy; no apparent afflictions or s...           0      10   \n",
       "2 - Plant healthy; minor signs of affliction or...           0     133   \n",
       "3 - Moderate health; moderate signs of afflicti...           0     210   \n",
       "4 - Poor health; appears heavily afflicted or s...           0      46   \n",
       "5 - Poor health; probable imminent mortality                 0       5   \n",
       "\n",
       "                                                    PotentialP  PrematureL  \\\n",
       "HealthRank                                                                   \n",
       "1 - Plant healthy; no apparent afflictions or s...           0           0   \n",
       "2 - Plant healthy; minor signs of affliction or...           1           1   \n",
       "3 - Moderate health; moderate signs of afflicti...           2           5   \n",
       "4 - Poor health; appears heavily afflicted or s...           1           4   \n",
       "5 - Poor health; probable imminent mortality                 0           3   \n",
       "\n",
       "                                                    RodentBrow  SHAPE  \\\n",
       "HealthRank                                                              \n",
       "1 - Plant healthy; no apparent afflictions or s...           0     10   \n",
       "2 - Plant healthy; minor signs of affliction or...           2    133   \n",
       "3 - Moderate health; moderate signs of afflicti...           5    210   \n",
       "4 - Poor health; appears heavily afflicted or s...           1     46   \n",
       "5 - Poor health; probable imminent mortality                 0      5   \n",
       "\n",
       "                                                    ShootBranc  StemDiebac  \\\n",
       "HealthRank                                                                   \n",
       "1 - Plant healthy; no apparent afflictions or s...           0           1   \n",
       "2 - Plant healthy; minor signs of affliction or...          27          10   \n",
       "3 - Moderate health; moderate signs of afflicti...         103          47   \n",
       "4 - Poor health; appears heavily afflicted or s...          39          24   \n",
       "5 - Poor health; probable imminent mortality                 3           5   \n",
       "\n",
       "                                                    SurveyDate  Surveyor1  \\\n",
       "HealthRank                                                                  \n",
       "1 - Plant healthy; no apparent afflictions or s...          10         10   \n",
       "2 - Plant healthy; minor signs of affliction or...         133        133   \n",
       "3 - Moderate health; moderate signs of afflicti...         210        210   \n",
       "4 - Poor health; appears heavily afflicted or s...          46         46   \n",
       "5 - Poor health; probable imminent mortality                 5          5   \n",
       "\n",
       "                                                    Surveyor2  TreeHeight  \\\n",
       "HealthRank                                                                  \n",
       "1 - Plant healthy; no apparent afflictions or s...          9          10   \n",
       "2 - Plant healthy; minor signs of affliction or...        109         133   \n",
       "3 - Moderate health; moderate signs of afflicti...        147         210   \n",
       "4 - Poor health; appears heavily afflicted or s...         37          46   \n",
       "5 - Poor health; probable imminent mortality                2           5   \n",
       "\n",
       "                                                    TreeShelte  TreeSpecie  \\\n",
       "HealthRank                                                                   \n",
       "1 - Plant healthy; no apparent afflictions or s...          10          10   \n",
       "2 - Plant healthy; minor signs of affliction or...         133         133   \n",
       "3 - Moderate health; moderate signs of afflicti...         209         210   \n",
       "4 - Poor health; appears heavily afflicted or s...          46          46   \n",
       "5 - Poor health; probable imminent mortality                 5           5   \n",
       "\n",
       "                                                    Wilting  \n",
       "HealthRank                                                   \n",
       "1 - Plant healthy; no apparent afflictions or s...        0  \n",
       "2 - Plant healthy; minor signs of affliction or...        1  \n",
       "3 - Moderate health; moderate signs of afflicti...        6  \n",
       "4 - Poor health; appears heavily afflicted or s...        1  \n",
       "5 - Poor health; probable imminent mortality              0  "
      ]
     },
     "execution_count": 5,
     "metadata": {
     },
     "output_type": "execute_result"
    }
   ],
   "source": [
    "oakhab.groupby('HealthRank').count()"
   ]
  },
  {
   "cell_type": "code",
   "execution_count": 13,
   "metadata": {
    "collapsed": false
   },
   "outputs": [
    {
     "data": {
      "text/plain": [
       "Moderate    189\n",
       "Heavy       138\n",
       "Light        45\n",
       "Name: DeerBrow, dtype: int64"
      ]
     },
     "execution_count": 13,
     "metadata": {
     },
     "output_type": "execute_result"
    }
   ],
   "source": [
    "alive.DeerBrow.value_counts()"
   ]
  },
  {
   "cell_type": "code",
   "execution_count": 16,
   "metadata": {
    "collapsed": false
   },
   "outputs": [
    {
     "data": {
      "text/plain": [
       "Yes    201\n",
       "Name: PlantStunt, dtype: int64"
      ]
     },
     "execution_count": 16,
     "metadata": {
     },
     "output_type": "execute_result"
    }
   ],
   "source": [
    "alive.PlantStunt.value_counts()"
   ]
  },
  {
   "cell_type": "code",
   "execution_count": 19,
   "metadata": {
    "collapsed": false
   },
   "outputs": [
   ],
   "source": [
    "alivebrow = alive[alive.DeerBrow.notnull()]"
   ]
  },
  {
   "cell_type": "code",
   "execution_count": 21,
   "metadata": {
    "collapsed": false
   },
   "outputs": [
    {
     "data": {
      "text/plain": [
       "(372, 44)"
      ]
     },
     "execution_count": 21,
     "metadata": {
     },
     "output_type": "execute_result"
    }
   ],
   "source": [
    "alivebrow.shape"
   ]
  },
  {
   "cell_type": "code",
   "execution_count": 22,
   "metadata": {
    "collapsed": false
   },
   "outputs": [
    {
     "data": {
      "text/plain": [
       "Yes    198\n",
       "Name: PlantStunt, dtype: int64"
      ]
     },
     "execution_count": 22,
     "metadata": {
     },
     "output_type": "execute_result"
    }
   ],
   "source": [
    "alivebrow.PlantStunt.value_counts()"
   ]
  },
  {
   "cell_type": "code",
   "execution_count": 23,
   "metadata": {
    "collapsed": false
   },
   "outputs": [
    {
     "data": {
      "text/plain": [
       "0.532258064516129"
      ]
     },
     "execution_count": 23,
     "metadata": {
     },
     "output_type": "execute_result"
    }
   ],
   "source": [
    "198/372"
   ]
  },
  {
   "cell_type": "code",
   "execution_count": 27,
   "metadata": {
    "collapsed": false
   },
   "outputs": [
    {
     "data": {
      "text/plain": [
       "3 - Moderate health; moderate signs of affliction or stress    210\n",
       "2 - Plant healthy; minor signs of affliction or stress         133\n",
       "4 - Poor health; appears heavily afflicted or stressed          46\n",
       "1 - Plant healthy; no apparent afflictions or stress            10\n",
       "5 - Poor health; probable imminent mortality                     5\n",
       "Name: HealthRank, dtype: int64"
      ]
     },
     "execution_count": 27,
     "metadata": {
     },
     "output_type": "execute_result"
    }
   ],
   "source": [
    "alive.HealthRank.value_counts()"
   ]
  },
  {
   "cell_type": "code",
   "execution_count": 28,
   "metadata": {
    "collapsed": false
   },
   "outputs": [
    {
     "data": {
      "text/plain": [
       "3 - Moderate health; moderate signs of affliction or stress    210\n",
       "2 - Plant healthy; minor signs of affliction or stress         133\n",
       "4 - Poor health; appears heavily afflicted or stressed          46\n",
       "1 - Plant healthy; no apparent afflictions or stress            10\n",
       "5 - Poor health; probable imminent mortality                     5\n",
       "Name: HealthRank, dtype: int64"
      ]
     },
     "execution_count": 28,
     "metadata": {
     },
     "output_type": "execute_result"
    }
   ],
   "source": [
    "oakhab.HealthRank.value_counts()"
   ]
  },
  {
   "cell_type": "code",
   "execution_count": 5,
   "metadata": {
    "collapsed": false
   },
   "outputs": [
   ],
   "source": [
    "oakrip = oakhab[oakhab.Habitat == 'Oak Riparian']\n",
    "oakwood = oakhab[oakhab.Habitat == 'Oak Woodland']\n",
    "oaksav = oakhab[oakhab.Habitat == 'Oak Savannah']"
   ]
  },
  {
   "cell_type": "code",
   "execution_count": 6,
   "metadata": {
    "collapsed": false
   },
   "outputs": [
    {
     "data": {
      "text/plain": [
       "2 - Plant healthy; minor signs of affliction or stress         35\n",
       "3 - Moderate health; moderate signs of affliction or stress    30\n",
       "4 - Poor health; appears heavily afflicted or stressed          3\n",
       "1 - Plant healthy; no apparent afflictions or stress            2\n",
       "5 - Poor health; probable imminent mortality                    1\n",
       "Name: HealthRank, dtype: int64"
      ]
     },
     "execution_count": 6,
     "metadata": {
     },
     "output_type": "execute_result"
    }
   ],
   "source": [
    "oakrip.HealthRank.value_counts()"
   ]
  },
  {
   "cell_type": "code",
   "execution_count": 7,
   "metadata": {
    "collapsed": false
   },
   "outputs": [
    {
     "data": {
      "text/plain": [
       "3 - Moderate health; moderate signs of affliction or stress    141\n",
       "2 - Plant healthy; minor signs of affliction or stress          78\n",
       "4 - Poor health; appears heavily afflicted or stressed          29\n",
       "1 - Plant healthy; no apparent afflictions or stress             5\n",
       "5 - Poor health; probable imminent mortality                     3\n",
       "Name: HealthRank, dtype: int64"
      ]
     },
     "execution_count": 7,
     "metadata": {
     },
     "output_type": "execute_result"
    }
   ],
   "source": [
    "oakwood.HealthRank.value_counts()"
   ]
  },
  {
   "cell_type": "code",
   "execution_count": 8,
   "metadata": {
    "collapsed": false
   },
   "outputs": [
    {
     "data": {
      "text/plain": [
       "3 - Moderate health; moderate signs of affliction or stress    39\n",
       "2 - Plant healthy; minor signs of affliction or stress         20\n",
       "4 - Poor health; appears heavily afflicted or stressed         14\n",
       "1 - Plant healthy; no apparent afflictions or stress            3\n",
       "5 - Poor health; probable imminent mortality                    1\n",
       "Name: HealthRank, dtype: int64"
      ]
     },
     "execution_count": 8,
     "metadata": {
     },
     "output_type": "execute_result"
    }
   ],
   "source": [
    "oaksav.HealthRank.value_counts()"
   ]
  },
  {
   "cell_type": "code",
   "execution_count": 9,
   "metadata": {
    "collapsed": false
   },
   "outputs": [
    {
     "data": {
      "text/plain": [
       "71"
      ]
     },
     "execution_count": 9,
     "metadata": {
     },
     "output_type": "execute_result"
    }
   ],
   "source": [
    "oakrip.HealthRank.value_counts().sum()"
   ]
  },
  {
   "cell_type": "code",
   "execution_count": 10,
   "metadata": {
    "collapsed": false
   },
   "outputs": [
    {
     "data": {
      "text/plain": [
       "256"
      ]
     },
     "execution_count": 10,
     "metadata": {
     },
     "output_type": "execute_result"
    }
   ],
   "source": [
    "oakwood.HealthRank.value_counts().sum()"
   ]
  },
  {
   "cell_type": "code",
   "execution_count": 11,
   "metadata": {
    "collapsed": false
   },
   "outputs": [
    {
     "data": {
      "text/plain": [
       "77"
      ]
     },
     "execution_count": 11,
     "metadata": {
     },
     "output_type": "execute_result"
    }
   ],
   "source": [
    "oaksav.HealthRank.value_counts().sum()"
   ]
  },
  {
   "cell_type": "code",
   "execution_count": 0,
   "metadata": {
    "collapsed": false
   },
   "outputs": [
   ],
   "source": [
   ]
  }
 ],
 "metadata": {
  "kernelspec": {
   "display_name": "Python 3 (system-wide)",
   "language": "python",
   "metadata": {
    "cocalc": {
     "description": "Python 3 programming language",
     "priority": 100,
     "url": "https://www.python.org/"
    }
   },
   "name": "python3",
   "resource_dir": "/ext/jupyter/kernels/python3"
  },
  "language_info": {
   "codemirror_mode": {
    "name": "ipython",
    "version": 3
   },
   "file_extension": ".py",
   "mimetype": "text/x-python",
   "name": "python",
   "nbconvert_exporter": "python",
   "pygments_lexer": "ipython3",
   "version": "3.8.2"
  }
 },
 "nbformat": 4,
 "nbformat_minor": 4
}