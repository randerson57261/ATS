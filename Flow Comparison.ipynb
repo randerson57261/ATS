{
 "cells": [
  {
   "cell_type": "code",
   "execution_count": 108,
   "metadata": {
    "collapsed": false
   },
   "outputs": [
   ],
   "source": [
    "import pandas as pd\n",
    "import hydrofunctions as hf\n",
    "import matplotlib.pyplot as plt\n",
    "import numpy as np\n",
    "%matplotlib inline"
   ]
  },
  {
   "cell_type": "code",
   "execution_count": 109,
   "metadata": {
    "collapsed": false
   },
   "outputs": [
    {
     "name": "stdout",
     "output_type": "stream",
     "text": [
      "IV:\n",
      " True\n",
      "200\n",
      "\n",
      "DV:\n",
      " True\n",
      "200\n"
     ]
    }
   ],
   "source": [
    "AH_ID = '11173200' #Arroyo Hondo USGS station ID\n",
    "start = '2018-12-01'\n",
    "end = '2019-5-01'\n",
    "\n",
    "#Get response object\n",
    "responseIV = hf.get_nwis(AH_ID,'iv', start, end)\n",
    "responseDV = hf.get_nwis(AH_ID,'dv', start, end)\n",
    "\n",
    "\n",
    "#Check Respone\n",
    "print('IV:\\n',responseIV.ok)\n",
    "print(responseIV.status_code)\n",
    "\n",
    "print('\\nDV:\\n',responseDV.ok)\n",
    "print(responseDV.status_code)"
   ]
  },
  {
   "cell_type": "code",
   "execution_count": 110,
   "metadata": {
    "collapsed": false
   },
   "outputs": [
   ],
   "source": [
    "#Convert to json\n",
    "data_jsonIV = responseIV.json()\n",
    "data_jsonDV = responseDV.json()"
   ]
  },
  {
   "cell_type": "code",
   "execution_count": 121,
   "metadata": {
    "collapsed": false
   },
   "outputs": [
   ],
   "source": [
    "#convert to pandas dataframe, rename columns, turn time index into normal column\n",
    "data_2019_IV = hf.extract_nwis_df(data_jsonIV)\n",
    "data_2019_IV.index = pd.to_datetime(data_2019_IV.index, utc=True)\n",
    "data_2019_IV = data_2019_IV.resample('W').mean()\n",
    "data_2019_IV = data_2019_IV.rename(index=lambda x: x.timetuple().tm_yday)\n",
    "data_2019_IV.columns = ['iv_flow']\n",
    "\n",
    "data_2019_DV = hf.extract_nwis_df(data_jsonDV)\n",
    "data_2019_DV = data_2019_DV.rename(index=lambda x: x.strftime('%m%d'))\n",
    "data_2019_DV.columns = ['dv_flow','qualifiers']"
   ]
  },
  {
   "cell_type": "code",
   "execution_count": 122,
   "metadata": {
    "collapsed": false
   },
   "outputs": [
    {
     "data": {
      "text/html": [
       "<div>\n",
       "<style scoped>\n",
       "    .dataframe tbody tr th:only-of-type {\n",
       "        vertical-align: middle;\n",
       "    }\n",
       "\n",
       "    .dataframe tbody tr th {\n",
       "        vertical-align: top;\n",
       "    }\n",
       "\n",
       "    .dataframe thead th {\n",
       "        text-align: right;\n",
       "    }\n",
       "</style>\n",
       "<table border=\"1\" class=\"dataframe\">\n",
       "  <thead>\n",
       "    <tr style=\"text-align: right;\">\n",
       "      <th></th>\n",
       "      <th>iv_flow</th>\n",
       "    </tr>\n",
       "    <tr>\n",
       "      <th>datetime</th>\n",
       "      <th></th>\n",
       "    </tr>\n",
       "  </thead>\n",
       "  <tbody>\n",
       "    <tr>\n",
       "      <th>336</th>\n",
       "      <td>38.560625</td>\n",
       "    </tr>\n",
       "    <tr>\n",
       "      <th>343</th>\n",
       "      <td>12.494613</td>\n",
       "    </tr>\n",
       "    <tr>\n",
       "      <th>350</th>\n",
       "      <td>7.473065</td>\n",
       "    </tr>\n",
       "    <tr>\n",
       "      <th>357</th>\n",
       "      <td>19.861116</td>\n",
       "    </tr>\n",
       "    <tr>\n",
       "      <th>364</th>\n",
       "      <td>26.908631</td>\n",
       "    </tr>\n",
       "    <tr>\n",
       "      <th>6</th>\n",
       "      <td>9.697054</td>\n",
       "    </tr>\n",
       "    <tr>\n",
       "      <th>13</th>\n",
       "      <td>75.794048</td>\n",
       "    </tr>\n",
       "    <tr>\n",
       "      <th>20</th>\n",
       "      <td>362.458631</td>\n",
       "    </tr>\n",
       "    <tr>\n",
       "      <th>27</th>\n",
       "      <td>89.513988</td>\n",
       "    </tr>\n",
       "    <tr>\n",
       "      <th>34</th>\n",
       "      <td>176.062500</td>\n",
       "    </tr>\n",
       "    <tr>\n",
       "      <th>41</th>\n",
       "      <td>515.970238</td>\n",
       "    </tr>\n",
       "    <tr>\n",
       "      <th>48</th>\n",
       "      <td>769.956845</td>\n",
       "    </tr>\n",
       "    <tr>\n",
       "      <th>55</th>\n",
       "      <td>248.348214</td>\n",
       "    </tr>\n",
       "    <tr>\n",
       "      <th>62</th>\n",
       "      <td>155.426042</td>\n",
       "    </tr>\n",
       "    <tr>\n",
       "      <th>69</th>\n",
       "      <td>317.742560</td>\n",
       "    </tr>\n",
       "    <tr>\n",
       "      <th>76</th>\n",
       "      <td>175.120536</td>\n",
       "    </tr>\n",
       "    <tr>\n",
       "      <th>83</th>\n",
       "      <td>80.986161</td>\n",
       "    </tr>\n",
       "    <tr>\n",
       "      <th>90</th>\n",
       "      <td>93.159375</td>\n",
       "    </tr>\n",
       "    <tr>\n",
       "      <th>97</th>\n",
       "      <td>66.721429</td>\n",
       "    </tr>\n",
       "    <tr>\n",
       "      <th>104</th>\n",
       "      <td>44.274702</td>\n",
       "    </tr>\n",
       "    <tr>\n",
       "      <th>111</th>\n",
       "      <td>33.414732</td>\n",
       "    </tr>\n",
       "    <tr>\n",
       "      <th>118</th>\n",
       "      <td>23.848363</td>\n",
       "    </tr>\n",
       "    <tr>\n",
       "      <th>125</th>\n",
       "      <td>19.928165</td>\n",
       "    </tr>\n",
       "  </tbody>\n",
       "</table>\n",
       "</div>"
      ],
      "text/plain": [
       "             iv_flow\n",
       "datetime            \n",
       "336        38.560625\n",
       "343        12.494613\n",
       "350         7.473065\n",
       "357        19.861116\n",
       "364        26.908631\n",
       "6           9.697054\n",
       "13         75.794048\n",
       "20        362.458631\n",
       "27         89.513988\n",
       "34        176.062500\n",
       "41        515.970238\n",
       "48        769.956845\n",
       "55        248.348214\n",
       "62        155.426042\n",
       "69        317.742560\n",
       "76        175.120536\n",
       "83         80.986161\n",
       "90         93.159375\n",
       "97         66.721429\n",
       "104        44.274702\n",
       "111        33.414732\n",
       "118        23.848363\n",
       "125        19.928165"
      ]
     },
     "execution_count": 122,
     "metadata": {
     },
     "output_type": "execute_result"
    }
   ],
   "source": [
    "data_2019_IV"
   ]
  },
  {
   "cell_type": "code",
   "execution_count": 112,
   "metadata": {
    "collapsed": false
   },
   "outputs": [
    {
     "name": "stdout",
     "output_type": "stream",
     "text": [
      "IV:\n",
      " True\n",
      "200\n",
      "\n",
      "DV:\n",
      " True\n",
      "200\n"
     ]
    }
   ],
   "source": [
    "AH_ID = '11173200' #Arroyo Hondo USGS station ID\n",
    "start_2020 = '2019-12-01'\n",
    "end_2020 = '2020-5-01'\n",
    "\n",
    "#Get response object\n",
    "responseIV_2020 = hf.get_nwis(AH_ID,'iv', start_2020, end_2020)\n",
    "responseDV_2020 = hf.get_nwis(AH_ID,'dv', start_2020, end_2020)\n",
    "\n",
    "\n",
    "#Check Respone\n",
    "print('IV:\\n',responseIV.ok)\n",
    "print(responseIV_2020.status_code)\n",
    "\n",
    "print('\\nDV:\\n',responseDV.ok)\n",
    "print(responseDV_2020.status_code)\n",
    "\n",
    "#Convert to json\n",
    "data_2020_jsonIV = responseIV_2020.json()\n",
    "data_2020_jsonDV = responseDV_2020.json()"
   ]
  },
  {
   "cell_type": "code",
   "execution_count": 123,
   "metadata": {
    "collapsed": false
   },
   "outputs": [
   ],
   "source": [
    "#convert to pandas dataframe, rename columns, turn time index into normal column\n",
    "data_2020_IV = hf.extract_nwis_df(data_2020_jsonIV)\n",
    "data_2020_IV.index = pd.to_datetime(data_2020_IV.index, utc=True)\n",
    "data_2020_IV = data_2020_IV.resample('W').mean()\n",
    "data_2020_IV = data_2020_IV.rename(index=lambda x: x.timetuple().tm_yday)\n",
    "data_2020_IV.columns = ['iv_flow']\n",
    "\n",
    "\n",
    "\n",
    "data_2020_DV = hf.extract_nwis_df(data_2020_jsonDV)\n",
    "data_2020_DV = data_2020_DV.rename(index=lambda x: x.strftime('%m%d'))\n",
    "data_2020_DV.columns = ['dv_flow','qualifiers']"
   ]
  },
  {
   "cell_type": "code",
   "execution_count": 124,
   "metadata": {
    "collapsed": false
   },
   "outputs": [
    {
     "name": "stdout",
     "output_type": "stream",
     "text": [
      "IV:\n",
      " True\n",
      "200\n",
      "\n",
      "DV:\n",
      " True\n",
      "200\n"
     ]
    }
   ],
   "source": [
    "AH_ID = '11173200' #Arroyo Hondo USGS station ID\n",
    "start_2018 = '2017-12-01'\n",
    "end_2018 = '2018-5-01'\n",
    "\n",
    "\n",
    "#Get response object\n",
    "responseIV_2018 = hf.get_nwis(AH_ID,'iv', start_2018, end_2018)\n",
    "responseDV_2018 = hf.get_nwis(AH_ID,'dv', start_2018, end_2018)\n",
    "\n",
    "\n",
    "#Check Respone\n",
    "print('IV:\\n',responseIV.ok)\n",
    "print(responseIV_2018.status_code)\n",
    "\n",
    "print('\\nDV:\\n',responseDV.ok)\n",
    "print(responseDV_2018.status_code)\n",
    "\n",
    "#Convert to json\n",
    "data_2018_jsonIV = responseIV_2018.json()\n",
    "data_2018_jsonDV = responseDV_2018.json()\n",
    "\n",
    "\n",
    "data_2018_IV = hf.extract_nwis_df(data_2018_jsonIV)\n",
    "data_2018_IV.index = pd.to_datetime(data_2018_IV.index, utc=True)\n",
    "data_2018_IV = data_2018_IV.resample('W').mean()\n",
    "data_2018_IV = data_2018_IV.rename(index=lambda x: x.timetuple().tm_yday)\n",
    "data_2018_IV.columns = ['iv_flow']\n",
    "\n",
    "\n",
    "data_2018_DV = hf.extract_nwis_df(data_2018_jsonDV)\n",
    "data_2018_DV = data_2018_DV.rename(index=lambda x: x.strftime('%m%d'))\n",
    "data_2018_DV.columns = ['dv_flow','qualifiers']\n"
   ]
  },
  {
   "cell_type": "code",
   "execution_count": 125,
   "metadata": {
    "collapsed": false
   },
   "outputs": [
    {
     "name": "stdout",
     "output_type": "stream",
     "text": [
      "IV:\n",
      " True\n",
      "200\n",
      "\n",
      "DV:\n",
      " True\n",
      "200\n"
     ]
    }
   ],
   "source": [
    "AH_ID = '11173200' #Arroyo Hondo USGS station ID\n",
    "start_2017 = '2016-12-01'\n",
    "end_2017 = '2017-5-01'\n",
    "#Get response object\n",
    "responseIV_2017 = hf.get_nwis(AH_ID,'iv', start_2017, end_2017)\n",
    "responseDV_2017 = hf.get_nwis(AH_ID,'dv', start_2017, end_2017)\n",
    "\n",
    "\n",
    "#Check Respone\n",
    "print('IV:\\n',responseIV.ok)\n",
    "print(responseIV_2017.status_code)\n",
    "\n",
    "print('\\nDV:\\n',responseDV.ok)\n",
    "print(responseDV_2017.status_code)\n",
    "\n",
    "#Convert to json\n",
    "data_2017_jsonIV = responseIV_2017.json()\n",
    "data_2017_jsonDV = responseDV_2017.json()\n",
    "\n",
    "#convert to pandas dataframe, rename columns, turn time index into normal column\n",
    "data_2017_IV = hf.extract_nwis_df(data_2017_jsonIV)\n",
    "data_2017_IV.index = pd.to_datetime(data_2017_IV.index, utc=True)\n",
    "data_2017_IV = data_2017_IV.resample('W').mean()\n",
    "data_2017_IV = data_2017_IV.rename(index=lambda x: x.timetuple().tm_yday)\n",
    "data_2017_IV.columns = ['iv_flow']\n",
    "\n",
    "\n",
    "data_2017_DV = hf.extract_nwis_df(data_2017_jsonDV)\n",
    "data_2017_DV = data_2017_DV.rename(index=lambda x: x.strftime('%m%d'))\n",
    "data_2017_DV.columns = ['dv_flow','qualifiers']\n"
   ]
  },
  {
   "cell_type": "code",
   "execution_count": 203,
   "metadata": {
    "collapsed": false
   },
   "outputs": [
    {
     "data": {
      "text/plain": [
       "(0, 1000)"
      ]
     },
     "execution_count": 203,
     "metadata": {
     },
     "output_type": "execute_result"
    },
    {
     "data": {
      "image/png": "[encoded data removed]",
      "text/plain": "<Figure size 2520x720 with 1 Axes>"
     },
     "metadata": {
      "image/png": {
       "height": 601,
       "width": 2016
      }
     },
     "output_type": "execute_result"
    }
   ],
   "source": [
    "#Plot figure\n",
    "plt.figure(figsize=(35,10))\n",
    "plt.plot(data_2017_IV.sort_values(by='datetime'), color='b', label='2017', marker='o')\n",
    "plt.plot(data_2018_IV.sort_values(by='datetime'), color='black', label='2018', marker='^')\n",
    "plt.plot(data_2019_IV.sort_values(by='datetime'), color='r', label='2019', marker='s')\n",
    "plt.plot(data_2020_IV.sort_values(by='datetime'), color='g', label='2020', marker='d')\n",
    "\n",
    "plt.title('Arroyo Hondo Instantaneous Flow')\n",
    "plt.ylabel('Instantaneous Flow ($ft^3$/s)')\n",
    "plt.xticks(rotation='vertical')\n",
    "plt.xticks(np.arange(0,365,7))\n",
    "\n",
    "plt.xticks(np.linspace(0,365,13)[:-1], ('Jan', 'Feb', 'Mar', 'Apr','May', 'Jun', 'Jul', 'Aug', 'Sep', 'Oct', 'Nov', 'Dec'))\n",
    "\n",
    "survey_date_2017 = plt.axvline(x=105, linewidth=4, color='blue', ls='--')\n",
    "survey_date_2018 = plt.axvline(x=78, linewidth=4, color='black', ls='--')\n",
    "survey_date_2019 = plt.axvline(x=111, linewidth=4, color='r', ls='--')\n",
    "\n",
    "plt.annotate('Fish Passage Survey Dates', xy =(70,500), fontsize=20)\n",
    "\n",
    "plt.legend()\n",
    "plt.ylim((0, 1000))\n"
   ]
  },
  {
   "cell_type": "code",
   "execution_count": 169,
   "metadata": {
    "collapsed": false
   },
   "outputs": [
    {
     "data": {
      "text/html": [
       "<div>\n",
       "<style scoped>\n",
       "    .dataframe tbody tr th:only-of-type {\n",
       "        vertical-align: middle;\n",
       "    }\n",
       "\n",
       "    .dataframe tbody tr th {\n",
       "        vertical-align: top;\n",
       "    }\n",
       "\n",
       "    .dataframe thead th {\n",
       "        text-align: right;\n",
       "    }\n",
       "</style>\n",
       "<table border=\"1\" class=\"dataframe\">\n",
       "  <thead>\n",
       "    <tr style=\"text-align: right;\">\n",
       "      <th></th>\n",
       "      <th>iv_flow</th>\n",
       "    </tr>\n",
       "    <tr>\n",
       "      <th>datetime</th>\n",
       "      <th></th>\n",
       "    </tr>\n",
       "  </thead>\n",
       "  <tbody>\n",
       "    <tr>\n",
       "      <th>5</th>\n",
       "      <td>10.177351</td>\n",
       "    </tr>\n",
       "    <tr>\n",
       "      <th>12</th>\n",
       "      <td>8.326905</td>\n",
       "    </tr>\n",
       "    <tr>\n",
       "      <th>19</th>\n",
       "      <td>23.825580</td>\n",
       "    </tr>\n",
       "    <tr>\n",
       "      <th>26</th>\n",
       "      <td>23.202381</td>\n",
       "    </tr>\n",
       "    <tr>\n",
       "      <th>33</th>\n",
       "      <td>11.819182</td>\n",
       "    </tr>\n",
       "    <tr>\n",
       "      <th>40</th>\n",
       "      <td>8.881503</td>\n",
       "    </tr>\n",
       "    <tr>\n",
       "      <th>335</th>\n",
       "      <td>1.696250</td>\n",
       "    </tr>\n",
       "    <tr>\n",
       "      <th>342</th>\n",
       "      <td>18.867798</td>\n",
       "    </tr>\n",
       "    <tr>\n",
       "      <th>349</th>\n",
       "      <td>29.878318</td>\n",
       "    </tr>\n",
       "    <tr>\n",
       "      <th>356</th>\n",
       "      <td>13.186443</td>\n",
       "    </tr>\n",
       "    <tr>\n",
       "      <th>363</th>\n",
       "      <td>17.598363</td>\n",
       "    </tr>\n",
       "  </tbody>\n",
       "</table>\n",
       "</div>"
      ],
      "text/plain": [
       "            iv_flow\n",
       "datetime           \n",
       "5         10.177351\n",
       "12         8.326905\n",
       "19        23.825580\n",
       "26        23.202381\n",
       "33        11.819182\n",
       "40         8.881503\n",
       "335        1.696250\n",
       "342       18.867798\n",
       "349       29.878318\n",
       "356       13.186443\n",
       "363       17.598363"
      ]
     },
     "execution_count": 169,
     "metadata": {
     },
     "output_type": "execute_result"
    }
   ],
   "source": [
    "data_2020_IV.sort_values(by='datetime')"
   ]
  },
  {
   "cell_type": "code",
   "execution_count": 61,
   "metadata": {
    "collapsed": false
   },
   "outputs": [
    {
     "ename": "TypeError",
     "evalue": "Only valid with DatetimeIndex, TimedeltaIndex or PeriodIndex, but got an instance of 'Index'",
     "output_type": "error",
     "traceback": [
      "\u001b[0;31m---------------------------------------------------------------------------\u001b[0m",
      "\u001b[0;31mTypeError\u001b[0m                                 Traceback (most recent call last)",
      "\u001b[0;32m<ipython-input-61-14c1a408159e>\u001b[0m in \u001b[0;36m<module>\u001b[0;34m\u001b[0m\n\u001b[0;32m----> 1\u001b[0;31m \u001b[0mdata_2017_IV\u001b[0m\u001b[0;34m.\u001b[0m\u001b[0miv_flow\u001b[0m\u001b[0;34m.\u001b[0m\u001b[0mresample\u001b[0m\u001b[0;34m(\u001b[0m\u001b[0;34m'W'\u001b[0m\u001b[0;34m)\u001b[0m\u001b[0;34m.\u001b[0m\u001b[0mmean\u001b[0m\u001b[0;34m(\u001b[0m\u001b[0;34m)\u001b[0m\u001b[0;34m\u001b[0m\u001b[0;34m\u001b[0m\u001b[0m\n\u001b[0m",
      "\u001b[0;32m/usr/local/lib/python3.6/dist-packages/pandas/core/generic.py\u001b[0m in \u001b[0;36mresample\u001b[0;34m(self, rule, how, axis, fill_method, closed, label, convention, kind, loffset, limit, base, on, level)\u001b[0m\n\u001b[1;32m   8447\u001b[0m             \u001b[0mbase\u001b[0m\u001b[0;34m=\u001b[0m\u001b[0mbase\u001b[0m\u001b[0;34m,\u001b[0m\u001b[0;34m\u001b[0m\u001b[0;34m\u001b[0m\u001b[0m\n\u001b[1;32m   8448\u001b[0m             \u001b[0mkey\u001b[0m\u001b[0;34m=\u001b[0m\u001b[0mon\u001b[0m\u001b[0;34m,\u001b[0m\u001b[0;34m\u001b[0m\u001b[0;34m\u001b[0m\u001b[0m\n\u001b[0;32m-> 8449\u001b[0;31m             \u001b[0mlevel\u001b[0m\u001b[0;34m=\u001b[0m\u001b[0mlevel\u001b[0m\u001b[0;34m,\u001b[0m\u001b[0;34m\u001b[0m\u001b[0;34m\u001b[0m\u001b[0m\n\u001b[0m\u001b[1;32m   8450\u001b[0m         )\n\u001b[1;32m   8451\u001b[0m         return _maybe_process_deprecations(\n",
      "\u001b[0;32m/usr/local/lib/python3.6/dist-packages/pandas/core/resample.py\u001b[0m in \u001b[0;36mresample\u001b[0;34m(obj, kind, **kwds)\u001b[0m\n\u001b[1;32m   1304\u001b[0m     \"\"\"\n\u001b[1;32m   1305\u001b[0m     \u001b[0mtg\u001b[0m \u001b[0;34m=\u001b[0m \u001b[0mTimeGrouper\u001b[0m\u001b[0;34m(\u001b[0m\u001b[0;34m**\u001b[0m\u001b[0mkwds\u001b[0m\u001b[0;34m)\u001b[0m\u001b[0;34m\u001b[0m\u001b[0;34m\u001b[0m\u001b[0m\n\u001b[0;32m-> 1306\u001b[0;31m     \u001b[0;32mreturn\u001b[0m \u001b[0mtg\u001b[0m\u001b[0;34m.\u001b[0m\u001b[0m_get_resampler\u001b[0m\u001b[0;34m(\u001b[0m\u001b[0mobj\u001b[0m\u001b[0;34m,\u001b[0m \u001b[0mkind\u001b[0m\u001b[0;34m=\u001b[0m\u001b[0mkind\u001b[0m\u001b[0;34m)\u001b[0m\u001b[0;34m\u001b[0m\u001b[0;34m\u001b[0m\u001b[0m\n\u001b[0m\u001b[1;32m   1307\u001b[0m \u001b[0;34m\u001b[0m\u001b[0m\n\u001b[1;32m   1308\u001b[0m \u001b[0;34m\u001b[0m\u001b[0m\n",
      "\u001b[0;32m/usr/local/lib/python3.6/dist-packages/pandas/core/resample.py\u001b[0m in \u001b[0;36m_get_resampler\u001b[0;34m(self, obj, kind)\u001b[0m\n\u001b[1;32m   1441\u001b[0m             \u001b[0;34m\"Only valid with DatetimeIndex, \"\u001b[0m\u001b[0;34m\u001b[0m\u001b[0;34m\u001b[0m\u001b[0m\n\u001b[1;32m   1442\u001b[0m             \u001b[0;34m\"TimedeltaIndex or PeriodIndex, \"\u001b[0m\u001b[0;34m\u001b[0m\u001b[0;34m\u001b[0m\u001b[0m\n\u001b[0;32m-> 1443\u001b[0;31m             \u001b[0;34m\"but got an instance of %r\"\u001b[0m \u001b[0;34m%\u001b[0m \u001b[0mtype\u001b[0m\u001b[0;34m(\u001b[0m\u001b[0max\u001b[0m\u001b[0;34m)\u001b[0m\u001b[0;34m.\u001b[0m\u001b[0m__name__\u001b[0m\u001b[0;34m\u001b[0m\u001b[0;34m\u001b[0m\u001b[0m\n\u001b[0m\u001b[1;32m   1444\u001b[0m         )\n\u001b[1;32m   1445\u001b[0m \u001b[0;34m\u001b[0m\u001b[0m\n",
      "\u001b[0;31mTypeError\u001b[0m: Only valid with DatetimeIndex, TimedeltaIndex or PeriodIndex, but got an instance of 'Index'"
     ]
    }
   ],
   "source": [
   ]
  },
  {
   "cell_type": "code",
   "execution_count": 0,
   "metadata": {
    "collapsed": false
   },
   "outputs": [
   ],
   "source": [
   ]
  }
 ],
 "metadata": {
  "kernelspec": {
   "display_name": "Python 3 (system-wide)",
   "language": "python",
   "metadata": {
    "cocalc": {
     "description": "Python 3 programming language",
     "priority": 100,
     "url": "https://www.python.org/"
    }
   },
   "name": "python3"
  },
  "language_info": {
   "codemirror_mode": {
    "name": "ipython",
    "version": 3
   },
   "file_extension": ".py",
   "mimetype": "text/x-python",
   "name": "python",
   "nbconvert_exporter": "python",
   "pygments_lexer": "ipython3",
   "version": "3.8.2"
  }
 },
 "nbformat": 4,
 "nbformat_minor": 4
}