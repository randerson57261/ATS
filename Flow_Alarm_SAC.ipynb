{
 "cells": [
  {
   "cell_type": "code",
   "execution_count": 2,
   "metadata": {
    "collapsed": false
   },
   "outputs": [],
   "source": [
    "import pandas as pd\n",
    "import hydrofunctions as hf\n",
    "import matplotlib.pyplot as plt\n",
    "from slacker import Slacker\n",
    "%matplotlib inline"
   ]
  },
  {
   "cell_type": "code",
   "execution_count": 3,
   "metadata": {
    "collapsed": false
   },
   "outputs": [],
   "source": [
    "#Slack API token\n",
    "slack = Slacker('xxxxx')"
   ]
  },
  {
   "cell_type": "code",
   "execution_count": 12,
   "metadata": {
    "collapsed": false
   },
   "outputs": [
    {
     "name": "stdout",
     "output_type": "stream",
     "text": [
      "IV:\n",
      " True\n",
      "200\n",
      "\n",
      "DV:\n",
      " True\n",
      "200\n"
     ]
    }
   ],
   "source": [
    "SAC_ID = '373507121472101' #SAC near Indian Creek USGS Station ID\n",
    "start = '2019-05-01'\n",
    "end = '2019-06-01'\n",
    "\n",
    "#Get response object\n",
    "response = hf.get_nwis(SAC_ID,'iv', start, end)\n",
    "responseDV = hf.get_nwis(SAC_ID,'dv', start, end)\n",
    "\n",
    "#Check Respone\n",
    "print('IV:\\n',response.ok)\n",
    "print(response.status_code)\n",
    "\n",
    "print('\\nDV:\\n',responseDV.ok)\n",
    "print(responseDV.status_code)\n",
    "\n",
    "#Convert to json\n",
    "data_json = response.json()\n",
    "data_jsonDV = responseDV.json()\n",
    "\n",
    "#convert to pandas dataframe, rename columns, turn time index into normal column\n",
    "data = hf.extract_nwis_df(data_json)\n",
    "data.columns = ['i_flow','qualifiers']\n",
    "data.reset_index(level=0, inplace=True)\n",
    "data['datetime'] = pd.to_datetime(data['datetime'])\n",
    "data['datetime']=data['datetime'].dt.tz_localize(None)\n",
    "\n",
    "dataDV = hf.extract_nwis_df(data_jsonDV)\n",
    "dataDV.columns = ['dv_flow','qualifiers']"
   ]
  },
  {
   "cell_type": "code",
   "execution_count": 21,
   "metadata": {
    "collapsed": false
   },
   "outputs": [
    {
     "name": "stdout",
     "output_type": "stream",
     "text": [
      "IV:\n",
      " True\n",
      "200\n",
      "\n",
      "DV:\n",
      " True\n",
      "200\n"
     ]
    },
    {
     "data": {
      "text/html": [
       "<div>\n",
       "<style scoped>\n",
       "    .dataframe tbody tr th:only-of-type {\n",
       "        vertical-align: middle;\n",
       "    }\n",
       "\n",
       "    .dataframe tbody tr th {\n",
       "        vertical-align: top;\n",
       "    }\n",
       "\n",
       "    .dataframe thead th {\n",
       "        text-align: right;\n",
       "    }\n",
       "</style>\n",
       "<table border=\"1\" class=\"dataframe\">\n",
       "  <thead>\n",
       "    <tr style=\"text-align: right;\">\n",
       "      <th></th>\n",
       "      <th>datetime</th>\n",
       "      <th>iv_flow</th>\n",
       "      <th>qualifiers</th>\n",
       "    </tr>\n",
       "  </thead>\n",
       "  <tbody>\n",
       "    <tr>\n",
       "      <td>0</td>\n",
       "      <td>2019-05-01 00:00:00</td>\n",
       "      <td>20.5</td>\n",
       "      <td>P</td>\n",
       "    </tr>\n",
       "    <tr>\n",
       "      <td>1</td>\n",
       "      <td>2019-05-01 00:15:00</td>\n",
       "      <td>20.5</td>\n",
       "      <td>P</td>\n",
       "    </tr>\n",
       "    <tr>\n",
       "      <td>2</td>\n",
       "      <td>2019-05-01 00:30:00</td>\n",
       "      <td>20.5</td>\n",
       "      <td>P</td>\n",
       "    </tr>\n",
       "    <tr>\n",
       "      <td>3</td>\n",
       "      <td>2019-05-01 00:45:00</td>\n",
       "      <td>20.5</td>\n",
       "      <td>P</td>\n",
       "    </tr>\n",
       "    <tr>\n",
       "      <td>4</td>\n",
       "      <td>2019-05-01 01:00:00</td>\n",
       "      <td>20.5</td>\n",
       "      <td>P</td>\n",
       "    </tr>\n",
       "    <tr>\n",
       "      <td>...</td>\n",
       "      <td>...</td>\n",
       "      <td>...</td>\n",
       "      <td>...</td>\n",
       "    </tr>\n",
       "    <tr>\n",
       "      <td>3067</td>\n",
       "      <td>2019-06-01 22:45:00</td>\n",
       "      <td>17.8</td>\n",
       "      <td>P</td>\n",
       "    </tr>\n",
       "    <tr>\n",
       "      <td>3068</td>\n",
       "      <td>2019-06-01 23:00:00</td>\n",
       "      <td>18.3</td>\n",
       "      <td>P</td>\n",
       "    </tr>\n",
       "    <tr>\n",
       "      <td>3069</td>\n",
       "      <td>2019-06-01 23:15:00</td>\n",
       "      <td>17.8</td>\n",
       "      <td>P</td>\n",
       "    </tr>\n",
       "    <tr>\n",
       "      <td>3070</td>\n",
       "      <td>2019-06-01 23:30:00</td>\n",
       "      <td>18.3</td>\n",
       "      <td>P</td>\n",
       "    </tr>\n",
       "    <tr>\n",
       "      <td>3071</td>\n",
       "      <td>2019-06-01 23:45:00</td>\n",
       "      <td>17.8</td>\n",
       "      <td>P</td>\n",
       "    </tr>\n",
       "  </tbody>\n",
       "</table>\n",
       "<p>3072 rows × 3 columns</p>\n",
       "</div>"
      ],
      "text/plain": [
       "                datetime  iv_flow qualifiers\n",
       "0    2019-05-01 00:00:00     20.5          P\n",
       "1    2019-05-01 00:15:00     20.5          P\n",
       "2    2019-05-01 00:30:00     20.5          P\n",
       "3    2019-05-01 00:45:00     20.5          P\n",
       "4    2019-05-01 01:00:00     20.5          P\n",
       "...                  ...      ...        ...\n",
       "3067 2019-06-01 22:45:00     17.8          P\n",
       "3068 2019-06-01 23:00:00     18.3          P\n",
       "3069 2019-06-01 23:15:00     17.8          P\n",
       "3070 2019-06-01 23:30:00     18.3          P\n",
       "3071 2019-06-01 23:45:00     17.8          P\n",
       "\n",
       "[3072 rows x 3 columns]"
      ]
     },
     "execution_count": 21,
     "metadata": {},
     "output_type": "execute_result"
    }
   ],
   "source": [
    "AH_ID = '11173200' #Arroyo Hondo USGS station ID\n",
    "start = '2019-05-01'\n",
    "end = '2019-06-01'\n",
    "\n",
    "#Get response object\n",
    "AHresponseIV = hf.get_nwis(AH_ID,'iv', start, end)\n",
    "AHresponseDV = hf.get_nwis(AH_ID,'dv', start, end)\n",
    "\n",
    "#Check Respone\n",
    "print('IV:\\n',AHresponseIV.ok)\n",
    "print(AHresponseIV.status_code)\n",
    "\n",
    "print('\\nDV:\\n',AHresponseDV.ok)\n",
    "print(AHresponseDV.status_code)\n",
    "\n",
    "#Convert to json\n",
    "AH_jsonIV = AHresponseIV.json()\n",
    "AH_jsonDV = AHresponseDV.json()\n",
    "\n",
    "#convert to pandas dataframe, rename columns, turn time index into normal column\n",
    "AH_IV = hf.extract_nwis_df(AH_jsonIV)\n",
    "AH_IV.columns = ['iv_flow','qualifiers']\n",
    "AH_IV.reset_index(level=0, inplace=True)\n",
    "AH_IV['datetime'] = pd.to_datetime(AH_IV['datetime'])\n",
    "AH_IV['datetime']=AH_IV['datetime'].dt.tz_localize(None)\n",
    "\n",
    "AH_DV = hf.extract_nwis_df(AH_jsonDV)\n",
    "AH_DV.columns = ['dv_flow','qualifiers']\n",
    "\n",
    "AH_IV"
   ]
  },
  {
   "cell_type": "code",
   "execution_count": 17,
   "metadata": {
    "collapsed": false
   },
   "outputs": [],
   "source": [
    "## SAC ALARM\n",
    "\n",
    "threshold = 3 #alarm threshold, cfs\n",
    "\n",
    "##Find when exceeded threshold\n",
    "#Find if going above or below threshold while moving forward in time\n",
    "data['changed'] = (data['i_flow'] > threshold).astype(int).diff().fillna(1).astype(int)\n",
    "data.loc[0,'changed'] = 0 #Set first entry to no change\n",
    "\n",
    "TI = pd.DataFrame({\n",
    "     'Begin': data.loc[data.changed ==  1,'datetime'].reset_index(drop=True), \n",
    "     'End': data.loc[data.changed ==  -1,'datetime'].reset_index(drop=True)})\n",
    "\n",
    "#Find duration\n",
    "TI['Duration'] = TI.End - TI.Begin\n",
    "\n",
    "#Calculate max flow during exceeded window\n",
    "def maxflow(x):\n",
    "    return data.loc[(data.datetime >= (x.Begin)) & (data.datetime <= (x.End)) ,'i_flow'].max()\n",
    "\n",
    "TI['Max_Flow'] = TI.apply(maxflow, axis=1)"
   ]
  },
  {
   "cell_type": "code",
   "execution_count": 25,
   "metadata": {
    "collapsed": false
   },
   "outputs": [
    {
     "name": "stdout",
     "output_type": "stream",
     "text": [
      "Exceeded  3 CFS during these intervals:\n"
     ]
    },
    {
     "data": {
      "text/html": [
       "<div>\n",
       "<style scoped>\n",
       "    .dataframe tbody tr th:only-of-type {\n",
       "        vertical-align: middle;\n",
       "    }\n",
       "\n",
       "    .dataframe tbody tr th {\n",
       "        vertical-align: top;\n",
       "    }\n",
       "\n",
       "    .dataframe thead th {\n",
       "        text-align: right;\n",
       "    }\n",
       "</style>\n",
       "<table border=\"1\" class=\"dataframe\">\n",
       "  <thead>\n",
       "    <tr style=\"text-align: right;\">\n",
       "      <th></th>\n",
       "      <th>Begin</th>\n",
       "      <th>End</th>\n",
       "      <th>Duration</th>\n",
       "      <th>Max_Flow</th>\n",
       "    </tr>\n",
       "  </thead>\n",
       "  <tbody>\n",
       "    <tr>\n",
       "      <td>0</td>\n",
       "      <td>2019-05-19 09:45:00</td>\n",
       "      <td>2019-05-20 08:45:00</td>\n",
       "      <td>23:00:00</td>\n",
       "      <td>4.33</td>\n",
       "    </tr>\n",
       "    <tr>\n",
       "      <td>1</td>\n",
       "      <td>2019-05-22 03:45:00</td>\n",
       "      <td>2019-05-22 13:45:00</td>\n",
       "      <td>10:00:00</td>\n",
       "      <td>3.40</td>\n",
       "    </tr>\n",
       "  </tbody>\n",
       "</table>\n",
       "</div>"
      ],
      "text/plain": [
       "                Begin                 End Duration  Max_Flow\n",
       "0 2019-05-19 09:45:00 2019-05-20 08:45:00 23:00:00      4.33\n",
       "1 2019-05-22 03:45:00 2019-05-22 13:45:00 10:00:00      3.40"
      ]
     },
     "execution_count": 25,
     "metadata": {},
     "output_type": "execute_result"
    },
    {
     "data": {
      "image/png": "[encoded data removed]",
      "text/plain": [
       "<Figure size 720x360 with 1 Axes>"
      ]
     },
     "execution_count": 25,
     "metadata": {
      "needs_background": "light"
     },
     "output_type": "execute_result"
    }
   ],
   "source": [
    "#Plot figure\n",
    "\n",
    "\n",
    "#Plot figure\n",
    "plt.figure(figsize=(10,5))\n",
    "plt.plot(data.datetime, data.i_flow)\n",
    "plt.plot(AH_IV.datetime, AH_IV.iv_flow)\n",
    "plt.title('SAC Flow')\n",
    "plt.ylabel('Instantaneous Flow ($ft^3$/s)')\n",
    "plt.xticks(rotation='vertical')\n",
    "plt.ylim((0, 60)) \n",
    "plt.axhline(threshold, color='r')\n",
    "#Add max flow points\n",
    "xL = TI.Begin + (TI.End - TI.Begin)/2\n",
    "plt.scatter(xL,TI.Max_Flow, color='black')\n",
    "for i in range(0,len(xL)):\n",
    "    x = xL[i]\n",
    "    y = TI.Max_Flow[i]\n",
    "    plt.text(x, y+0.1, str(TI.Max_Flow[i])+\" CFS\", fontsize=12)\n",
    "\n",
    "plt.savefig('SAC_flow.png', dpi=300)\n",
    "\n",
    "#print results\n",
    "print('Exceeded ',threshold,'CFS during these intervals:')\n",
    "TI"
   ]
  },
  {
   "cell_type": "code",
   "execution_count": 27,
   "metadata": {
    "collapsed": false
   },
   "outputs": [
    {
     "ename": "AttributeError",
     "evalue": "'Chat' object has no attribute 'postMessage'",
     "output_type": "error",
     "traceback": [
      "\u001b[1;31m---------------------------------------------------------------------------\u001b[0m",
      "\u001b[1;31mAttributeError\u001b[0m                            Traceback (most recent call last)",
      "\u001b[1;32m<ipython-input-27-2a3660db4f57>\u001b[0m in \u001b[0;36m<module>\u001b[1;34m\u001b[0m\n\u001b[0;32m      1\u001b[0m \u001b[1;31m## Post to Slack\u001b[0m\u001b[1;33m\u001b[0m\u001b[1;33m\u001b[0m\u001b[1;33m\u001b[0m\u001b[0m\n\u001b[0;32m      2\u001b[0m \u001b[1;31m#Save figure\u001b[0m\u001b[1;33m\u001b[0m\u001b[1;33m\u001b[0m\u001b[1;33m\u001b[0m\u001b[0m\n\u001b[1;32m----> 3\u001b[1;33m r = slack.chat.postMessage(channel='test',\n\u001b[0m\u001b[0;32m      4\u001b[0m                             text='SAC flow has exceeded 3 CFS!')\n\u001b[0;32m      5\u001b[0m \u001b[1;33m\u001b[0m\u001b[0m\n",
      "\u001b[1;31mAttributeError\u001b[0m: 'Chat' object has no attribute 'postMessage'"
     ]
    }
   ],
   "source": [
    "## Post to Slack\n",
    "#Save figure\n",
    "r = slack.chat.post_Message(channel='test',\n",
    "                            text='SAC flow has exceeded 3 CFS!')\n",
    "\n",
    "    #Post figure to slack\n",
    "r = slack.files.upload(file_='SAC_flow.png',\n",
    "                           channels=['test'],\n",
    "                           title='Current SAC Flow')"
   ]
  },
  {
   "cell_type": "code",
   "execution_count": 181,
   "metadata": {
    "collapsed": false
   },
   "outputs": [
    {
     "data": {
      "text/plain": [
       "(0, 5)"
      ]
     },
     "execution_count": 181,
     "metadata": {},
     "output_type": "execute_result"
    },
    {
     "data": {
      "image/png": "[encoded data removed]",
      "text/plain": [
       "<Figure size 1440x720 with 1 Axes>"
      ]
     },
     "execution_count": 181,
     "metadata": {
      "needs_background": "light"
     },
     "output_type": "execute_result"
    }
   ],
   "source": [
    "#Plot figure\n",
    "dataDV.columns = ['dv_flow','qualifiers']\n",
    "\n",
    "plt.figure(figsize=(20,10))\n",
    "plt.plot(dataDV.dv_flow)\n",
    "plt.title('SAC Daily AverageFlow')\n",
    "plt.ylabel('Daily Average Flow ($ft^3$/s)')\n",
    "plt.xticks(rotation='vertical')\n",
    "plt.ylim((0, 5)) "
   ]
  }
 ],
 "metadata": {
  "kernelspec": {
   "display_name": "Python 3.9.5 ('netCDF')",
   "language": "python",
   "name": "python3"
  },
  "language_info": {
   "codemirror_mode": {
    "name": "ipython",
    "version": 3
   },
   "file_extension": ".py",
   "mimetype": "text/x-python",
   "name": "python",
   "nbconvert_exporter": "python",
   "pygments_lexer": "ipython3",
   "version": "3.9.5"
  },
  "vscode": {
   "interpreter": {
    "hash": "25881beb8389f97c9e5a0fdd1fc79992adc7e9012b8a7a9d2a9f267825ebb597"
   }
  }
 },
 "nbformat": 4,
 "nbformat_minor": 0
}
