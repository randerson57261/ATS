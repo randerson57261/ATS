{
 "cells": [
  {
   "cell_type": "code",
   "execution_count": 1,
   "metadata": {
    "collapsed": false
   },
   "outputs": [
   ],
   "source": [
    "import pandas as pd\n",
    "import numpy"
   ]
  },
  {
   "cell_type": "code",
   "execution_count": 2,
   "metadata": {
    "collapsed": false
   },
   "outputs": [
   ],
   "source": [
    "#Load in bird reference data\n",
    "bDir = \"Script Support Files\\Reference_Bird.xlsx\"\n",
    "\n",
    "eBird_all = pd.read_excel(bDir, \"eBird_all\")\n",
    "eBird_2015 = pd.read_excel(bDir, \"eBird_2015\")\n",
    "eBird_2014 = pd.read_excel(bDir, \"eBird_2014\")\n",
    "eBird_2013 = pd.read_excel(bDir, \"eBird_2013\")\n",
    "\n",
    "ptBlue_all = pd.read_excel(bDir, \"ptBlue_all\")\n",
    "ptBlue_2015 = pd.read_excel(bDir, \"ptBlue_2015\")\n",
    "ptBlue_2013 = pd.read_excel(bDir, \"ptBlue_2013\")\n",
    "ptBlue_2012 = pd.read_excel(bDir, \"ptBlue_2012\")\n",
    "\n",
    "#Stuff for later in the script....\n",
    "#Names for loops\n",
    "rAbunNames = ['rAbun_eBird_all','rAbun_eBird_2015','rAbun_eBird_2014','rAbun_eBird_2013','rAbun_ptBlue_all','rAbun_ptBlue_2015','rAbun_ptBlue_2013','rAbun_ptBlue_2012']\n",
    "sourceNames = ['eBird_all','eBird_2015','eBird_2014','eBird_2013','ptBlue_all','ptBlue_2015','ptBlue_2013','ptBlue_2012']\n",
    "\n",
    "#Create emtpy dataframe to store results\n",
    "metrics = pd.DataFrame(columns=[\"Richness\",\"Shannon\",\"Simpson\"])"
   ]
  },
  {
   "cell_type": "code",
   "execution_count": 3,
   "metadata": {
    "collapsed": false
   },
   "outputs": [
   ],
   "source": [
    "#Set species to DF index\n",
    "eBird_all.set_index('Species',inplace=True)\n",
    "eBird_2015.set_index('Species',inplace=True)\n",
    "eBird_2014.set_index('Species',inplace=True)\n",
    "eBird_2013.set_index('Species',inplace=True)\n",
    "ptBlue_all.set_index('Species',inplace=True)\n",
    "ptBlue_2015.set_index('Species',inplace=True)\n",
    "ptBlue_2013.set_index('Species',inplace=True)\n",
    "ptBlue_2012.set_index('Species',inplace=True)\n"
   ]
  },
  {
   "cell_type": "code",
   "execution_count": 4,
   "metadata": {
    "collapsed": false
   },
   "outputs": [
   ],
   "source": [
    "#Combine into one df\n",
    "data = eBird_all.join([eBird_2015, eBird_2014, eBird_2013,ptBlue_all,ptBlue_2015,ptBlue_2013,ptBlue_2012])"
   ]
  },
  {
   "cell_type": "code",
   "execution_count": 5,
   "metadata": {
    "collapsed": false,
    "scrolled": true
   },
   "outputs": [
   ],
   "source": [
    "# Richness\n",
    "for itm in sourceNames:\n",
    "    metrics.loc[itm,\"Richness\"] =  data.loc[data[itm] >0,:].index.nunique()"
   ]
  },
  {
   "cell_type": "code",
   "execution_count": 6,
   "metadata": {
    "collapsed": false
   },
   "outputs": [
   ],
   "source": [
    "#Relative Abundance\n",
    "\n",
    "for i in range(0,len(sourceNames)):\n",
    "    data[rAbunNames[i]] = data[sourceNames[i]] / data[sourceNames[i]].sum()"
   ]
  },
  {
   "cell_type": "code",
   "execution_count": 7,
   "metadata": {
    "collapsed": false
   },
   "outputs": [
    {
     "data": {
      "text/html": [
       "<div>\n",
       "<style scoped>\n",
       "    .dataframe tbody tr th:only-of-type {\n",
       "        vertical-align: middle;\n",
       "    }\n",
       "\n",
       "    .dataframe tbody tr th {\n",
       "        vertical-align: top;\n",
       "    }\n",
       "\n",
       "    .dataframe thead th {\n",
       "        text-align: right;\n",
       "    }\n",
       "</style>\n",
       "<table border=\"1\" class=\"dataframe\">\n",
       "  <thead>\n",
       "    <tr style=\"text-align: right;\">\n",
       "      <th></th>\n",
       "      <th>Richness</th>\n",
       "      <th>Shannon</th>\n",
       "      <th>Simpson</th>\n",
       "    </tr>\n",
       "  </thead>\n",
       "  <tbody>\n",
       "    <tr>\n",
       "      <td>eBird_all</td>\n",
       "      <td>235</td>\n",
       "      <td>4.19904</td>\n",
       "      <td>42.3329</td>\n",
       "    </tr>\n",
       "    <tr>\n",
       "      <td>eBird_2015</td>\n",
       "      <td>162</td>\n",
       "      <td>4.07304</td>\n",
       "      <td>37.7388</td>\n",
       "    </tr>\n",
       "    <tr>\n",
       "      <td>eBird_2014</td>\n",
       "      <td>171</td>\n",
       "      <td>4.03321</td>\n",
       "      <td>37.2184</td>\n",
       "    </tr>\n",
       "    <tr>\n",
       "      <td>eBird_2013</td>\n",
       "      <td>171</td>\n",
       "      <td>4.03641</td>\n",
       "      <td>31.9372</td>\n",
       "    </tr>\n",
       "    <tr>\n",
       "      <td>ptBlue_all</td>\n",
       "      <td>118</td>\n",
       "      <td>3.44495</td>\n",
       "      <td>17.7643</td>\n",
       "    </tr>\n",
       "    <tr>\n",
       "      <td>ptBlue_2015</td>\n",
       "      <td>63</td>\n",
       "      <td>3.1232</td>\n",
       "      <td>13.6209</td>\n",
       "    </tr>\n",
       "    <tr>\n",
       "      <td>ptBlue_2013</td>\n",
       "      <td>66</td>\n",
       "      <td>3.33093</td>\n",
       "      <td>19.6794</td>\n",
       "    </tr>\n",
       "    <tr>\n",
       "      <td>ptBlue_2012</td>\n",
       "      <td>77</td>\n",
       "      <td>3.5058</td>\n",
       "      <td>23.2335</td>\n",
       "    </tr>\n",
       "  </tbody>\n",
       "</table>\n",
       "</div>"
      ],
      "text/plain": [
       "            Richness  Shannon  Simpson\n",
       "eBird_all        235  4.19904  42.3329\n",
       "eBird_2015       162  4.07304  37.7388\n",
       "eBird_2014       171  4.03321  37.2184\n",
       "eBird_2013       171  4.03641  31.9372\n",
       "ptBlue_all       118  3.44495  17.7643\n",
       "ptBlue_2015       63   3.1232  13.6209\n",
       "ptBlue_2013       66  3.33093  19.6794\n",
       "ptBlue_2012       77   3.5058  23.2335"
      ]
     },
     "execution_count": 7,
     "metadata": {
     },
     "output_type": "execute_result"
    }
   ],
   "source": [
    "## Diversity indecies, Shannon and Simpson\n",
    "\n",
    "for i in range(0,len(rAbunNames)):\n",
    "    #Shanon\n",
    "    elmt = data[rAbunNames[i]] * numpy.log(data[rAbunNames[i]])\n",
    "    metrics.loc[sourceNames[i],\"Shannon\"] = elmt.sum()*-1\n",
    "\n",
    "    #Simpson\n",
    "    elmt = data[rAbunNames[i]] ** 2\n",
    "    metrics.loc[sourceNames[i],\"Simpson\"] = 1/elmt.sum()\n",
    "    \n",
    "metrics"
   ]
  },
  {
   "cell_type": "code",
   "execution_count": 0,
   "metadata": {
    "collapsed": false
   },
   "outputs": [
   ],
   "source": [
   ]
  }
 ],
 "metadata": {
  "kernelspec": {
   "display_name": "Python 3 (system-wide)",
   "language": "python",
   "metadata": {
    "cocalc": {
     "description": "Python 3 programming language",
     "priority": 100,
     "url": "https://www.python.org/"
    }
   },
   "name": "python3"
  },
  "language_info": {
   "codemirror_mode": {
    "name": "ipython",
    "version": 3
   },
   "file_extension": ".py",
   "mimetype": "text/x-python",
   "name": "python",
   "nbconvert_exporter": "python",
   "pygments_lexer": "ipython3",
   "version": "3.6.9"
  }
 },
 "nbformat": 4,
 "nbformat_minor": 0
}