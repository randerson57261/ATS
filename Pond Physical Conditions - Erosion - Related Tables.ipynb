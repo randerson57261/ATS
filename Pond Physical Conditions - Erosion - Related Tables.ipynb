{
 "cells": [
  {
   "cell_type": "code",
   "execution_count": 1,
   "metadata": {
    "collapsed": false
   },
   "outputs": [
    {
     "name": "stderr",
     "output_type": "stream",
     "text": [
      "2021-10-14 20:33:21.457596: W tensorflow/stream_executor/platform/default/dso_loader.cc:64] Could not load dynamic library 'libcudart.so.11.0'; dlerror: libcudart.so.11.0: cannot open shared object file: No such file or directory\n",
      "2021-10-14 20:33:21.457650: I tensorflow/stream_executor/cuda/cudart_stub.cc:29] Ignore above cudart dlerror if you do not have a GPU set up on your machine.\n"
     ]
    }
   ],
   "source": [
    "#Adds higher directory to path to access /ATS\n",
    "import sys\n",
    "sys.path.append(\"../\")\n",
    "\n",
    "from ATS.general import *\n",
    "from ATS.QAQC import *\n",
    "\n",
    "import pandas as pd\n",
    "\n",
    "# Set the DataFram in pandas to show all columns and 1000 rows. Display plots inline\n",
    "pd.options.display.max_columns = None\n",
    "pd.set_option('display.max_rows', 1000)"
   ]
  },
  {
   "cell_type": "code",
   "execution_count": 2,
   "metadata": {
    "collapsed": false
   },
   "outputs": [
    {
     "data": {
      "text/plain": [
       "None"
      ]
     },
     "execution_count": 2,
     "metadata": {
     },
     "output_type": "execute_result"
    },
    {
     "ename": "AttributeError",
     "evalue": "'NoneType' object has no attribute 'layers'",
     "output_type": "error",
     "traceback": [
      "\u001b[0;31m---------------------------------------------------------------------------\u001b[0m",
      "\u001b[0;31mAttributeError\u001b[0m                            Traceback (most recent call last)",
      "\u001b[0;32m/tmp/ipykernel_5303/4063459842.py\u001b[0m in \u001b[0;36m<module>\u001b[0;34m\u001b[0m\n\u001b[1;32m      1\u001b[0m \u001b[0;31m# Load data from arcGIS online\u001b[0m\u001b[0;34m\u001b[0m\u001b[0;34m\u001b[0m\u001b[0;34m\u001b[0m\u001b[0m\n\u001b[0;32m----> 2\u001b[0;31m \u001b[0moutput\u001b[0m \u001b[0;34m=\u001b[0m \u001b[0marcGIS_data_load\u001b[0m\u001b[0;34m(\u001b[0m\u001b[0;34m'741897d217824c4fb5df9554f2900d58'\u001b[0m\u001b[0;34m)\u001b[0m\u001b[0;34m\u001b[0m\u001b[0;34m\u001b[0m\u001b[0m\n\u001b[0m\u001b[1;32m      3\u001b[0m \u001b[0;34m\u001b[0m\u001b[0m\n\u001b[1;32m      4\u001b[0m \u001b[0mdata\u001b[0m \u001b[0;34m=\u001b[0m \u001b[0moutput\u001b[0m\u001b[0;34m[\u001b[0m\u001b[0;34m'data1'\u001b[0m\u001b[0;34m]\u001b[0m\u001b[0;34m\u001b[0m\u001b[0;34m\u001b[0m\u001b[0m\n\u001b[1;32m      5\u001b[0m \u001b[0mfeature_service\u001b[0m \u001b[0;34m=\u001b[0m \u001b[0moutput\u001b[0m\u001b[0;34m[\u001b[0m\u001b[0;34m'feature_service'\u001b[0m\u001b[0;34m]\u001b[0m\u001b[0;34m\u001b[0m\u001b[0;34m\u001b[0m\u001b[0m\n",
      "\u001b[0;32m~/SAC/../ATS/general.py\u001b[0m in \u001b[0;36marcGIS_data_load\u001b[0;34m(arcGIS_ID, mute)\u001b[0m\n\u001b[1;32m     64\u001b[0m     \u001b[0;31m#Create and add entires to output dictionary\u001b[0m\u001b[0;34m\u001b[0m\u001b[0;34m\u001b[0m\u001b[0;34m\u001b[0m\u001b[0m\n\u001b[1;32m     65\u001b[0m     \u001b[0moutput\u001b[0m \u001b[0;34m=\u001b[0m \u001b[0;34m{\u001b[0m\u001b[0;34m}\u001b[0m \u001b[0;31m#Create empty dictionary\u001b[0m\u001b[0;34m\u001b[0m\u001b[0;34m\u001b[0m\u001b[0m\n\u001b[0;32m---> 66\u001b[0;31m     \u001b[0;32mif\u001b[0m \u001b[0mfeature_service\u001b[0m\u001b[0;34m.\u001b[0m\u001b[0mlayers\u001b[0m\u001b[0;34m:\u001b[0m  \u001b[0;31m#if there are feature layers\u001b[0m\u001b[0;34m\u001b[0m\u001b[0;34m\u001b[0m\u001b[0m\n\u001b[0m\u001b[1;32m     67\u001b[0m         \u001b[0;32mfor\u001b[0m \u001b[0mi\u001b[0m\u001b[0;34m,\u001b[0m \u001b[0mlayer\u001b[0m \u001b[0;32min\u001b[0m \u001b[0menumerate\u001b[0m\u001b[0;34m(\u001b[0m\u001b[0mfeature_service\u001b[0m\u001b[0;34m.\u001b[0m\u001b[0mlayers\u001b[0m\u001b[0;34m)\u001b[0m\u001b[0;34m:\u001b[0m\u001b[0;34m\u001b[0m\u001b[0;34m\u001b[0m\u001b[0m\n\u001b[1;32m     68\u001b[0m             \u001b[0;32mif\u001b[0m \u001b[0mlayer\u001b[0m\u001b[0;34m.\u001b[0m\u001b[0mquery\u001b[0m\u001b[0;34m(\u001b[0m\u001b[0mreturn_count_only\u001b[0m\u001b[0;34m=\u001b[0m\u001b[0;32mTrue\u001b[0m\u001b[0;34m)\u001b[0m \u001b[0;34m>\u001b[0m \u001b[0;36m0\u001b[0m\u001b[0;34m:\u001b[0m \u001b[0;31m#If there are features in feature layer\u001b[0m\u001b[0;34m\u001b[0m\u001b[0;34m\u001b[0m\u001b[0m\n",
      "\u001b[0;31mAttributeError\u001b[0m: 'NoneType' object has no attribute 'layers'"
     ]
    }
   ],
   "source": [
    "# Load data from arcGIS online\n",
    "output = arcGIS_data_load('741897d217824c4fb5df9554f2900d58')\n",
    "\n",
    "data = output['data1']\n",
    "feature_service = output['feature_service']"
   ]
  },
  {
   "cell_type": "code",
   "execution_count": 24,
   "metadata": {
    "collapsed": false
   },
   "outputs": [
    {
     "data": {
      "text/html": [
       "<div>\n",
       "<style scoped>\n",
       "    .dataframe tbody tr th:only-of-type {\n",
       "        vertical-align: middle;\n",
       "    }\n",
       "\n",
       "    .dataframe tbody tr th {\n",
       "        vertical-align: top;\n",
       "    }\n",
       "\n",
       "    .dataframe thead th {\n",
       "        text-align: right;\n",
       "    }\n",
       "</style>\n",
       "<table border=\"1\" class=\"dataframe\">\n",
       "  <thead>\n",
       "    <tr style=\"text-align: right;\">\n",
       "      <th></th>\n",
       "      <th>Point_ID</th>\n",
       "      <th>BHR_Site</th>\n",
       "      <th>Comp_Typ</th>\n",
       "      <th>Habitat</th>\n",
       "      <th>Zone</th>\n",
       "      <th>FieldSeason</th>\n",
       "      <th>SHAPE</th>\n",
       "      <th>Record_ID</th>\n",
       "      <th>Surveyor_1</th>\n",
       "      <th>Surveyor_2</th>\n",
       "      <th>Observation_Date</th>\n",
       "      <th>Species_Sci</th>\n",
       "      <th>Phenology</th>\n",
       "      <th>Cover</th>\n",
       "      <th>Pop_Size</th>\n",
       "      <th>Int_Dist</th>\n",
       "      <th>Comments</th>\n",
       "      <th>Record_GlobalID</th>\n",
       "      <th>Field_Season</th>\n",
       "    </tr>\n",
       "  </thead>\n",
       "  <tbody>\n",
       "    <tr>\n",
       "      <th>0</th>\n",
       "      <td>1</td>\n",
       "      <td>SAC</td>\n",
       "      <td>Rehabilitated</td>\n",
       "      <td>Oak Woodland</td>\n",
       "      <td>6N</td>\n",
       "      <td>Early Season</td>\n",
       "      <td>{'x': 6190520.953044134, 'y': 2037631.1258420688, 'spatialReferenc...</td>\n",
       "      <td>1</td>\n",
       "      <td>Joy Stewart</td>\n",
       "      <td>Marina Olson</td>\n",
       "      <td>2018-06-05 00:14:47</td>\n",
       "      <td>Conium maculatum</td>\n",
       "      <td>juvenile</td>\n",
       "      <td>1-25</td>\n",
       "      <td>1</td>\n",
       "      <td>Homogeneous</td>\n",
       "      <td>Larger patches nearby.</td>\n",
       "      <td>0bd5c648-37d4-47f1-b61e-15185b3d095e</td>\n",
       "      <td>Early Season</td>\n",
       "    </tr>\n",
       "    <tr>\n",
       "      <th>1</th>\n",
       "      <td>1</td>\n",
       "      <td>SAC</td>\n",
       "      <td>Rehabilitated</td>\n",
       "      <td>Oak Woodland</td>\n",
       "      <td>6N</td>\n",
       "      <td>Early Season</td>\n",
       "      <td>{'x': 6190520.953044134, 'y': 2037631.1258420688, 'spatialReferenc...</td>\n",
       "      <td>19</td>\n",
       "      <td>Janel Mayo</td>\n",
       "      <td>Richard Graham-Bruno</td>\n",
       "      <td>2019-06-26 03:05:36</td>\n",
       "      <td>Conium maculatum</td>\n",
       "      <td>None</td>\n",
       "      <td>0</td>\n",
       "      <td>0</td>\n",
       "      <td>None</td>\n",
       "      <td>Larger patches nearby. No COMA in quad, area recently mowed.</td>\n",
       "      <td>fa0ca5e2-b41a-4edd-9759-b8960cbd2be9</td>\n",
       "      <td>Early Season</td>\n",
       "    </tr>\n",
       "    <tr>\n",
       "      <th>2</th>\n",
       "      <td>1</td>\n",
       "      <td>SAC</td>\n",
       "      <td>Rehabilitated</td>\n",
       "      <td>Oak Woodland</td>\n",
       "      <td>6N</td>\n",
       "      <td>Early Season</td>\n",
       "      <td>{'x': 6190520.953044134, 'y': 2037631.1258420688, 'spatialReferenc...</td>\n",
       "      <td>29</td>\n",
       "      <td>Kevin Sherrill</td>\n",
       "      <td>Darian Wong</td>\n",
       "      <td>2020-06-17 16:17:12</td>\n",
       "      <td>Conium maculatum</td>\n",
       "      <td>None</td>\n",
       "      <td>0</td>\n",
       "      <td>0</td>\n",
       "      <td>None</td>\n",
       "      <td>No COMA plants present. Thatch from non-native grasses is present....</td>\n",
       "      <td>0112d371-c827-4af3-bbf5-ba82b686443a</td>\n",
       "      <td>Early Season</td>\n",
       "    </tr>\n",
       "    <tr>\n",
       "      <th>3</th>\n",
       "      <td>1</td>\n",
       "      <td>SAC</td>\n",
       "      <td>Rehabilitated</td>\n",
       "      <td>Oak Woodland</td>\n",
       "      <td>6N</td>\n",
       "      <td>Early Season</td>\n",
       "      <td>{'x': 6190520.953044134, 'y': 2037631.1258420688, 'spatialReferenc...</td>\n",
       "      <td>43</td>\n",
       "      <td>Kevin Sherrill</td>\n",
       "      <td>Roger Stephens</td>\n",
       "      <td>2021-06-30 17:08:00</td>\n",
       "      <td>Conium maculatum</td>\n",
       "      <td>None</td>\n",
       "      <td>0</td>\n",
       "      <td>0</td>\n",
       "      <td>None</td>\n",
       "      <td>No COMA plants present. Thatch from non-native grasses is present....</td>\n",
       "      <td>25f7347f-eaf4-40dc-9442-3f38553dc400</td>\n",
       "      <td>Early Season</td>\n",
       "    </tr>\n",
       "    <tr>\n",
       "      <th>4</th>\n",
       "      <td>2</td>\n",
       "      <td>SAC</td>\n",
       "      <td>Rehabilitated</td>\n",
       "      <td>Sycamore Riparian</td>\n",
       "      <td>5</td>\n",
       "      <td>Early Season</td>\n",
       "      <td>{'x': 6188248.390988213, 'y': 2038139.8728560684, 'spatialReferenc...</td>\n",
       "      <td>2</td>\n",
       "      <td>Joy Stewart</td>\n",
       "      <td>Marina Olson</td>\n",
       "      <td>2018-06-05 00:57:56</td>\n",
       "      <td>Rubus armeniacus</td>\n",
       "      <td>adult/no buds</td>\n",
       "      <td>1-25</td>\n",
       "      <td>1</td>\n",
       "      <td>Homogeneous</td>\n",
       "      <td>Nail was placed directly in center of plot; see photos for details...</td>\n",
       "      <td>4cfdbadd-8435-4cb1-b454-ba7214a412f9</td>\n",
       "      <td>Early Season</td>\n",
       "    </tr>\n",
       "  </tbody>\n",
       "</table>\n",
       "</div>"
      ],
      "text/plain": [
       "   Point_ID BHR_Site       Comp_Typ            Habitat Zone   FieldSeason  \\\n",
       "0         1      SAC  Rehabilitated       Oak Woodland   6N  Early Season   \n",
       "1         1      SAC  Rehabilitated       Oak Woodland   6N  Early Season   \n",
       "2         1      SAC  Rehabilitated       Oak Woodland   6N  Early Season   \n",
       "3         1      SAC  Rehabilitated       Oak Woodland   6N  Early Season   \n",
       "4         2      SAC  Rehabilitated  Sycamore Riparian    5  Early Season   \n",
       "\n",
       "                                                                   SHAPE  \\\n",
       "0  {'x': 6190520.953044134, 'y': 2037631.1258420688, 'spatialReferenc...   \n",
       "1  {'x': 6190520.953044134, 'y': 2037631.1258420688, 'spatialReferenc...   \n",
       "2  {'x': 6190520.953044134, 'y': 2037631.1258420688, 'spatialReferenc...   \n",
       "3  {'x': 6190520.953044134, 'y': 2037631.1258420688, 'spatialReferenc...   \n",
       "4  {'x': 6188248.390988213, 'y': 2038139.8728560684, 'spatialReferenc...   \n",
       "\n",
       "   Record_ID      Surveyor_1            Surveyor_2    Observation_Date  \\\n",
       "0          1     Joy Stewart          Marina Olson 2018-06-05 00:14:47   \n",
       "1         19      Janel Mayo  Richard Graham-Bruno 2019-06-26 03:05:36   \n",
       "2         29  Kevin Sherrill           Darian Wong 2020-06-17 16:17:12   \n",
       "3         43  Kevin Sherrill        Roger Stephens 2021-06-30 17:08:00   \n",
       "4          2     Joy Stewart          Marina Olson 2018-06-05 00:57:56   \n",
       "\n",
       "        Species_Sci      Phenology Cover Pop_Size     Int_Dist  \\\n",
       "0  Conium maculatum       juvenile  1-25        1  Homogeneous   \n",
       "1  Conium maculatum           None     0        0         None   \n",
       "2  Conium maculatum           None     0        0         None   \n",
       "3  Conium maculatum           None     0        0         None   \n",
       "4  Rubus armeniacus  adult/no buds  1-25        1  Homogeneous   \n",
       "\n",
       "                                                                Comments  \\\n",
       "0                                                 Larger patches nearby.   \n",
       "1          Larger patches nearby. No COMA in quad, area recently mowed.    \n",
       "2  No COMA plants present. Thatch from non-native grasses is present....   \n",
       "3  No COMA plants present. Thatch from non-native grasses is present....   \n",
       "4  Nail was placed directly in center of plot; see photos for details...   \n",
       "\n",
       "                        Record_GlobalID  Field_Season  \n",
       "0  0bd5c648-37d4-47f1-b61e-15185b3d095e  Early Season  \n",
       "1  fa0ca5e2-b41a-4edd-9759-b8960cbd2be9  Early Season  \n",
       "2  0112d371-c827-4af3-bbf5-ba82b686443a  Early Season  \n",
       "3  25f7347f-eaf4-40dc-9442-3f38553dc400  Early Season  \n",
       "4  4cfdbadd-8435-4cb1-b454-ba7214a412f9  Early Season  "
      ]
     },
     "execution_count": 24,
     "metadata": {
     },
     "output_type": "execute_result"
    }
   ],
   "source": [
    "data.head()"
   ]
  },
  {
   "cell_type": "code",
   "execution_count": 6,
   "metadata": {
    "collapsed": false,
    "scrolled": true
   },
   "outputs": [
    {
     "name": "stdout",
     "output_type": "stream",
     "text": [
      "Start Year? (YYYY)2018\n",
      "Analysis for 2018-10-01 07:00 UTC to 2019-10-01 07:00 UTC\n",
      "Entries in Subset: 11\n"
     ]
    }
   ],
   "source": [
    "# Subset by year\n",
    "sYear = input(\"Start Year? (YYYY)\")\n",
    "sub = year_subset(data, sYear)\n"
   ]
  },
  {
   "cell_type": "code",
   "execution_count": 7,
   "metadata": {
    "collapsed": false
   },
   "outputs": [
    {
     "data": {
      "text/plain": [
       "Index(['Additional_Surveyors', 'BHR_Site', 'Comments', 'Erosion_Sed',\n",
       "       'Erosion_Severity', 'Erosion_Type', 'Erosion_Type2', 'GlobalID',\n",
       "       'OBJECTID', 'Observation_Date', 'Pond', 'SHAPE', 'Shape__Area',\n",
       "       'Shape__Length', 'Structural_Condition', 'Surveyor_1', 'Surveyor_2'],\n",
       "      dtype='object')"
      ]
     },
     "execution_count": 7,
     "metadata": {
     },
     "output_type": "execute_result"
    }
   ],
   "source": [
    "data.columns"
   ]
  },
  {
   "cell_type": "markdown",
   "metadata": {
    "collapsed": false
   },
   "source": [
    "# QAQC"
   ]
  },
  {
   "cell_type": "code",
   "execution_count": 8,
   "metadata": {
    "collapsed": false
   },
   "outputs": [
    {
     "name": "stdout",
     "output_type": "stream",
     "text": [
      "Name of Object ID Column:  ['OBJECTID']\n",
      "\n",
      "\n",
      "Analysis for: Structural_Condition\n",
      "No \\xa0 characters found\n",
      "No double spaces found\n",
      "No triple spaces found\n",
      "No trailing white space found\n",
      "\n",
      "\n",
      "Analysis for: Comments\n",
      "No \\xa0 characters found\n",
      "No double spaces found\n",
      "No triple spaces found\n",
      "No trailing white space found\n",
      "\n",
      "\n",
      "Analysis for: Additional_Surveyors\n",
      "No \\xa0 characters found\n",
      "No double spaces found\n",
      "No triple spaces found\n",
      "No trailing white space found\n",
      "\n",
      "\n",
      "Analysis for: Pond\n",
      "No \\xa0 characters found\n",
      "No double spaces found\n",
      "No triple spaces found\n",
      "No trailing white space found\n",
      "\n",
      "\n",
      "Analysis for: GlobalID\n",
      "No \\xa0 characters found\n",
      "No double spaces found\n",
      "No triple spaces found\n",
      "No trailing white space found\n",
      "\n",
      "\n",
      "Analysis for: Erosion_Severity\n",
      "No \\xa0 characters found\n",
      "No double spaces found\n",
      "No triple spaces found\n",
      "No trailing white space found\n",
      "\n",
      "\n",
      "Analysis for: Erosion_Type\n",
      "No \\xa0 characters found\n",
      "No double spaces found\n",
      "No triple spaces found\n",
      "No trailing white space found\n",
      "\n",
      "\n",
      "Analysis for: Surveyor_2\n",
      "No \\xa0 characters found\n",
      "No double spaces found\n",
      "No triple spaces found\n",
      "No trailing white space found\n",
      "\n",
      "\n",
      "Analysis for: BHR_Site\n",
      "No \\xa0 characters found\n",
      "No double spaces found\n",
      "No triple spaces found\n",
      "No trailing white space found\n",
      "\n",
      "\n",
      "Analysis for: Erosion_Type2\n",
      "No \\xa0 characters found\n",
      "No double spaces found\n",
      "No triple spaces found\n",
      "No trailing white space found\n",
      "\n",
      "\n",
      "Analysis for: Surveyor_1\n",
      "No \\xa0 characters found\n",
      "No double spaces found\n",
      "No triple spaces found\n",
      "No trailing white space found\n"
     ]
    }
   ],
   "source": [
    "QAQC_whitespace(data, exclude_cols=['Erosion_Sed'])"
   ]
  },
  {
   "cell_type": "code",
   "execution_count": 13,
   "metadata": {
    "collapsed": false
   },
   "outputs": [
    {
     "name": "stdout",
     "output_type": "stream",
     "text": [
      "No blank Pond\n",
      "No blank Shape__Length\n",
      "No blank GlobalID\n",
      "No blank Erosion_Severity\n",
      "No blank Erosion_Type\n",
      "No blank Shape__Area\n",
      "No blank SHAPE\n",
      "No blank Observation_Date\n",
      "No blank OBJECTID\n",
      "No blank BHR_Site\n",
      "No blank Erosion_Sed\n",
      "No blank Surveyor_2\n",
      "No blank Surveyor_1\n"
     ]
    }
   ],
   "source": [
    "find_blank_entries(data, exclude_cols=['Additional_Surveyors','Comments','Erosion_Type2','Structural_Condition'])"
   ]
  },
  {
   "cell_type": "code",
   "execution_count": 14,
   "metadata": {
    "collapsed": false,
    "scrolled": true
   },
   "outputs": [
    {
     "data": {
      "image/png": "[encoded data removed]",
      "text/plain": [
       "<Figure size 1008x2520 with 10 Axes>"
      ]
     },
     "execution_count": 14,
     "metadata": {
     },
     "output_type": "execute_result"
    }
   ],
   "source": [
    "QAQC_plot(sub, ['Additional_Surveyors', 'BHR_Site', \n",
    "       'Erosion_Severity', 'Erosion_Type', 'Erosion_Type2', 'Observation_Date', 'Pond',  \n",
    "       'Structural_Condition', 'Surveyor_1', 'Surveyor_2'])"
   ]
  },
  {
   "cell_type": "code",
   "execution_count": 15,
   "metadata": {
    "collapsed": false
   },
   "outputs": [
   ],
   "source": [
    "field_order = ['BHR_Site',\n",
    "'Observation_Date',\n",
    "'Surveyor_1', \n",
    "'Surveyor_2',\n",
    "'Additional_Surveyors',\n",
    "'Pond',\n",
    "'Erosion_Type', \n",
    "'Erosion_Type2',\n",
    "'Erosion_Severity',\n",
    "'Erosion_Sed',\n",
    "'Structural_Condition',\n",
    "'Comments', \n",
    "'OBJECTID',\n",
    "'GlobalID',\n",
    "'SHAPE',\n",
    "'Shape__Area', \n",
    "'Shape__Length']"
   ]
  },
  {
   "cell_type": "code",
   "execution_count": 16,
   "metadata": {
    "collapsed": false
   },
   "outputs": [
    {
     "name": "stdout",
     "output_type": "stream",
     "text": [
      "Exported to G:/Scripts_Toolboxes/Annual_Report/Outputs/SAC_Pond_Physical_Conditions_Erosion_Data_20191206.xlsx\n"
     ]
    }
   ],
   "source": [
    "export_data_deliverable(data, feature_service, field_order,layer_num=1, file_name='SAC_Pond_Physical_Conditions_Erosion')"
   ]
  },
  {
   "cell_type": "code",
   "execution_count": 0,
   "metadata": {
    "collapsed": false
   },
   "outputs": [
   ],
   "source": [
   ]
  }
 ],
 "metadata": {
  "kernelspec": {
   "display_name": "Python 3 (system-wide)",
   "language": "python",
   "metadata": {
    "cocalc": {
     "description": "Python 3 programming language",
     "priority": 100,
     "url": "https://www.python.org/"
    }
   },
   "name": "python3",
   "resource_dir": "/ext/jupyter/kernels/python3"
  },
  "language_info": {
   "codemirror_mode": {
    "name": "ipython",
    "version": 3
   },
   "file_extension": ".py",
   "mimetype": "text/x-python",
   "name": "python",
   "nbconvert_exporter": "python",
   "pygments_lexer": "ipython3",
   "version": "3.8.10"
  }
 },
 "nbformat": 4,
 "nbformat_minor": 4
}