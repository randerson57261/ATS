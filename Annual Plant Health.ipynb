{
 "cells": [
  {
   "cell_type": "code",
   "execution_count": 1,
   "metadata": {
    "collapsed": false
   },
   "outputs": [
    {
     "name": "stderr",
     "output_type": "stream",
     "text": [
      "2021-12-22 01:11:33.355017: W tensorflow/stream_executor/platform/default/dso_loader.cc:64] Could not load dynamic library 'libcudart.so.11.0'; dlerror: libcudart.so.11.0: cannot open shared object file: No such file or directory\n",
      "2021-12-22 01:11:33.355074: I tensorflow/stream_executor/cuda/cudart_stub.cc:29] Ignore above cudart dlerror if you do not have a GPU set up on your machine.\n"
     ]
    }
   ],
   "source": [
    "#Adds higher directory to path, so we can access /ATS\n",
    "import sys\n",
    "sys.path.append(\"../\")\n",
    "\n",
    "from ATS.general import *\n",
    "from ATS.QAQC import *\n",
    "\n",
    "import pandas as pd\n",
    "\n",
    "# Set the DataFram in pandas to show all columns and 1000 rows. Display plots inline\n",
    "pd.options.display.max_columns = None\n",
    "pd.set_option('display.max_rows', 1000)"
   ]
  },
  {
   "cell_type": "markdown",
   "metadata": {
    "collapsed": false
   },
   "source": [
    "# Load data and subset"
   ]
  },
  {
   "cell_type": "code",
   "execution_count": 2,
   "metadata": {
    "collapsed": false
   },
   "outputs": [
    {
     "data": {
      "text/html": [
       "<div class=\"item_container\" style=\"height: auto; overflow: hidden; border: 1px solid #cfcfcf; border-radius: 2px; background: #f6fafa; line-height: 1.21429em; padding: 10px;\">\n",
       "                    <div class=\"item_left\" style=\"width: 210px; float: left;\">\n",
       "                       <a href='https://A-T-S.maps.arcgis.com/home/item.html?id=f53b7bb25a39449e8dd5fd92af213745' target='_blank'>\n",
       "                        <img src='data:image/png;base64,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' width='200' height='133' class=\"itemThumbnail\">\n",
       "                       </a>\n",
       "                    </div>\n",
       "\n",
       "                    <div class=\"item_right\"     style=\"float: none; width: auto; overflow: hidden;\">\n",
       "                        <a href='https://A-T-S.maps.arcgis.com/home/item.html?id=f53b7bb25a39449e8dd5fd92af213745' target='_blank'><b>SAC_Annual_Plant_Health_Assessment</b>\n",
       "                        </a>\n",
       "                        <br/>SAC_Annual_Plant_Health_Assessment<img src='https://A-T-S.maps.arcgis.com/home/js/jsapi/esri/css/images/item_type_icons/featureshosted16.png' style=\"vertical-align:middle;\">Feature Layer Collection by Anooshi\n",
       "                        <br/>Last Modified: November 08, 2019\n",
       "                        <br/>0 comments, 296 views\n",
       "                    </div>\n",
       "                </div>\n",
       "                "
      ],
      "text/plain": [
       "<Item title:\"SAC_Annual_Plant_Health_Assessment\" type:Feature Layer Collection owner:Anooshi>"
      ]
     },
     "execution_count": 2,
     "metadata": {
     },
     "output_type": "execute_result"
    }
   ],
   "source": [
    "# Load data from arcGIS online\n",
    "output = arcGIS_data_load('f53b7bb25a39449e8dd5fd92af213745')\n",
    "\n",
    "data = output['data0']\n",
    "feature_service = output['feature_service']"
   ]
  },
  {
   "cell_type": "code",
   "execution_count": 3,
   "metadata": {
    "cocalc": {
     "outputs": {
      "0": {
       "name": "input",
       "opts": {
        "password": false,
        "prompt": "Start Year? (YYYY)"
       },
       "output_type": "stream"
      }
     }
    },
    "collapsed": false
   },
   "outputs": [
    {
     "name": "stdout",
     "output_type": "stream",
     "text": "Start Year? (YYYY) "
    }
   ],
   "source": [
    "# Subset data for desired year.\n",
    "data.rename(columns={\"SurveyDate\": \"Observation_Date\"}, inplace=True)\n",
    "sYear = input(\"Start Year? (YYYY)\")\n",
    "sub = year_subset(data,sYear)\n",
    "sub.head()"
   ]
  },
  {
   "cell_type": "markdown",
   "metadata": {
    "collapsed": false
   },
   "source": [
    "# QAQC"
   ]
  },
  {
   "cell_type": "code",
   "execution_count": 0,
   "metadata": {
    "collapsed": false
   },
   "outputs": [
   ],
   "source": [
    "#QAQC Check number of records matches on ArcGIS online\n",
    "print('Subset \\n# of rows:\\n', sub.shape[0])\n",
    "print('# of columns:\\n',sub.shape[1])"
   ]
  },
  {
   "cell_type": "code",
   "execution_count": 0,
   "metadata": {
    "collapsed": false
   },
   "outputs": [
   ],
   "source": [
    "validate_domains(feature_service)\n"
   ]
  },
  {
   "cell_type": "code",
   "execution_count": 0,
   "metadata": {
    "collapsed": false,
    "scrolled": true
   },
   "outputs": [
   ],
   "source": [
    "# QAQC Find blank entries in specific columns\n",
    "\n",
    "find_blank_entries(data,['BHRSite', 'HealthRank','Cankers', 'Comments', 'DeadLeaves',\n",
    "       'DeadPathog', 'DeerBrow', 'Depredated', 'Dormant', 'EnteringDo',\n",
    "       'ExcptRob', 'GlobalID', 'Habitat', 'InsectBrow',\n",
    "       'InsectInfe', 'LeafDiebac', 'LeafSpots', 'LeavesChlo', 'MainStmDeR',\n",
    "       'OBJECTID', 'Oozing', 'PlantStunt', 'PotentialP', 'PrematureL',\n",
    "       'RodentBrow', 'SHAPE', 'ShootBranc', 'StemDiebac', \n",
    "    'Surveyor2', 'Vounteers', 'Wilting'])\n"
   ]
  },
  {
   "cell_type": "code",
   "execution_count": 0,
   "metadata": {
    "collapsed": false
   },
   "outputs": [
   ],
   "source": [
    "# QAQC Find white spaces\n",
    "QAQC_whitespace(data, ['Comments'])"
   ]
  },
  {
   "cell_type": "code",
   "execution_count": 0,
   "metadata": {
    "collapsed": false
   },
   "outputs": [
   ],
   "source": [
    "data.columns"
   ]
  },
  {
   "cell_type": "code",
   "execution_count": 0,
   "metadata": {
    "collapsed": false
   },
   "outputs": [
   ],
   "source": [
    "QAQC_plot(sub,['Habitat', 'BHRSite', 'Observation_Date', 'Surveyor1',\n",
    "       'Surveyor2', 'AliveDead', 'HealthRank', 'ExcptRob', 'PlantStunt',\n",
    "       'EnteringDo', 'Dormant', 'MainStmDeR', 'StemDiebac', 'ShootBranc',\n",
    "       'LeafDiebac', 'LeavesChlo', 'LeafSpots', 'DeadLeaves', 'PrematureL',\n",
    "       'Wilting', 'Cankers', 'Oozing', 'PotentialP', 'InsectInfe', 'DeerBrow',\n",
    "       'RodentBrow', 'InsectBrow', 'Depredated', 'DeadPathog',\n",
    "       'Species','Vounteers'])"
   ]
  },
  {
   "cell_type": "code",
   "execution_count": 0,
   "metadata": {
    "collapsed": false
   },
   "outputs": [
   ],
   "source": [
    "compare_years_catagorical(data,['Surveyor1', 'Species', 'AliveDead', 'HealthRank'], '2019', '2020')"
   ]
  },
  {
   "cell_type": "code",
   "execution_count": 0,
   "metadata": {
    "collapsed": false
   },
   "outputs": [
   ],
   "source": [
    "compare_surveyors(sub, 'HealthRank', 'Surveyor1', 5)"
   ]
  },
  {
   "cell_type": "code",
   "execution_count": 0,
   "metadata": {
    "collapsed": false
   },
   "outputs": [
   ],
   "source": [
    "# Check that Alive entries have no blank health rankings\n",
    "\n",
    "alive_R = data.loc[(data.AliveDead == 'Alive') & (data.HealthRank.isna()),]\n",
    "\n",
    "if not alive_R.empty:\n",
    "    print('ERROR: Alive entries should not have a blank value on HealthRank')\n",
    "    display(alive_R)\n",
    "else:\n",
    "    print('No issues')\n"
   ]
  },
  {
   "cell_type": "code",
   "execution_count": 0,
   "metadata": {
    "collapsed": false
   },
   "outputs": [
   ],
   "source": [
    "# Check that Dead Entries have a blank health ranking.\n",
    "\n",
    "dead_R = data.loc[(data.AliveDead == 'Dead') & (data.HealthRank.notna()),]\n",
    "\n",
    "if not dead_R.empty:\n",
    "    print('ERROR: Dead entries should have a blank value on HealthRank')\n",
    "    display(dead_R)\n",
    "else:\n",
    "    print('No issues')"
   ]
  },
  {
   "cell_type": "code",
   "execution_count": 0,
   "metadata": {
    "collapsed": false
   },
   "outputs": [
   ],
   "source": [
    "QAQC_attachment_filenames(feature_service)"
   ]
  },
  {
   "cell_type": "code",
   "execution_count": 0,
   "metadata": {
    "collapsed": false,
    "scrolled": true
   },
   "outputs": [
   ],
   "source": [
    "#Compare columns of health to health ranking (incomplete)\n",
    "\n",
    "#Create emtpy dataframe\n",
    "results = pd.DataFrame()\n",
    "\n",
    "#Loop through each column\n",
    "for col in ['PlantStunt','MainStmDeR','StemDiebac','ShootBranc','LeafDiebac','LeavesChlo','LeafSpots','DeadLeaves','PrematureL','Wilting','Cankers','Oozing','PotentialP','InsectInfe', 'DeadPathog', 'DeerBrow', 'RodentBrow', 'InsectBrow']:\n",
    "    \n",
    "    #If the column is light/moderate/heavy type\n",
    "    if col in ['DeerBrow','RodentBrow','InsectBrow']:\n",
    "        #Replace light/moderate/heavy with numbers, and store into results dataframe\n",
    "        results[col] = sub.loc[:,col].replace({'Light':.5,'Moderate':.75, 'Heavy':1})\n",
    "    \n",
    "    #Else (yes type columns)\n",
    "    else:\n",
    "        results[col] = sub.loc[:,col] == 'Yes'\n",
    "\n",
    "#sum along rows\n",
    "total = results.sum(axis=1)\n",
    "\n",
    "print(total)"
   ]
  },
  {
   "cell_type": "code",
   "execution_count": 2,
   "metadata": {
    "collapsed": false
   },
   "outputs": [
    {
     "ename": "NameError",
     "evalue": "name 'data' is not defined",
     "output_type": "error",
     "traceback": [
      "\u001b[0;31m---------------------------------------------------------------------------\u001b[0m",
      "\u001b[0;31mNameError\u001b[0m                                 Traceback (most recent call last)",
      "\u001b[0;32m/tmp/ipykernel_33783/3870928973.py\u001b[0m in \u001b[0;36m<module>\u001b[0;34m\u001b[0m\n\u001b[0;32m----> 1\u001b[0;31m \u001b[0mdata\u001b[0m\u001b[0;34m.\u001b[0m\u001b[0mhead\u001b[0m\u001b[0;34m(\u001b[0m\u001b[0;34m)\u001b[0m\u001b[0;34m\u001b[0m\u001b[0;34m\u001b[0m\u001b[0m\n\u001b[0m",
      "\u001b[0;31mNameError\u001b[0m: name 'data' is not defined"
     ]
    }
   ],
   "source": [
    "data.head()"
   ]
  },
  {
   "cell_type": "code",
   "execution_count": 24,
   "metadata": {
    "collapsed": false
   },
   "outputs": [
   ],
   "source": [
    "field_order = ([\n",
    "    'OBJECTID', \n",
    "       'Habitat', \n",
    "       'BHRSite', \n",
    "       'Observation_Date', \n",
    "       'Surveyor1',\n",
    "       'Surveyor2',\n",
    "       'Species', \n",
    "       'AliveDead', \n",
    "       'HealthRank', \n",
    "       'ExcptRob', \n",
    "       'PlantStunt',\n",
    "       'EnteringDo', \n",
    "       'Dormant', \n",
    "       'MainStmDeR', \n",
    "       'StemDiebac', \n",
    "       'ShootBranc',\n",
    "       'LeafDiebac', \n",
    "       'LeavesChlo', \n",
    "       'LeafSpots', \n",
    "       'DeadLeaves', \n",
    "       'PrematureL',\n",
    "       'Wilting', \n",
    "       'Cankers', \n",
    "       'Oozing', \n",
    "       'PotentialP',         \n",
    "       'InsectInfe', \n",
    "       'DeerBrow',\n",
    "       'RodentBrow', \n",
    "       'InsectBrow', \n",
    "       'Depredated', \n",
    "       'DeadPathog', \n",
    "       'Vounteers', \n",
    "       'Comments', \n",
    "       'GlobalID', \n",
    "       'SHAPE'\n",
    "])"
   ]
  },
  {
   "cell_type": "code",
   "execution_count": 1,
   "metadata": {
    "collapsed": false
   },
   "outputs": [
    {
     "ename": "NameError",
     "evalue": "name 'data' is not defined",
     "output_type": "error",
     "traceback": [
      "\u001b[0;31m---------------------------------------------------------------------------\u001b[0m",
      "\u001b[0;31mNameError\u001b[0m                                 Traceback (most recent call last)",
      "\u001b[0;32m/tmp/ipykernel_33783/3434000469.py\u001b[0m in \u001b[0;36m<module>\u001b[0;34m\u001b[0m\n\u001b[0;32m----> 1\u001b[0;31m \u001b[0mdata_to_export\u001b[0m \u001b[0;34m=\u001b[0m \u001b[0mdata\u001b[0m\u001b[0;34m.\u001b[0m\u001b[0mexclude\u001b[0m\u001b[0;34m(\u001b[0m\u001b[0;34m'Year'\u001b[0m\u001b[0;34m,\u001b[0m\u001b[0;34m'month'\u001b[0m\u001b[0;34m)\u001b[0m\u001b[0;34m\u001b[0m\u001b[0;34m\u001b[0m\u001b[0m\n\u001b[0m",
      "\u001b[0;31mNameError\u001b[0m: name 'data' is not defined"
     ]
    }
   ],
   "source": [
    "data_to_export = data.exclude('Year','month')"
   ]
  },
  {
   "cell_type": "code",
   "execution_count": 25,
   "metadata": {
    "collapsed": false
   },
   "outputs": [
    {
     "name": "stdout",
     "output_type": "stream",
     "text": [
      "No Related Table Found\n",
      "Exported to Outputs/SAC_Annual_Plant_Health_Monitoring_Data_20210921.xlsx\n"
     ]
    }
   ],
   "source": [
    "export_data_deliverable(data, feature_service, field_order,file_name='SAC_Annual_Plant_Health_Monitoring')"
   ]
  },
  {
   "cell_type": "code",
   "execution_count": 0,
   "metadata": {
    "collapsed": false
   },
   "outputs": [
   ],
   "source": [
   ]
  }
 ],
 "metadata": {
  "kernelspec": {
   "display_name": "Python 3 (system-wide)",
   "language": "python",
   "metadata": {
    "cocalc": {
     "description": "Python 3 programming language",
     "priority": 100,
     "url": "https://www.python.org/"
    }
   },
   "name": "python3",
   "resource_dir": "/ext/jupyter/kernels/python3"
  },
  "language_info": {
   "codemirror_mode": {
    "name": "ipython",
    "version": 3
   },
   "file_extension": ".py",
   "mimetype": "text/x-python",
   "name": "python",
   "nbconvert_exporter": "python",
   "pygments_lexer": "ipython3",
   "version": "3.8.10"
  }
 },
 "nbformat": 4,
 "nbformat_minor": 4
}